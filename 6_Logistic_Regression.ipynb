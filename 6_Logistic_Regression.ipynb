{
  "nbformat": 4,
  "nbformat_minor": 0,
  "metadata": {
    "colab": {
      "provenance": [],
      "authorship_tag": "ABX9TyMqDIuCyR811WIcgulcvHom",
      "include_colab_link": true
    },
    "kernelspec": {
      "name": "python3",
      "display_name": "Python 3"
    },
    "language_info": {
      "name": "python"
    }
  },
  "cells": [
    {
      "cell_type": "markdown",
      "metadata": {
        "id": "view-in-github",
        "colab_type": "text"
      },
      "source": [
        "<a href=\"https://colab.research.google.com/github/Kapongz/Bootstrap-test/blob/main/6_Logistic_Regression.ipynb\" target=\"_parent\"><img src=\"https://colab.research.google.com/assets/colab-badge.svg\" alt=\"Open In Colab\"/></a>"
      ]
    },
    {
      "cell_type": "markdown",
      "source": [
        "# ຕົວຢ່າງ ການຫາຄວາມເປັນໄປໄດ້ຂອງການສອບເສັງຜ່ານ\n",
        "\n",
        "---\n",
        "\n"
      ],
      "metadata": {
        "id": "GSyEBWuQ51Po"
      }
    },
    {
      "cell_type": "markdown",
      "source": [
        "# ການ Import ແພັກເກັດຕ່າງໆມາໃຊ້ງານ"
      ],
      "metadata": {
        "id": "Uz5uWyjEqE1S"
      }
    },
    {
      "cell_type": "code",
      "execution_count": 2,
      "metadata": {
        "id": "G_HulJyJn_AP"
      },
      "outputs": [],
      "source": [
        "import pandas as pd\n",
        "import numpy as np\n",
        "import matplotlib.pyplot as plt\n",
        "import seaborn as sns\n",
        "%matplotlib inline\n",
        "%config InlineBackend.figure_format='retina'\n"
      ]
    },
    {
      "cell_type": "markdown",
      "source": [
        "# ກວດເບິ່ງ Version ຂອງ pandas,numpy,seaborn ແລະສ້າງໂຕປ່ຽນເກັບຄ່າທີ່ໄດ້ຈາກການໃຊ້ pandas ອ່ານຟາຍຂໍ້ມູນ csv ໃນ github"
      ],
      "metadata": {
        "id": "_ZJciGP9qP5i"
      }
    },
    {
      "cell_type": "code",
      "source": [
        "print(f\"pandas  version = {pd.__version__}\")\n",
        "print(f\"numpy   version = {np.__version__}\")\n",
        "print(f\"seaborn version = {sns.__version__}\")\n",
        "url='https://github.com/prasertcbs/basic-dataset/raw/master/study_hours.csv'\n",
        "df=pd.read_csv(url) #ອ່ານຟາຍຂໍ້ມູນ csv\n",
        "df.T #ສະແດງ Dataframe ໃນແນວນອນ\n"
      ],
      "metadata": {
        "colab": {
          "base_uri": "https://localhost:8080/",
          "height": 167
        },
        "id": "PO5tj_KLoDT_",
        "outputId": "5403e6da-d8fb-4934-f8f1-3c75f9645a89"
      },
      "execution_count": 3,
      "outputs": [
        {
          "output_type": "stream",
          "name": "stdout",
          "text": [
            "pandas  version = 1.3.5\n",
            "numpy   version = 1.21.6\n",
            "seaborn version = 0.11.2\n"
          ]
        },
        {
          "output_type": "execute_result",
          "data": {
            "text/plain": [
              "        0     1    2     3    4     5     6    7     8    9     10   11    12  \\\n",
              "Hours  0.5  0.75  1.0  1.25  1.5  1.75  1.75  2.0  2.25  2.5  2.75  3.0  3.25   \n",
              "Pass   0.0  0.00  0.0  0.00  0.0  0.00  1.00  0.0  1.00  0.0  1.00  0.0  1.00   \n",
              "\n",
              "        13   14    15   16    17   18   19  \n",
              "Hours  3.5  4.0  4.25  4.5  4.75  5.0  5.5  \n",
              "Pass   0.0  1.0  1.00  1.0  1.00  1.0  1.0  "
            ],
            "text/html": [
              "\n",
              "  <div id=\"df-4e722f1e-4c3a-489d-b293-6405a6690cff\">\n",
              "    <div class=\"colab-df-container\">\n",
              "      <div>\n",
              "<style scoped>\n",
              "    .dataframe tbody tr th:only-of-type {\n",
              "        vertical-align: middle;\n",
              "    }\n",
              "\n",
              "    .dataframe tbody tr th {\n",
              "        vertical-align: top;\n",
              "    }\n",
              "\n",
              "    .dataframe thead th {\n",
              "        text-align: right;\n",
              "    }\n",
              "</style>\n",
              "<table border=\"1\" class=\"dataframe\">\n",
              "  <thead>\n",
              "    <tr style=\"text-align: right;\">\n",
              "      <th></th>\n",
              "      <th>0</th>\n",
              "      <th>1</th>\n",
              "      <th>2</th>\n",
              "      <th>3</th>\n",
              "      <th>4</th>\n",
              "      <th>5</th>\n",
              "      <th>6</th>\n",
              "      <th>7</th>\n",
              "      <th>8</th>\n",
              "      <th>9</th>\n",
              "      <th>10</th>\n",
              "      <th>11</th>\n",
              "      <th>12</th>\n",
              "      <th>13</th>\n",
              "      <th>14</th>\n",
              "      <th>15</th>\n",
              "      <th>16</th>\n",
              "      <th>17</th>\n",
              "      <th>18</th>\n",
              "      <th>19</th>\n",
              "    </tr>\n",
              "  </thead>\n",
              "  <tbody>\n",
              "    <tr>\n",
              "      <th>Hours</th>\n",
              "      <td>0.5</td>\n",
              "      <td>0.75</td>\n",
              "      <td>1.0</td>\n",
              "      <td>1.25</td>\n",
              "      <td>1.5</td>\n",
              "      <td>1.75</td>\n",
              "      <td>1.75</td>\n",
              "      <td>2.0</td>\n",
              "      <td>2.25</td>\n",
              "      <td>2.5</td>\n",
              "      <td>2.75</td>\n",
              "      <td>3.0</td>\n",
              "      <td>3.25</td>\n",
              "      <td>3.5</td>\n",
              "      <td>4.0</td>\n",
              "      <td>4.25</td>\n",
              "      <td>4.5</td>\n",
              "      <td>4.75</td>\n",
              "      <td>5.0</td>\n",
              "      <td>5.5</td>\n",
              "    </tr>\n",
              "    <tr>\n",
              "      <th>Pass</th>\n",
              "      <td>0.0</td>\n",
              "      <td>0.00</td>\n",
              "      <td>0.0</td>\n",
              "      <td>0.00</td>\n",
              "      <td>0.0</td>\n",
              "      <td>0.00</td>\n",
              "      <td>1.00</td>\n",
              "      <td>0.0</td>\n",
              "      <td>1.00</td>\n",
              "      <td>0.0</td>\n",
              "      <td>1.00</td>\n",
              "      <td>0.0</td>\n",
              "      <td>1.00</td>\n",
              "      <td>0.0</td>\n",
              "      <td>1.0</td>\n",
              "      <td>1.00</td>\n",
              "      <td>1.0</td>\n",
              "      <td>1.00</td>\n",
              "      <td>1.0</td>\n",
              "      <td>1.0</td>\n",
              "    </tr>\n",
              "  </tbody>\n",
              "</table>\n",
              "</div>\n",
              "      <button class=\"colab-df-convert\" onclick=\"convertToInteractive('df-4e722f1e-4c3a-489d-b293-6405a6690cff')\"\n",
              "              title=\"Convert this dataframe to an interactive table.\"\n",
              "              style=\"display:none;\">\n",
              "        \n",
              "  <svg xmlns=\"http://www.w3.org/2000/svg\" height=\"24px\"viewBox=\"0 0 24 24\"\n",
              "       width=\"24px\">\n",
              "    <path d=\"M0 0h24v24H0V0z\" fill=\"none\"/>\n",
              "    <path d=\"M18.56 5.44l.94 2.06.94-2.06 2.06-.94-2.06-.94-.94-2.06-.94 2.06-2.06.94zm-11 1L8.5 8.5l.94-2.06 2.06-.94-2.06-.94L8.5 2.5l-.94 2.06-2.06.94zm10 10l.94 2.06.94-2.06 2.06-.94-2.06-.94-.94-2.06-.94 2.06-2.06.94z\"/><path d=\"M17.41 7.96l-1.37-1.37c-.4-.4-.92-.59-1.43-.59-.52 0-1.04.2-1.43.59L10.3 9.45l-7.72 7.72c-.78.78-.78 2.05 0 2.83L4 21.41c.39.39.9.59 1.41.59.51 0 1.02-.2 1.41-.59l7.78-7.78 2.81-2.81c.8-.78.8-2.07 0-2.86zM5.41 20L4 18.59l7.72-7.72 1.47 1.35L5.41 20z\"/>\n",
              "  </svg>\n",
              "      </button>\n",
              "      \n",
              "  <style>\n",
              "    .colab-df-container {\n",
              "      display:flex;\n",
              "      flex-wrap:wrap;\n",
              "      gap: 12px;\n",
              "    }\n",
              "\n",
              "    .colab-df-convert {\n",
              "      background-color: #E8F0FE;\n",
              "      border: none;\n",
              "      border-radius: 50%;\n",
              "      cursor: pointer;\n",
              "      display: none;\n",
              "      fill: #1967D2;\n",
              "      height: 32px;\n",
              "      padding: 0 0 0 0;\n",
              "      width: 32px;\n",
              "    }\n",
              "\n",
              "    .colab-df-convert:hover {\n",
              "      background-color: #E2EBFA;\n",
              "      box-shadow: 0px 1px 2px rgba(60, 64, 67, 0.3), 0px 1px 3px 1px rgba(60, 64, 67, 0.15);\n",
              "      fill: #174EA6;\n",
              "    }\n",
              "\n",
              "    [theme=dark] .colab-df-convert {\n",
              "      background-color: #3B4455;\n",
              "      fill: #D2E3FC;\n",
              "    }\n",
              "\n",
              "    [theme=dark] .colab-df-convert:hover {\n",
              "      background-color: #434B5C;\n",
              "      box-shadow: 0px 1px 3px 1px rgba(0, 0, 0, 0.15);\n",
              "      filter: drop-shadow(0px 1px 2px rgba(0, 0, 0, 0.3));\n",
              "      fill: #FFFFFF;\n",
              "    }\n",
              "  </style>\n",
              "\n",
              "      <script>\n",
              "        const buttonEl =\n",
              "          document.querySelector('#df-4e722f1e-4c3a-489d-b293-6405a6690cff button.colab-df-convert');\n",
              "        buttonEl.style.display =\n",
              "          google.colab.kernel.accessAllowed ? 'block' : 'none';\n",
              "\n",
              "        async function convertToInteractive(key) {\n",
              "          const element = document.querySelector('#df-4e722f1e-4c3a-489d-b293-6405a6690cff');\n",
              "          const dataTable =\n",
              "            await google.colab.kernel.invokeFunction('convertToInteractive',\n",
              "                                                     [key], {});\n",
              "          if (!dataTable) return;\n",
              "\n",
              "          const docLinkHtml = 'Like what you see? Visit the ' +\n",
              "            '<a target=\"_blank\" href=https://colab.research.google.com/notebooks/data_table.ipynb>data table notebook</a>'\n",
              "            + ' to learn more about interactive tables.';\n",
              "          element.innerHTML = '';\n",
              "          dataTable['output_type'] = 'display_data';\n",
              "          await google.colab.output.renderOutput(dataTable, element);\n",
              "          const docLink = document.createElement('div');\n",
              "          docLink.innerHTML = docLinkHtml;\n",
              "          element.appendChild(docLink);\n",
              "        }\n",
              "      </script>\n",
              "    </div>\n",
              "  </div>\n",
              "  "
            ]
          },
          "metadata": {},
          "execution_count": 3
        }
      ]
    },
    {
      "cell_type": "markdown",
      "source": [
        "# ສະແດງກາຟໃຊ້ຂໍ້ມູນໃນ df ແກນ x ແມ່ນຄ່າຂອງ Hours ແລະ y ແມ່ນ Pass"
      ],
      "metadata": {
        "id": "1jWtKdVnXIES"
      }
    },
    {
      "cell_type": "code",
      "source": [
        "sns.scatterplot(data=df, x='Hours', y='Pass')"
      ],
      "metadata": {
        "colab": {
          "base_uri": "https://localhost:8080/",
          "height": 296
        },
        "id": "7b5L6z_zoGuP",
        "outputId": "032d2a46-c90f-42e3-f4a7-97be89b67664"
      },
      "execution_count": 4,
      "outputs": [
        {
          "output_type": "execute_result",
          "data": {
            "text/plain": [
              "<matplotlib.axes._subplots.AxesSubplot at 0x7f0eb6251af0>"
            ]
          },
          "metadata": {},
          "execution_count": 4
        },
        {
          "output_type": "display_data",
          "data": {
            "text/plain": [
              "<Figure size 432x288 with 1 Axes>"
            ],
            "image/png": "[encoded data removed]"
          },
          "metadata": {
            "image/png": {
              "width": 385,
              "height": 261
            },
            "needs_background": "light"
          }
        }
      ]
    },
    {
      "cell_type": "markdown",
      "source": [
        "# ເປັນການສະແດງກາຟພ້ອມກັບເສັ້ນ linear regression ພ້ອມກັບກຳນົດຄ່າຕ່າງໆບໍ່ວ່າຈະເປັນ color ແລະ style"
      ],
      "metadata": {
        "id": "0q8PMiPdYUvE"
      }
    },
    {
      "cell_type": "code",
      "source": [
        "sns.lmplot(x='Hours', y='Pass', data=df,\n",
        "           logistic=False, ci=None, height=4, aspect=1.5,\n",
        "           line_kws={'color': 'orange'})\n",
        "plt.axhline(.5, color='red', linestyle='--') #ຟັງຊັນແມ່ນໃຊ້ເພື່ອເພີ່ມເສັ້ນແນວນອນໃສ່ Plot.\n",
        "plt.axvline(2.7, color='green', linestyle='--'); #ຟັງຊັນແມ່ນໃຊ້ເພື່ອເພີ່ມເສັ້ນແນວຕັ້ງໃສ່ Plot.\n"
      ],
      "metadata": {
        "colab": {
          "base_uri": "https://localhost:8080/",
          "height": 296
        },
        "id": "7UMkGLuioIrA",
        "outputId": "6862ad30-83b8-43ca-f3d2-2ec4181374a0"
      },
      "execution_count": 7,
      "outputs": [
        {
          "output_type": "display_data",
          "data": {
            "text/plain": [
              "<Figure size 432x288 with 1 Axes>"
            ],
            "image/png": "[encoded data removed]"
          },
          "metadata": {
            "image/png": {
              "width": 424,
              "height": 279
            },
            "needs_background": "light"
          }
        }
      ]
    },
    {
      "cell_type": "markdown",
      "source": [
        "# ແປ່ງແຖວທີ 19 ໃຫ້ມີຄ່າ Hours = 200 ແລ້ວໃຊ້ເສັ້ນ linear ແບບເກົ່າຄາດຄະເນວ່າມີຈະຄົນຈະຜ່ານ ແລະ ບໍ່ຜ່ານ\n",
        "\n",
        "ຈະສັງເກດເຫັນວ່າຖ້າໃຊ້ແບບເກົ່າຄົນຜ່ານຈະມີພຽງຄົນດຽວ\n",
        "\n"
      ],
      "metadata": {
        "id": "bij0J7NjblWy"
      }
    },
    {
      "cell_type": "code",
      "source": [
        "df.at[19, 'Hours']=200\n",
        "# df.at[19, 'Hours']=5.5 # original data\n",
        "sns.lmplot(x='Hours', y='Pass', data=df,\n",
        "           logistic=False, ci=None, height=4, aspect=1.5,\n",
        "           line_kws={'color': 'orange'})\n",
        "plt.axhline(.5, color='red', linestyle='--');\n"
      ],
      "metadata": {
        "colab": {
          "base_uri": "https://localhost:8080/",
          "height": 296
        },
        "id": "lSj21vAioJPH",
        "outputId": "c778248c-3ead-48ca-ec32-7cf62bc1efe3"
      },
      "execution_count": 9,
      "outputs": [
        {
          "output_type": "display_data",
          "data": {
            "text/plain": [
              "<Figure size 432x288 with 1 Axes>"
            ],
            "image/png": "[encoded data removed]"
          },
          "metadata": {
            "image/png": {
              "width": 424,
              "height": 279
            },
            "needs_background": "light"
          }
        }
      ]
    },
    {
      "cell_type": "markdown",
      "source": [
        "# ປ່ຽນຄ່າກັບມາເປັນ 5.5"
      ],
      "metadata": {
        "id": "NzRHCrm8eb8j"
      }
    },
    {
      "cell_type": "code",
      "source": [
        "\n",
        "# df.at[19, 'Hours']=100\n",
        "df.at[19, 'Hours']=5.5 # original data\n"
      ],
      "metadata": {
        "id": "pJ2StBaNoLlw"
      },
      "execution_count": 10,
      "outputs": []
    },
    {
      "cell_type": "markdown",
      "source": [
        "# ເປັນການສະແດງກາຟພ້ອມກັບເສັ້ນ linear regression ແລ້ວຕັ້ງຄ່າ logitic=True ເພື່ອໃຫ້ເສັ້ນມັນເປັນລັກສະນະໂຄ້ງໄປຕາມ Hours"
      ],
      "metadata": {
        "id": "m4EgwiohfsY8"
      }
    },
    {
      "cell_type": "code",
      "source": [
        "sns.lmplot(x='Hours', y='Pass', data=df,\n",
        "           logistic=True, height=4, aspect=1.5, \n",
        "           line_kws={'color': 'orange'})\n",
        "plt.ylabel('Probability of passing exam')\n",
        "plt.axvline(2.71, color='green', linestyle='--')\n",
        "plt.axhline(.5, color='red', linestyle='--');\n"
      ],
      "metadata": {
        "colab": {
          "base_uri": "https://localhost:8080/",
          "height": 296
        },
        "id": "cte3VUOsoNl4",
        "outputId": "946c6a20-ff76-4bf5-ce88-9dcbcc6737c1"
      },
      "execution_count": 13,
      "outputs": [
        {
          "output_type": "display_data",
          "data": {
            "text/plain": [
              "<Figure size 432x288 with 1 Axes>"
            ],
            "image/png": "[encoded data removed]"
          },
          "metadata": {
            "image/png": {
              "width": 424,
              "height": 279
            },
            "needs_background": "light"
          }
        }
      ]
    },
    {
      "cell_type": "markdown",
      "source": [
        "# ປ່ຽນຄ່າ Hours = 100 ເພື່ອທົດສອບເສັ້ນໂຄ້ງ"
      ],
      "metadata": {
        "id": "JpfjXzj0iTTa"
      }
    },
    {
      "cell_type": "code",
      "source": [
        "\n",
        "df.at[19, 'Hours']=100\n",
        "# df.at[19, 'Hours']=5.5 # original data\n"
      ],
      "metadata": {
        "id": "OypkESkmoRwY"
      },
      "execution_count": 14,
      "outputs": []
    },
    {
      "cell_type": "markdown",
      "source": [
        "# ຈະສັງເກດເຫັນວ່າຈະເລີ່ມຈາກ 0 ຫາ 100"
      ],
      "metadata": {
        "id": "OBzWlwT5ilNR"
      }
    },
    {
      "cell_type": "code",
      "source": [
        "sns.lmplot(x='Hours', y='Pass', data=df,\n",
        "           logistic=True, height=4, aspect=1.5, \n",
        "           line_kws={'color': 'orange'})\n",
        "plt.ylabel('Probability of passing exam')\n",
        "plt.axvline(2.71, color='green', linestyle='--')\n",
        "plt.axhline(.5, color='red', linestyle='--');\n"
      ],
      "metadata": {
        "colab": {
          "base_uri": "https://localhost:8080/",
          "height": 296
        },
        "id": "ylLJjelioTco",
        "outputId": "1e0c8933-e42a-4b81-d6a8-0c6d1a338b41"
      },
      "execution_count": 15,
      "outputs": [
        {
          "output_type": "display_data",
          "data": {
            "text/plain": [
              "<Figure size 432x288 with 1 Axes>"
            ],
            "image/png": "[encoded data removed]"
          },
          "metadata": {
            "image/png": {
              "width": 424,
              "height": 279
            },
            "needs_background": "light"
          }
        }
      ]
    },
    {
      "cell_type": "markdown",
      "source": [
        "# ກັບມາຕັ້ງຄ່າໃຫ້ຂໍ້ມູນແບບເກົ່ງແລະສະແດງອອກມາເປັນແນວນອນ"
      ],
      "metadata": {
        "id": "wbeKrTgwi5Lp"
      }
    },
    {
      "cell_type": "code",
      "source": [
        "df.at[19, 'Hours']=5.5 # original data\n",
        "df.T\n"
      ],
      "metadata": {
        "colab": {
          "base_uri": "https://localhost:8080/",
          "height": 112
        },
        "id": "xUfYaGJBoVyY",
        "outputId": "9a029302-aa6a-42bc-fca8-3dd94c8a49d1"
      },
      "execution_count": 16,
      "outputs": [
        {
          "output_type": "execute_result",
          "data": {
            "text/plain": [
              "        0     1    2     3    4     5     6    7     8    9     10   11    12  \\\n",
              "Hours  0.5  0.75  1.0  1.25  1.5  1.75  1.75  2.0  2.25  2.5  2.75  3.0  3.25   \n",
              "Pass   0.0  0.00  0.0  0.00  0.0  0.00  1.00  0.0  1.00  0.0  1.00  0.0  1.00   \n",
              "\n",
              "        13   14    15   16    17   18   19  \n",
              "Hours  3.5  4.0  4.25  4.5  4.75  5.0  5.5  \n",
              "Pass   0.0  1.0  1.00  1.0  1.00  1.0  1.0  "
            ],
            "text/html": [
              "\n",
              "  <div id=\"df-3a48f292-32d4-49eb-a614-471e136cc18a\">\n",
              "    <div class=\"colab-df-container\">\n",
              "      <div>\n",
              "<style scoped>\n",
              "    .dataframe tbody tr th:only-of-type {\n",
              "        vertical-align: middle;\n",
              "    }\n",
              "\n",
              "    .dataframe tbody tr th {\n",
              "        vertical-align: top;\n",
              "    }\n",
              "\n",
              "    .dataframe thead th {\n",
              "        text-align: right;\n",
              "    }\n",
              "</style>\n",
              "<table border=\"1\" class=\"dataframe\">\n",
              "  <thead>\n",
              "    <tr style=\"text-align: right;\">\n",
              "      <th></th>\n",
              "      <th>0</th>\n",
              "      <th>1</th>\n",
              "      <th>2</th>\n",
              "      <th>3</th>\n",
              "      <th>4</th>\n",
              "      <th>5</th>\n",
              "      <th>6</th>\n",
              "      <th>7</th>\n",
              "      <th>8</th>\n",
              "      <th>9</th>\n",
              "      <th>10</th>\n",
              "      <th>11</th>\n",
              "      <th>12</th>\n",
              "      <th>13</th>\n",
              "      <th>14</th>\n",
              "      <th>15</th>\n",
              "      <th>16</th>\n",
              "      <th>17</th>\n",
              "      <th>18</th>\n",
              "      <th>19</th>\n",
              "    </tr>\n",
              "  </thead>\n",
              "  <tbody>\n",
              "    <tr>\n",
              "      <th>Hours</th>\n",
              "      <td>0.5</td>\n",
              "      <td>0.75</td>\n",
              "      <td>1.0</td>\n",
              "      <td>1.25</td>\n",
              "      <td>1.5</td>\n",
              "      <td>1.75</td>\n",
              "      <td>1.75</td>\n",
              "      <td>2.0</td>\n",
              "      <td>2.25</td>\n",
              "      <td>2.5</td>\n",
              "      <td>2.75</td>\n",
              "      <td>3.0</td>\n",
              "      <td>3.25</td>\n",
              "      <td>3.5</td>\n",
              "      <td>4.0</td>\n",
              "      <td>4.25</td>\n",
              "      <td>4.5</td>\n",
              "      <td>4.75</td>\n",
              "      <td>5.0</td>\n",
              "      <td>5.5</td>\n",
              "    </tr>\n",
              "    <tr>\n",
              "      <th>Pass</th>\n",
              "      <td>0.0</td>\n",
              "      <td>0.00</td>\n",
              "      <td>0.0</td>\n",
              "      <td>0.00</td>\n",
              "      <td>0.0</td>\n",
              "      <td>0.00</td>\n",
              "      <td>1.00</td>\n",
              "      <td>0.0</td>\n",
              "      <td>1.00</td>\n",
              "      <td>0.0</td>\n",
              "      <td>1.00</td>\n",
              "      <td>0.0</td>\n",
              "      <td>1.00</td>\n",
              "      <td>0.0</td>\n",
              "      <td>1.0</td>\n",
              "      <td>1.00</td>\n",
              "      <td>1.0</td>\n",
              "      <td>1.00</td>\n",
              "      <td>1.0</td>\n",
              "      <td>1.0</td>\n",
              "    </tr>\n",
              "  </tbody>\n",
              "</table>\n",
              "</div>\n",
              "      <button class=\"colab-df-convert\" onclick=\"convertToInteractive('df-3a48f292-32d4-49eb-a614-471e136cc18a')\"\n",
              "              title=\"Convert this dataframe to an interactive table.\"\n",
              "              style=\"display:none;\">\n",
              "        \n",
              "  <svg xmlns=\"http://www.w3.org/2000/svg\" height=\"24px\"viewBox=\"0 0 24 24\"\n",
              "       width=\"24px\">\n",
              "    <path d=\"M0 0h24v24H0V0z\" fill=\"none\"/>\n",
              "    <path d=\"M18.56 5.44l.94 2.06.94-2.06 2.06-.94-2.06-.94-.94-2.06-.94 2.06-2.06.94zm-11 1L8.5 8.5l.94-2.06 2.06-.94-2.06-.94L8.5 2.5l-.94 2.06-2.06.94zm10 10l.94 2.06.94-2.06 2.06-.94-2.06-.94-.94-2.06-.94 2.06-2.06.94z\"/><path d=\"M17.41 7.96l-1.37-1.37c-.4-.4-.92-.59-1.43-.59-.52 0-1.04.2-1.43.59L10.3 9.45l-7.72 7.72c-.78.78-.78 2.05 0 2.83L4 21.41c.39.39.9.59 1.41.59.51 0 1.02-.2 1.41-.59l7.78-7.78 2.81-2.81c.8-.78.8-2.07 0-2.86zM5.41 20L4 18.59l7.72-7.72 1.47 1.35L5.41 20z\"/>\n",
              "  </svg>\n",
              "      </button>\n",
              "      \n",
              "  <style>\n",
              "    .colab-df-container {\n",
              "      display:flex;\n",
              "      flex-wrap:wrap;\n",
              "      gap: 12px;\n",
              "    }\n",
              "\n",
              "    .colab-df-convert {\n",
              "      background-color: #E8F0FE;\n",
              "      border: none;\n",
              "      border-radius: 50%;\n",
              "      cursor: pointer;\n",
              "      display: none;\n",
              "      fill: #1967D2;\n",
              "      height: 32px;\n",
              "      padding: 0 0 0 0;\n",
              "      width: 32px;\n",
              "    }\n",
              "\n",
              "    .colab-df-convert:hover {\n",
              "      background-color: #E2EBFA;\n",
              "      box-shadow: 0px 1px 2px rgba(60, 64, 67, 0.3), 0px 1px 3px 1px rgba(60, 64, 67, 0.15);\n",
              "      fill: #174EA6;\n",
              "    }\n",
              "\n",
              "    [theme=dark] .colab-df-convert {\n",
              "      background-color: #3B4455;\n",
              "      fill: #D2E3FC;\n",
              "    }\n",
              "\n",
              "    [theme=dark] .colab-df-convert:hover {\n",
              "      background-color: #434B5C;\n",
              "      box-shadow: 0px 1px 3px 1px rgba(0, 0, 0, 0.15);\n",
              "      filter: drop-shadow(0px 1px 2px rgba(0, 0, 0, 0.3));\n",
              "      fill: #FFFFFF;\n",
              "    }\n",
              "  </style>\n",
              "\n",
              "      <script>\n",
              "        const buttonEl =\n",
              "          document.querySelector('#df-3a48f292-32d4-49eb-a614-471e136cc18a button.colab-df-convert');\n",
              "        buttonEl.style.display =\n",
              "          google.colab.kernel.accessAllowed ? 'block' : 'none';\n",
              "\n",
              "        async function convertToInteractive(key) {\n",
              "          const element = document.querySelector('#df-3a48f292-32d4-49eb-a614-471e136cc18a');\n",
              "          const dataTable =\n",
              "            await google.colab.kernel.invokeFunction('convertToInteractive',\n",
              "                                                     [key], {});\n",
              "          if (!dataTable) return;\n",
              "\n",
              "          const docLinkHtml = 'Like what you see? Visit the ' +\n",
              "            '<a target=\"_blank\" href=https://colab.research.google.com/notebooks/data_table.ipynb>data table notebook</a>'\n",
              "            + ' to learn more about interactive tables.';\n",
              "          element.innerHTML = '';\n",
              "          dataTable['output_type'] = 'display_data';\n",
              "          await google.colab.output.renderOutput(dataTable, element);\n",
              "          const docLink = document.createElement('div');\n",
              "          docLink.innerHTML = docLinkHtml;\n",
              "          element.appendChild(docLink);\n",
              "        }\n",
              "      </script>\n",
              "    </div>\n",
              "  </div>\n",
              "  "
            ]
          },
          "metadata": {},
          "execution_count": 16
        }
      ]
    },
    {
      "cell_type": "markdown",
      "source": [
        "# ໃຊ້  statsmodels ໃນການຄາດຄະເນ\n",
        "statsmodels ແມ່ນ Python library ທີ່ສະຫນອງ classes ແລະ functions ສໍາລັບການຄາດຄະເນ"
      ],
      "metadata": {
        "id": "Ak3my43voYLI"
      }
    },
    {
      "cell_type": "code",
      "source": [
        "from patsy import dmatrices #ເອີ້ນໃຊ້ dmatrices ຈາກ patsy\n",
        "import statsmodels.api as sm #ເອີ້ນໃຊ້ statsmodels.api ສ້າງໂຕປ່ຽນເປັນ sm\n"
      ],
      "metadata": {
        "id": "2ihb-LJqobxX"
      },
      "execution_count": 18,
      "outputs": []
    },
    {
      "cell_type": "markdown",
      "source": [
        "# ໃຊ້ dmatrices ສ້າງ Data ສຳຫຼັບລັນ Logistic regressiion ຂອງ statmodels ແລ້ວມັນຈະສົ່ງຄ່າມາເປັນ Dataframe ແລ້ວມີຄ່າ Intercept ນຳເກັບໄວ້ໃນ x,y"
      ],
      "metadata": {
        "id": "Bhext3pCkvB6"
      }
    },
    {
      "cell_type": "code",
      "source": [
        "y, X = dmatrices('Pass ~ Hours', data=df, return_type = 'dataframe') # with Intercept column\n",
        "# y, X = dmatrices('Pass ~ Hours - 1', df, return_type = 'dataframe') # no Intercept column\n"
      ],
      "metadata": {
        "id": "NTI_uPfboeIw"
      },
      "execution_count": 19,
      "outputs": []
    },
    {
      "cell_type": "markdown",
      "source": [
        "# ສະແດງຄ່າ X"
      ],
      "metadata": {
        "id": "Z0UFz7H3ll2D"
      }
    },
    {
      "cell_type": "code",
      "source": [
        "X.head()"
      ],
      "metadata": {
        "colab": {
          "base_uri": "https://localhost:8080/",
          "height": 206
        },
        "id": "dcpwS_2gogSP",
        "outputId": "90416fab-2147-414b-cfe5-24e805c6c337"
      },
      "execution_count": 20,
      "outputs": [
        {
          "output_type": "execute_result",
          "data": {
            "text/plain": [
              "   Intercept  Hours\n",
              "0        1.0   0.50\n",
              "1        1.0   0.75\n",
              "2        1.0   1.00\n",
              "3        1.0   1.25\n",
              "4        1.0   1.50"
            ],
            "text/html": [
              "\n",
              "  <div id=\"df-0a4af0dd-09c1-482e-806a-b100a4950369\">\n",
              "    <div class=\"colab-df-container\">\n",
              "      <div>\n",
              "<style scoped>\n",
              "    .dataframe tbody tr th:only-of-type {\n",
              "        vertical-align: middle;\n",
              "    }\n",
              "\n",
              "    .dataframe tbody tr th {\n",
              "        vertical-align: top;\n",
              "    }\n",
              "\n",
              "    .dataframe thead th {\n",
              "        text-align: right;\n",
              "    }\n",
              "</style>\n",
              "<table border=\"1\" class=\"dataframe\">\n",
              "  <thead>\n",
              "    <tr style=\"text-align: right;\">\n",
              "      <th></th>\n",
              "      <th>Intercept</th>\n",
              "      <th>Hours</th>\n",
              "    </tr>\n",
              "  </thead>\n",
              "  <tbody>\n",
              "    <tr>\n",
              "      <th>0</th>\n",
              "      <td>1.0</td>\n",
              "      <td>0.50</td>\n",
              "    </tr>\n",
              "    <tr>\n",
              "      <th>1</th>\n",
              "      <td>1.0</td>\n",
              "      <td>0.75</td>\n",
              "    </tr>\n",
              "    <tr>\n",
              "      <th>2</th>\n",
              "      <td>1.0</td>\n",
              "      <td>1.00</td>\n",
              "    </tr>\n",
              "    <tr>\n",
              "      <th>3</th>\n",
              "      <td>1.0</td>\n",
              "      <td>1.25</td>\n",
              "    </tr>\n",
              "    <tr>\n",
              "      <th>4</th>\n",
              "      <td>1.0</td>\n",
              "      <td>1.50</td>\n",
              "    </tr>\n",
              "  </tbody>\n",
              "</table>\n",
              "</div>\n",
              "      <button class=\"colab-df-convert\" onclick=\"convertToInteractive('df-0a4af0dd-09c1-482e-806a-b100a4950369')\"\n",
              "              title=\"Convert this dataframe to an interactive table.\"\n",
              "              style=\"display:none;\">\n",
              "        \n",
              "  <svg xmlns=\"http://www.w3.org/2000/svg\" height=\"24px\"viewBox=\"0 0 24 24\"\n",
              "       width=\"24px\">\n",
              "    <path d=\"M0 0h24v24H0V0z\" fill=\"none\"/>\n",
              "    <path d=\"M18.56 5.44l.94 2.06.94-2.06 2.06-.94-2.06-.94-.94-2.06-.94 2.06-2.06.94zm-11 1L8.5 8.5l.94-2.06 2.06-.94-2.06-.94L8.5 2.5l-.94 2.06-2.06.94zm10 10l.94 2.06.94-2.06 2.06-.94-2.06-.94-.94-2.06-.94 2.06-2.06.94z\"/><path d=\"M17.41 7.96l-1.37-1.37c-.4-.4-.92-.59-1.43-.59-.52 0-1.04.2-1.43.59L10.3 9.45l-7.72 7.72c-.78.78-.78 2.05 0 2.83L4 21.41c.39.39.9.59 1.41.59.51 0 1.02-.2 1.41-.59l7.78-7.78 2.81-2.81c.8-.78.8-2.07 0-2.86zM5.41 20L4 18.59l7.72-7.72 1.47 1.35L5.41 20z\"/>\n",
              "  </svg>\n",
              "      </button>\n",
              "      \n",
              "  <style>\n",
              "    .colab-df-container {\n",
              "      display:flex;\n",
              "      flex-wrap:wrap;\n",
              "      gap: 12px;\n",
              "    }\n",
              "\n",
              "    .colab-df-convert {\n",
              "      background-color: #E8F0FE;\n",
              "      border: none;\n",
              "      border-radius: 50%;\n",
              "      cursor: pointer;\n",
              "      display: none;\n",
              "      fill: #1967D2;\n",
              "      height: 32px;\n",
              "      padding: 0 0 0 0;\n",
              "      width: 32px;\n",
              "    }\n",
              "\n",
              "    .colab-df-convert:hover {\n",
              "      background-color: #E2EBFA;\n",
              "      box-shadow: 0px 1px 2px rgba(60, 64, 67, 0.3), 0px 1px 3px 1px rgba(60, 64, 67, 0.15);\n",
              "      fill: #174EA6;\n",
              "    }\n",
              "\n",
              "    [theme=dark] .colab-df-convert {\n",
              "      background-color: #3B4455;\n",
              "      fill: #D2E3FC;\n",
              "    }\n",
              "\n",
              "    [theme=dark] .colab-df-convert:hover {\n",
              "      background-color: #434B5C;\n",
              "      box-shadow: 0px 1px 3px 1px rgba(0, 0, 0, 0.15);\n",
              "      filter: drop-shadow(0px 1px 2px rgba(0, 0, 0, 0.3));\n",
              "      fill: #FFFFFF;\n",
              "    }\n",
              "  </style>\n",
              "\n",
              "      <script>\n",
              "        const buttonEl =\n",
              "          document.querySelector('#df-0a4af0dd-09c1-482e-806a-b100a4950369 button.colab-df-convert');\n",
              "        buttonEl.style.display =\n",
              "          google.colab.kernel.accessAllowed ? 'block' : 'none';\n",
              "\n",
              "        async function convertToInteractive(key) {\n",
              "          const element = document.querySelector('#df-0a4af0dd-09c1-482e-806a-b100a4950369');\n",
              "          const dataTable =\n",
              "            await google.colab.kernel.invokeFunction('convertToInteractive',\n",
              "                                                     [key], {});\n",
              "          if (!dataTable) return;\n",
              "\n",
              "          const docLinkHtml = 'Like what you see? Visit the ' +\n",
              "            '<a target=\"_blank\" href=https://colab.research.google.com/notebooks/data_table.ipynb>data table notebook</a>'\n",
              "            + ' to learn more about interactive tables.';\n",
              "          element.innerHTML = '';\n",
              "          dataTable['output_type'] = 'display_data';\n",
              "          await google.colab.output.renderOutput(dataTable, element);\n",
              "          const docLink = document.createElement('div');\n",
              "          docLink.innerHTML = docLinkHtml;\n",
              "          element.appendChild(docLink);\n",
              "        }\n",
              "      </script>\n",
              "    </div>\n",
              "  </div>\n",
              "  "
            ]
          },
          "metadata": {},
          "execution_count": 20
        }
      ]
    },
    {
      "cell_type": "markdown",
      "source": [
        "# ສະແດງຄ່າ y"
      ],
      "metadata": {
        "id": "KNOYa2TmltRy"
      }
    },
    {
      "cell_type": "code",
      "source": [
        "y.head()"
      ],
      "metadata": {
        "colab": {
          "base_uri": "https://localhost:8080/",
          "height": 206
        },
        "id": "wkIRMjSCojKf",
        "outputId": "df64511d-3792-4684-cf60-7a5ffbeea8a8"
      },
      "execution_count": 21,
      "outputs": [
        {
          "output_type": "execute_result",
          "data": {
            "text/plain": [
              "   Pass\n",
              "0   0.0\n",
              "1   0.0\n",
              "2   0.0\n",
              "3   0.0\n",
              "4   0.0"
            ],
            "text/html": [
              "\n",
              "  <div id=\"df-bb85698f-58a4-45d5-90be-3ab69bcd7117\">\n",
              "    <div class=\"colab-df-container\">\n",
              "      <div>\n",
              "<style scoped>\n",
              "    .dataframe tbody tr th:only-of-type {\n",
              "        vertical-align: middle;\n",
              "    }\n",
              "\n",
              "    .dataframe tbody tr th {\n",
              "        vertical-align: top;\n",
              "    }\n",
              "\n",
              "    .dataframe thead th {\n",
              "        text-align: right;\n",
              "    }\n",
              "</style>\n",
              "<table border=\"1\" class=\"dataframe\">\n",
              "  <thead>\n",
              "    <tr style=\"text-align: right;\">\n",
              "      <th></th>\n",
              "      <th>Pass</th>\n",
              "    </tr>\n",
              "  </thead>\n",
              "  <tbody>\n",
              "    <tr>\n",
              "      <th>0</th>\n",
              "      <td>0.0</td>\n",
              "    </tr>\n",
              "    <tr>\n",
              "      <th>1</th>\n",
              "      <td>0.0</td>\n",
              "    </tr>\n",
              "    <tr>\n",
              "      <th>2</th>\n",
              "      <td>0.0</td>\n",
              "    </tr>\n",
              "    <tr>\n",
              "      <th>3</th>\n",
              "      <td>0.0</td>\n",
              "    </tr>\n",
              "    <tr>\n",
              "      <th>4</th>\n",
              "      <td>0.0</td>\n",
              "    </tr>\n",
              "  </tbody>\n",
              "</table>\n",
              "</div>\n",
              "      <button class=\"colab-df-convert\" onclick=\"convertToInteractive('df-bb85698f-58a4-45d5-90be-3ab69bcd7117')\"\n",
              "              title=\"Convert this dataframe to an interactive table.\"\n",
              "              style=\"display:none;\">\n",
              "        \n",
              "  <svg xmlns=\"http://www.w3.org/2000/svg\" height=\"24px\"viewBox=\"0 0 24 24\"\n",
              "       width=\"24px\">\n",
              "    <path d=\"M0 0h24v24H0V0z\" fill=\"none\"/>\n",
              "    <path d=\"M18.56 5.44l.94 2.06.94-2.06 2.06-.94-2.06-.94-.94-2.06-.94 2.06-2.06.94zm-11 1L8.5 8.5l.94-2.06 2.06-.94-2.06-.94L8.5 2.5l-.94 2.06-2.06.94zm10 10l.94 2.06.94-2.06 2.06-.94-2.06-.94-.94-2.06-.94 2.06-2.06.94z\"/><path d=\"M17.41 7.96l-1.37-1.37c-.4-.4-.92-.59-1.43-.59-.52 0-1.04.2-1.43.59L10.3 9.45l-7.72 7.72c-.78.78-.78 2.05 0 2.83L4 21.41c.39.39.9.59 1.41.59.51 0 1.02-.2 1.41-.59l7.78-7.78 2.81-2.81c.8-.78.8-2.07 0-2.86zM5.41 20L4 18.59l7.72-7.72 1.47 1.35L5.41 20z\"/>\n",
              "  </svg>\n",
              "      </button>\n",
              "      \n",
              "  <style>\n",
              "    .colab-df-container {\n",
              "      display:flex;\n",
              "      flex-wrap:wrap;\n",
              "      gap: 12px;\n",
              "    }\n",
              "\n",
              "    .colab-df-convert {\n",
              "      background-color: #E8F0FE;\n",
              "      border: none;\n",
              "      border-radius: 50%;\n",
              "      cursor: pointer;\n",
              "      display: none;\n",
              "      fill: #1967D2;\n",
              "      height: 32px;\n",
              "      padding: 0 0 0 0;\n",
              "      width: 32px;\n",
              "    }\n",
              "\n",
              "    .colab-df-convert:hover {\n",
              "      background-color: #E2EBFA;\n",
              "      box-shadow: 0px 1px 2px rgba(60, 64, 67, 0.3), 0px 1px 3px 1px rgba(60, 64, 67, 0.15);\n",
              "      fill: #174EA6;\n",
              "    }\n",
              "\n",
              "    [theme=dark] .colab-df-convert {\n",
              "      background-color: #3B4455;\n",
              "      fill: #D2E3FC;\n",
              "    }\n",
              "\n",
              "    [theme=dark] .colab-df-convert:hover {\n",
              "      background-color: #434B5C;\n",
              "      box-shadow: 0px 1px 3px 1px rgba(0, 0, 0, 0.15);\n",
              "      filter: drop-shadow(0px 1px 2px rgba(0, 0, 0, 0.3));\n",
              "      fill: #FFFFFF;\n",
              "    }\n",
              "  </style>\n",
              "\n",
              "      <script>\n",
              "        const buttonEl =\n",
              "          document.querySelector('#df-bb85698f-58a4-45d5-90be-3ab69bcd7117 button.colab-df-convert');\n",
              "        buttonEl.style.display =\n",
              "          google.colab.kernel.accessAllowed ? 'block' : 'none';\n",
              "\n",
              "        async function convertToInteractive(key) {\n",
              "          const element = document.querySelector('#df-bb85698f-58a4-45d5-90be-3ab69bcd7117');\n",
              "          const dataTable =\n",
              "            await google.colab.kernel.invokeFunction('convertToInteractive',\n",
              "                                                     [key], {});\n",
              "          if (!dataTable) return;\n",
              "\n",
              "          const docLinkHtml = 'Like what you see? Visit the ' +\n",
              "            '<a target=\"_blank\" href=https://colab.research.google.com/notebooks/data_table.ipynb>data table notebook</a>'\n",
              "            + ' to learn more about interactive tables.';\n",
              "          element.innerHTML = '';\n",
              "          dataTable['output_type'] = 'display_data';\n",
              "          await google.colab.output.renderOutput(dataTable, element);\n",
              "          const docLink = document.createElement('div');\n",
              "          docLink.innerHTML = docLinkHtml;\n",
              "          element.appendChild(docLink);\n",
              "        }\n",
              "      </script>\n",
              "    </div>\n",
              "  </div>\n",
              "  "
            ]
          },
          "metadata": {},
          "execution_count": 21
        }
      ]
    },
    {
      "cell_type": "markdown",
      "source": [
        "# model_a (with intercept)\n",
        "ສ້າງໂຕປ່ຽນ model_a ເກັບຄ່າຈາກການໃຊ້ sm.logit ຫາຄ່າຄວາມເປັນໄປໄດ້ມີ model x,y ພາຍໃນ ແລ້ວທຳການເຮັດໃຫ້ຂໍ້ມູນພໍດີເພື່ອນຳໄປໃຊ້ຫຼືເອີ້ນວ່າ fit()\n",
        "ຫຼັງຈາກນັ້ນສະແດງ summary ຂອງໂມເດວມາເບິ່ງ"
      ],
      "metadata": {
        "id": "IsS52Kpll8Wy"
      }
    },
    {
      "cell_type": "code",
      "source": [
        "model_a = sm.Logit(y, X).fit()\n",
        "model_a.summary()\n"
      ],
      "metadata": {
        "colab": {
          "base_uri": "https://localhost:8080/",
          "height": 304
        },
        "id": "My_iI6SHok_P",
        "outputId": "1c852d7b-c12c-4b45-e556-9b03a897d1d5"
      },
      "execution_count": 22,
      "outputs": [
        {
          "output_type": "stream",
          "name": "stdout",
          "text": [
            "Optimization terminated successfully.\n",
            "         Current function value: 0.401494\n",
            "         Iterations 7\n"
          ]
        },
        {
          "output_type": "execute_result",
          "data": {
            "text/plain": [
              "<class 'statsmodels.iolib.summary.Summary'>\n",
              "\"\"\"\n",
              "                           Logit Regression Results                           \n",
              "==============================================================================\n",
              "Dep. Variable:                   Pass   No. Observations:                   20\n",
              "Model:                          Logit   Df Residuals:                       18\n",
              "Method:                           MLE   Df Model:                            1\n",
              "Date:                Wed, 25 Jan 2023   Pseudo R-squ.:                  0.4208\n",
              "Time:                        15:41:04   Log-Likelihood:                -8.0299\n",
              "converged:                       True   LL-Null:                       -13.863\n",
              "Covariance Type:            nonrobust   LLR p-value:                 0.0006365\n",
              "==============================================================================\n",
              "                 coef    std err          z      P>|z|      [0.025      0.975]\n",
              "------------------------------------------------------------------------------\n",
              "Intercept     -4.0777      1.761     -2.316      0.021      -7.529      -0.626\n",
              "Hours          1.5046      0.629      2.393      0.017       0.272       2.737\n",
              "==============================================================================\n",
              "\"\"\""
            ],
            "text/html": [
              "<table class=\"simpletable\">\n",
              "<caption>Logit Regression Results</caption>\n",
              "<tr>\n",
              "  <th>Dep. Variable:</th>         <td>Pass</td>       <th>  No. Observations:  </th>  <td>    20</td>  \n",
              "</tr>\n",
              "<tr>\n",
              "  <th>Model:</th>                 <td>Logit</td>      <th>  Df Residuals:      </th>  <td>    18</td>  \n",
              "</tr>\n",
              "<tr>\n",
              "  <th>Method:</th>                 <td>MLE</td>       <th>  Df Model:          </th>  <td>     1</td>  \n",
              "</tr>\n",
              "<tr>\n",
              "  <th>Date:</th>            <td>Wed, 25 Jan 2023</td> <th>  Pseudo R-squ.:     </th>  <td>0.4208</td>  \n",
              "</tr>\n",
              "<tr>\n",
              "  <th>Time:</th>                <td>15:41:04</td>     <th>  Log-Likelihood:    </th> <td> -8.0299</td> \n",
              "</tr>\n",
              "<tr>\n",
              "  <th>converged:</th>             <td>True</td>       <th>  LL-Null:           </th> <td> -13.863</td> \n",
              "</tr>\n",
              "<tr>\n",
              "  <th>Covariance Type:</th>     <td>nonrobust</td>    <th>  LLR p-value:       </th> <td>0.0006365</td>\n",
              "</tr>\n",
              "</table>\n",
              "<table class=\"simpletable\">\n",
              "<tr>\n",
              "      <td></td>         <th>coef</th>     <th>std err</th>      <th>z</th>      <th>P>|z|</th>  <th>[0.025</th>    <th>0.975]</th>  \n",
              "</tr>\n",
              "<tr>\n",
              "  <th>Intercept</th> <td>   -4.0777</td> <td>    1.761</td> <td>   -2.316</td> <td> 0.021</td> <td>   -7.529</td> <td>   -0.626</td>\n",
              "</tr>\n",
              "<tr>\n",
              "  <th>Hours</th>     <td>    1.5046</td> <td>    0.629</td> <td>    2.393</td> <td> 0.017</td> <td>    0.272</td> <td>    2.737</td>\n",
              "</tr>\n",
              "</table>"
            ]
          },
          "metadata": {},
          "execution_count": 22
        }
      ]
    },
    {
      "cell_type": "code",
      "source": [
        "model_a = sm.Logit(y, X).fit()\n",
        "model_a.summary()\n"
      ],
      "metadata": {
        "colab": {
          "base_uri": "https://localhost:8080/",
          "height": 304
        },
        "id": "i9AharlgonEv",
        "outputId": "ae9f8193-0b7e-4f95-d2a0-5dbf35dde460"
      },
      "execution_count": 23,
      "outputs": [
        {
          "output_type": "stream",
          "name": "stdout",
          "text": [
            "Optimization terminated successfully.\n",
            "         Current function value: 0.401494\n",
            "         Iterations 7\n"
          ]
        },
        {
          "output_type": "execute_result",
          "data": {
            "text/plain": [
              "<class 'statsmodels.iolib.summary.Summary'>\n",
              "\"\"\"\n",
              "                           Logit Regression Results                           \n",
              "==============================================================================\n",
              "Dep. Variable:                   Pass   No. Observations:                   20\n",
              "Model:                          Logit   Df Residuals:                       18\n",
              "Method:                           MLE   Df Model:                            1\n",
              "Date:                Wed, 25 Jan 2023   Pseudo R-squ.:                  0.4208\n",
              "Time:                        15:57:33   Log-Likelihood:                -8.0299\n",
              "converged:                       True   LL-Null:                       -13.863\n",
              "Covariance Type:            nonrobust   LLR p-value:                 0.0006365\n",
              "==============================================================================\n",
              "                 coef    std err          z      P>|z|      [0.025      0.975]\n",
              "------------------------------------------------------------------------------\n",
              "Intercept     -4.0777      1.761     -2.316      0.021      -7.529      -0.626\n",
              "Hours          1.5046      0.629      2.393      0.017       0.272       2.737\n",
              "==============================================================================\n",
              "\"\"\""
            ],
            "text/html": [
              "<table class=\"simpletable\">\n",
              "<caption>Logit Regression Results</caption>\n",
              "<tr>\n",
              "  <th>Dep. Variable:</th>         <td>Pass</td>       <th>  No. Observations:  </th>  <td>    20</td>  \n",
              "</tr>\n",
              "<tr>\n",
              "  <th>Model:</th>                 <td>Logit</td>      <th>  Df Residuals:      </th>  <td>    18</td>  \n",
              "</tr>\n",
              "<tr>\n",
              "  <th>Method:</th>                 <td>MLE</td>       <th>  Df Model:          </th>  <td>     1</td>  \n",
              "</tr>\n",
              "<tr>\n",
              "  <th>Date:</th>            <td>Wed, 25 Jan 2023</td> <th>  Pseudo R-squ.:     </th>  <td>0.4208</td>  \n",
              "</tr>\n",
              "<tr>\n",
              "  <th>Time:</th>                <td>15:57:33</td>     <th>  Log-Likelihood:    </th> <td> -8.0299</td> \n",
              "</tr>\n",
              "<tr>\n",
              "  <th>converged:</th>             <td>True</td>       <th>  LL-Null:           </th> <td> -13.863</td> \n",
              "</tr>\n",
              "<tr>\n",
              "  <th>Covariance Type:</th>     <td>nonrobust</td>    <th>  LLR p-value:       </th> <td>0.0006365</td>\n",
              "</tr>\n",
              "</table>\n",
              "<table class=\"simpletable\">\n",
              "<tr>\n",
              "      <td></td>         <th>coef</th>     <th>std err</th>      <th>z</th>      <th>P>|z|</th>  <th>[0.025</th>    <th>0.975]</th>  \n",
              "</tr>\n",
              "<tr>\n",
              "  <th>Intercept</th> <td>   -4.0777</td> <td>    1.761</td> <td>   -2.316</td> <td> 0.021</td> <td>   -7.529</td> <td>   -0.626</td>\n",
              "</tr>\n",
              "<tr>\n",
              "  <th>Hours</th>     <td>    1.5046</td> <td>    0.629</td> <td>    2.393</td> <td> 0.017</td> <td>    0.272</td> <td>    2.737</td>\n",
              "</tr>\n",
              "</table>"
            ]
          },
          "metadata": {},
          "execution_count": 23
        }
      ]
    },
    {
      "cell_type": "markdown",
      "source": [
        "# ຕົວຢ່າງລອງຄາດຄະເນເບິ່ງວ່າຖ້າສຶກສາບົດຮຽນ 2 ຊົ່ວໂມງ ແລະ 4 ຊົ່ວໂມງ ໂອກາດທີ່ຈະເສັງຜ່ານມີເທົ່າໃດ? ຈະເຫັນວ່າ 2 ຊົ່ວໂມງ = 0.25 ແລະ 4 ຊົ່ວໂມງ = 0.87"
      ],
      "metadata": {
        "id": "9aha9-UWqIQ7"
      }
    },
    {
      "cell_type": "code",
      "source": [
        "model_a.predict([[1, 2], \n",
        "                 [1, 4]])\n"
      ],
      "metadata": {
        "colab": {
          "base_uri": "https://localhost:8080/"
        },
        "id": "g_OzsRsjos_4",
        "outputId": "6dd755fa-b60b-4017-fcbc-9affbcc4109c"
      },
      "execution_count": 24,
      "outputs": [
        {
          "output_type": "execute_result",
          "data": {
            "text/plain": [
              "array([0.25570318, 0.8744475 ])"
            ]
          },
          "metadata": {},
          "execution_count": 24
        }
      ]
    },
    {
      "cell_type": "markdown",
      "source": [
        "# Predict ໂມເດວທີ່ເຮົາມີວ່າຜ່ານຫຼືບໍ່ຜ່ານ"
      ],
      "metadata": {
        "id": "WUCCq7fgrznD"
      }
    },
    {
      "cell_type": "code",
      "source": [
        "\n",
        "model_a.predict(X)\n"
      ],
      "metadata": {
        "colab": {
          "base_uri": "https://localhost:8080/"
        },
        "id": "bBpbonrhoteo",
        "outputId": "5165616b-79db-4848-d0af-3edfe680e375"
      },
      "execution_count": 26,
      "outputs": [
        {
          "output_type": "execute_result",
          "data": {
            "text/plain": [
              "0     0.034710\n",
              "1     0.049773\n",
              "2     0.070892\n",
              "3     0.100029\n",
              "4     0.139344\n",
              "5     0.190837\n",
              "6     0.190837\n",
              "7     0.255703\n",
              "8     0.333530\n",
              "9     0.421627\n",
              "10    0.515011\n",
              "11    0.607359\n",
              "12    0.692617\n",
              "13    0.766481\n",
              "14    0.874448\n",
              "15    0.910278\n",
              "16    0.936624\n",
              "17    0.955611\n",
              "18    0.969097\n",
              "19    0.985194\n",
              "dtype: float64"
            ]
          },
          "metadata": {},
          "execution_count": 26
        }
      ]
    },
    {
      "cell_type": "markdown",
      "source": [
        "# ເປັນການປ່ຽນໂຕເລກໃຫ້ເປັນ 0 ແລະ 1 ໂດຍເອົາຜົນຈາກການຄາດຄະເນມາກວດວ່າຖ້າຄ່າທີ່ຄ່ດຄະເນອອກມານ້ອຍກວ່າ 0.5 ໃຫ້ເທົ່າ 0 ຫຼືບໍ່ກະໃຫ້ເທົ່າ 1 ເພື່ອງ່າຍໃນການນຳໄປໃຊ້ເຮັດ Confusion metrix"
      ],
      "metadata": {
        "id": "bQbQ6d2nslME"
      }
    },
    {
      "cell_type": "code",
      "source": [
        "model_a.predict(X).apply(lambda p: 0 if p < .5 else 1)"
      ],
      "metadata": {
        "colab": {
          "base_uri": "https://localhost:8080/"
        },
        "id": "1ntxpm0BovWp",
        "outputId": "ff9d0554-aebd-43f8-d319-da88db6d69b6"
      },
      "execution_count": 27,
      "outputs": [
        {
          "output_type": "execute_result",
          "data": {
            "text/plain": [
              "0     0\n",
              "1     0\n",
              "2     0\n",
              "3     0\n",
              "4     0\n",
              "5     0\n",
              "6     0\n",
              "7     0\n",
              "8     0\n",
              "9     0\n",
              "10    1\n",
              "11    1\n",
              "12    1\n",
              "13    1\n",
              "14    1\n",
              "15    1\n",
              "16    1\n",
              "17    1\n",
              "18    1\n",
              "19    1\n",
              "dtype: int64"
            ]
          },
          "metadata": {},
          "execution_count": 27
        }
      ]
    },
    {
      "cell_type": "markdown",
      "source": [
        "# ສະແດງຄ່າ Intercept and Hours"
      ],
      "metadata": {
        "id": "9yqRdzwFtzJr"
      }
    },
    {
      "cell_type": "code",
      "source": [
        "model_a.params"
      ],
      "metadata": {
        "colab": {
          "base_uri": "https://localhost:8080/"
        },
        "id": "RDnN7cOHoxio",
        "outputId": "96b23941-823e-4d49-8ef3-d1eb132445a0"
      },
      "execution_count": 28,
      "outputs": [
        {
          "output_type": "execute_result",
          "data": {
            "text/plain": [
              "Intercept   -4.077713\n",
              "Hours        1.504645\n",
              "dtype: float64"
            ]
          },
          "metadata": {},
          "execution_count": 28
        }
      ]
    },
    {
      "cell_type": "markdown",
      "source": [
        "# ສະແດງສະເພາະ Intercept"
      ],
      "metadata": {
        "id": "0OLyY-Pxt6Lr"
      }
    },
    {
      "cell_type": "code",
      "source": [
        "model_a.params['Intercept']"
      ],
      "metadata": {
        "colab": {
          "base_uri": "https://localhost:8080/"
        },
        "id": "03M5SMnUozoB",
        "outputId": "ebd3b056-4ae9-4b11-e15d-24c46c78a7e2"
      },
      "execution_count": 29,
      "outputs": [
        {
          "output_type": "execute_result",
          "data": {
            "text/plain": [
              "-4.077713431087631"
            ]
          },
          "metadata": {},
          "execution_count": 29
        }
      ]
    },
    {
      "cell_type": "markdown",
      "source": [
        "# ສະແດງແບບກຳນົດ index"
      ],
      "metadata": {
        "id": "h7Y9RFjJt_vr"
      }
    },
    {
      "cell_type": "code",
      "source": [
        "model_a.params[0]"
      ],
      "metadata": {
        "colab": {
          "base_uri": "https://localhost:8080/"
        },
        "id": "3rTFQA50o1jI",
        "outputId": "ac375951-7bd1-45f0-bfe4-22a8f145476f"
      },
      "execution_count": 30,
      "outputs": [
        {
          "output_type": "execute_result",
          "data": {
            "text/plain": [
              "-4.077713431087631"
            ]
          },
          "metadata": {},
          "execution_count": 30
        }
      ]
    },
    {
      "cell_type": "markdown",
      "source": [
        "# ສະແດງສະເພາະ Hours"
      ],
      "metadata": {
        "id": "hENfyrfsuIuz"
      }
    },
    {
      "cell_type": "code",
      "source": [
        "model_a.params['Hours']"
      ],
      "metadata": {
        "colab": {
          "base_uri": "https://localhost:8080/"
        },
        "id": "youxuoX8o4iQ",
        "outputId": "6072007f-94fa-4519-e2a9-d3e503e14554"
      },
      "execution_count": 31,
      "outputs": [
        {
          "output_type": "execute_result",
          "data": {
            "text/plain": [
              "1.5046454283733335"
            ]
          },
          "metadata": {},
          "execution_count": 31
        }
      ]
    },
    {
      "cell_type": "markdown",
      "source": [
        "# ສະແດງ Dataframe"
      ],
      "metadata": {
        "id": "KFLINwxRuOIM"
      }
    },
    {
      "cell_type": "code",
      "source": [
        "df"
      ],
      "metadata": {
        "colab": {
          "base_uri": "https://localhost:8080/",
          "height": 676
        },
        "id": "RxCSQFRuo6eh",
        "outputId": "200c3b7d-1c7c-4239-c8bd-f0e1f079d501"
      },
      "execution_count": 32,
      "outputs": [
        {
          "output_type": "execute_result",
          "data": {
            "text/plain": [
              "    Hours  Pass\n",
              "0    0.50     0\n",
              "1    0.75     0\n",
              "2    1.00     0\n",
              "3    1.25     0\n",
              "4    1.50     0\n",
              "5    1.75     0\n",
              "6    1.75     1\n",
              "7    2.00     0\n",
              "8    2.25     1\n",
              "9    2.50     0\n",
              "10   2.75     1\n",
              "11   3.00     0\n",
              "12   3.25     1\n",
              "13   3.50     0\n",
              "14   4.00     1\n",
              "15   4.25     1\n",
              "16   4.50     1\n",
              "17   4.75     1\n",
              "18   5.00     1\n",
              "19   5.50     1"
            ],
            "text/html": [
              "\n",
              "  <div id=\"df-0e656769-33e1-4e83-89f9-73f3c70fc39a\">\n",
              "    <div class=\"colab-df-container\">\n",
              "      <div>\n",
              "<style scoped>\n",
              "    .dataframe tbody tr th:only-of-type {\n",
              "        vertical-align: middle;\n",
              "    }\n",
              "\n",
              "    .dataframe tbody tr th {\n",
              "        vertical-align: top;\n",
              "    }\n",
              "\n",
              "    .dataframe thead th {\n",
              "        text-align: right;\n",
              "    }\n",
              "</style>\n",
              "<table border=\"1\" class=\"dataframe\">\n",
              "  <thead>\n",
              "    <tr style=\"text-align: right;\">\n",
              "      <th></th>\n",
              "      <th>Hours</th>\n",
              "      <th>Pass</th>\n",
              "    </tr>\n",
              "  </thead>\n",
              "  <tbody>\n",
              "    <tr>\n",
              "      <th>0</th>\n",
              "      <td>0.50</td>\n",
              "      <td>0</td>\n",
              "    </tr>\n",
              "    <tr>\n",
              "      <th>1</th>\n",
              "      <td>0.75</td>\n",
              "      <td>0</td>\n",
              "    </tr>\n",
              "    <tr>\n",
              "      <th>2</th>\n",
              "      <td>1.00</td>\n",
              "      <td>0</td>\n",
              "    </tr>\n",
              "    <tr>\n",
              "      <th>3</th>\n",
              "      <td>1.25</td>\n",
              "      <td>0</td>\n",
              "    </tr>\n",
              "    <tr>\n",
              "      <th>4</th>\n",
              "      <td>1.50</td>\n",
              "      <td>0</td>\n",
              "    </tr>\n",
              "    <tr>\n",
              "      <th>5</th>\n",
              "      <td>1.75</td>\n",
              "      <td>0</td>\n",
              "    </tr>\n",
              "    <tr>\n",
              "      <th>6</th>\n",
              "      <td>1.75</td>\n",
              "      <td>1</td>\n",
              "    </tr>\n",
              "    <tr>\n",
              "      <th>7</th>\n",
              "      <td>2.00</td>\n",
              "      <td>0</td>\n",
              "    </tr>\n",
              "    <tr>\n",
              "      <th>8</th>\n",
              "      <td>2.25</td>\n",
              "      <td>1</td>\n",
              "    </tr>\n",
              "    <tr>\n",
              "      <th>9</th>\n",
              "      <td>2.50</td>\n",
              "      <td>0</td>\n",
              "    </tr>\n",
              "    <tr>\n",
              "      <th>10</th>\n",
              "      <td>2.75</td>\n",
              "      <td>1</td>\n",
              "    </tr>\n",
              "    <tr>\n",
              "      <th>11</th>\n",
              "      <td>3.00</td>\n",
              "      <td>0</td>\n",
              "    </tr>\n",
              "    <tr>\n",
              "      <th>12</th>\n",
              "      <td>3.25</td>\n",
              "      <td>1</td>\n",
              "    </tr>\n",
              "    <tr>\n",
              "      <th>13</th>\n",
              "      <td>3.50</td>\n",
              "      <td>0</td>\n",
              "    </tr>\n",
              "    <tr>\n",
              "      <th>14</th>\n",
              "      <td>4.00</td>\n",
              "      <td>1</td>\n",
              "    </tr>\n",
              "    <tr>\n",
              "      <th>15</th>\n",
              "      <td>4.25</td>\n",
              "      <td>1</td>\n",
              "    </tr>\n",
              "    <tr>\n",
              "      <th>16</th>\n",
              "      <td>4.50</td>\n",
              "      <td>1</td>\n",
              "    </tr>\n",
              "    <tr>\n",
              "      <th>17</th>\n",
              "      <td>4.75</td>\n",
              "      <td>1</td>\n",
              "    </tr>\n",
              "    <tr>\n",
              "      <th>18</th>\n",
              "      <td>5.00</td>\n",
              "      <td>1</td>\n",
              "    </tr>\n",
              "    <tr>\n",
              "      <th>19</th>\n",
              "      <td>5.50</td>\n",
              "      <td>1</td>\n",
              "    </tr>\n",
              "  </tbody>\n",
              "</table>\n",
              "</div>\n",
              "      <button class=\"colab-df-convert\" onclick=\"convertToInteractive('df-0e656769-33e1-4e83-89f9-73f3c70fc39a')\"\n",
              "              title=\"Convert this dataframe to an interactive table.\"\n",
              "              style=\"display:none;\">\n",
              "        \n",
              "  <svg xmlns=\"http://www.w3.org/2000/svg\" height=\"24px\"viewBox=\"0 0 24 24\"\n",
              "       width=\"24px\">\n",
              "    <path d=\"M0 0h24v24H0V0z\" fill=\"none\"/>\n",
              "    <path d=\"M18.56 5.44l.94 2.06.94-2.06 2.06-.94-2.06-.94-.94-2.06-.94 2.06-2.06.94zm-11 1L8.5 8.5l.94-2.06 2.06-.94-2.06-.94L8.5 2.5l-.94 2.06-2.06.94zm10 10l.94 2.06.94-2.06 2.06-.94-2.06-.94-.94-2.06-.94 2.06-2.06.94z\"/><path d=\"M17.41 7.96l-1.37-1.37c-.4-.4-.92-.59-1.43-.59-.52 0-1.04.2-1.43.59L10.3 9.45l-7.72 7.72c-.78.78-.78 2.05 0 2.83L4 21.41c.39.39.9.59 1.41.59.51 0 1.02-.2 1.41-.59l7.78-7.78 2.81-2.81c.8-.78.8-2.07 0-2.86zM5.41 20L4 18.59l7.72-7.72 1.47 1.35L5.41 20z\"/>\n",
              "  </svg>\n",
              "      </button>\n",
              "      \n",
              "  <style>\n",
              "    .colab-df-container {\n",
              "      display:flex;\n",
              "      flex-wrap:wrap;\n",
              "      gap: 12px;\n",
              "    }\n",
              "\n",
              "    .colab-df-convert {\n",
              "      background-color: #E8F0FE;\n",
              "      border: none;\n",
              "      border-radius: 50%;\n",
              "      cursor: pointer;\n",
              "      display: none;\n",
              "      fill: #1967D2;\n",
              "      height: 32px;\n",
              "      padding: 0 0 0 0;\n",
              "      width: 32px;\n",
              "    }\n",
              "\n",
              "    .colab-df-convert:hover {\n",
              "      background-color: #E2EBFA;\n",
              "      box-shadow: 0px 1px 2px rgba(60, 64, 67, 0.3), 0px 1px 3px 1px rgba(60, 64, 67, 0.15);\n",
              "      fill: #174EA6;\n",
              "    }\n",
              "\n",
              "    [theme=dark] .colab-df-convert {\n",
              "      background-color: #3B4455;\n",
              "      fill: #D2E3FC;\n",
              "    }\n",
              "\n",
              "    [theme=dark] .colab-df-convert:hover {\n",
              "      background-color: #434B5C;\n",
              "      box-shadow: 0px 1px 3px 1px rgba(0, 0, 0, 0.15);\n",
              "      filter: drop-shadow(0px 1px 2px rgba(0, 0, 0, 0.3));\n",
              "      fill: #FFFFFF;\n",
              "    }\n",
              "  </style>\n",
              "\n",
              "      <script>\n",
              "        const buttonEl =\n",
              "          document.querySelector('#df-0e656769-33e1-4e83-89f9-73f3c70fc39a button.colab-df-convert');\n",
              "        buttonEl.style.display =\n",
              "          google.colab.kernel.accessAllowed ? 'block' : 'none';\n",
              "\n",
              "        async function convertToInteractive(key) {\n",
              "          const element = document.querySelector('#df-0e656769-33e1-4e83-89f9-73f3c70fc39a');\n",
              "          const dataTable =\n",
              "            await google.colab.kernel.invokeFunction('convertToInteractive',\n",
              "                                                     [key], {});\n",
              "          if (!dataTable) return;\n",
              "\n",
              "          const docLinkHtml = 'Like what you see? Visit the ' +\n",
              "            '<a target=\"_blank\" href=https://colab.research.google.com/notebooks/data_table.ipynb>data table notebook</a>'\n",
              "            + ' to learn more about interactive tables.';\n",
              "          element.innerHTML = '';\n",
              "          dataTable['output_type'] = 'display_data';\n",
              "          await google.colab.output.renderOutput(dataTable, element);\n",
              "          const docLink = document.createElement('div');\n",
              "          docLink.innerHTML = docLinkHtml;\n",
              "          element.appendChild(docLink);\n",
              "        }\n",
              "      </script>\n",
              "    </div>\n",
              "  </div>\n",
              "  "
            ]
          },
          "metadata": {},
          "execution_count": 32
        }
      ]
    },
    {
      "cell_type": "markdown",
      "source": [
        "# ສ້າງ predicted ມາສະແດງເປັນອີກຖັນເພື່ອປຽບທຽບວ່າຂອງຈິງກັບໂມເດວຄາດຄະເນວ່າມັນຕ່າງກັນຫຼາຍບໍ່ ໂດຍໃຊ້ lamda ປ່ຽນຄ່າເປັນ 0 ,1 "
      ],
      "metadata": {
        "id": "RQrb6IC3ugts"
      }
    },
    {
      "cell_type": "code",
      "source": [
        "df['predicted']=model_a.predict(X).apply(lambda p: 0 if p < .5 else 1)\n",
        "df\n"
      ],
      "metadata": {
        "colab": {
          "base_uri": "https://localhost:8080/",
          "height": 676
        },
        "id": "_LkM7lXto8WQ",
        "outputId": "bf12bbe2-2409-4788-9d57-3d07c6204761"
      },
      "execution_count": 33,
      "outputs": [
        {
          "output_type": "execute_result",
          "data": {
            "text/plain": [
              "    Hours  Pass  predicted\n",
              "0    0.50     0          0\n",
              "1    0.75     0          0\n",
              "2    1.00     0          0\n",
              "3    1.25     0          0\n",
              "4    1.50     0          0\n",
              "5    1.75     0          0\n",
              "6    1.75     1          0\n",
              "7    2.00     0          0\n",
              "8    2.25     1          0\n",
              "9    2.50     0          0\n",
              "10   2.75     1          1\n",
              "11   3.00     0          1\n",
              "12   3.25     1          1\n",
              "13   3.50     0          1\n",
              "14   4.00     1          1\n",
              "15   4.25     1          1\n",
              "16   4.50     1          1\n",
              "17   4.75     1          1\n",
              "18   5.00     1          1\n",
              "19   5.50     1          1"
            ],
            "text/html": [
              "\n",
              "  <div id=\"df-c06a5484-408b-4f53-8f63-f2b174e502d3\">\n",
              "    <div class=\"colab-df-container\">\n",
              "      <div>\n",
              "<style scoped>\n",
              "    .dataframe tbody tr th:only-of-type {\n",
              "        vertical-align: middle;\n",
              "    }\n",
              "\n",
              "    .dataframe tbody tr th {\n",
              "        vertical-align: top;\n",
              "    }\n",
              "\n",
              "    .dataframe thead th {\n",
              "        text-align: right;\n",
              "    }\n",
              "</style>\n",
              "<table border=\"1\" class=\"dataframe\">\n",
              "  <thead>\n",
              "    <tr style=\"text-align: right;\">\n",
              "      <th></th>\n",
              "      <th>Hours</th>\n",
              "      <th>Pass</th>\n",
              "      <th>predicted</th>\n",
              "    </tr>\n",
              "  </thead>\n",
              "  <tbody>\n",
              "    <tr>\n",
              "      <th>0</th>\n",
              "      <td>0.50</td>\n",
              "      <td>0</td>\n",
              "      <td>0</td>\n",
              "    </tr>\n",
              "    <tr>\n",
              "      <th>1</th>\n",
              "      <td>0.75</td>\n",
              "      <td>0</td>\n",
              "      <td>0</td>\n",
              "    </tr>\n",
              "    <tr>\n",
              "      <th>2</th>\n",
              "      <td>1.00</td>\n",
              "      <td>0</td>\n",
              "      <td>0</td>\n",
              "    </tr>\n",
              "    <tr>\n",
              "      <th>3</th>\n",
              "      <td>1.25</td>\n",
              "      <td>0</td>\n",
              "      <td>0</td>\n",
              "    </tr>\n",
              "    <tr>\n",
              "      <th>4</th>\n",
              "      <td>1.50</td>\n",
              "      <td>0</td>\n",
              "      <td>0</td>\n",
              "    </tr>\n",
              "    <tr>\n",
              "      <th>5</th>\n",
              "      <td>1.75</td>\n",
              "      <td>0</td>\n",
              "      <td>0</td>\n",
              "    </tr>\n",
              "    <tr>\n",
              "      <th>6</th>\n",
              "      <td>1.75</td>\n",
              "      <td>1</td>\n",
              "      <td>0</td>\n",
              "    </tr>\n",
              "    <tr>\n",
              "      <th>7</th>\n",
              "      <td>2.00</td>\n",
              "      <td>0</td>\n",
              "      <td>0</td>\n",
              "    </tr>\n",
              "    <tr>\n",
              "      <th>8</th>\n",
              "      <td>2.25</td>\n",
              "      <td>1</td>\n",
              "      <td>0</td>\n",
              "    </tr>\n",
              "    <tr>\n",
              "      <th>9</th>\n",
              "      <td>2.50</td>\n",
              "      <td>0</td>\n",
              "      <td>0</td>\n",
              "    </tr>\n",
              "    <tr>\n",
              "      <th>10</th>\n",
              "      <td>2.75</td>\n",
              "      <td>1</td>\n",
              "      <td>1</td>\n",
              "    </tr>\n",
              "    <tr>\n",
              "      <th>11</th>\n",
              "      <td>3.00</td>\n",
              "      <td>0</td>\n",
              "      <td>1</td>\n",
              "    </tr>\n",
              "    <tr>\n",
              "      <th>12</th>\n",
              "      <td>3.25</td>\n",
              "      <td>1</td>\n",
              "      <td>1</td>\n",
              "    </tr>\n",
              "    <tr>\n",
              "      <th>13</th>\n",
              "      <td>3.50</td>\n",
              "      <td>0</td>\n",
              "      <td>1</td>\n",
              "    </tr>\n",
              "    <tr>\n",
              "      <th>14</th>\n",
              "      <td>4.00</td>\n",
              "      <td>1</td>\n",
              "      <td>1</td>\n",
              "    </tr>\n",
              "    <tr>\n",
              "      <th>15</th>\n",
              "      <td>4.25</td>\n",
              "      <td>1</td>\n",
              "      <td>1</td>\n",
              "    </tr>\n",
              "    <tr>\n",
              "      <th>16</th>\n",
              "      <td>4.50</td>\n",
              "      <td>1</td>\n",
              "      <td>1</td>\n",
              "    </tr>\n",
              "    <tr>\n",
              "      <th>17</th>\n",
              "      <td>4.75</td>\n",
              "      <td>1</td>\n",
              "      <td>1</td>\n",
              "    </tr>\n",
              "    <tr>\n",
              "      <th>18</th>\n",
              "      <td>5.00</td>\n",
              "      <td>1</td>\n",
              "      <td>1</td>\n",
              "    </tr>\n",
              "    <tr>\n",
              "      <th>19</th>\n",
              "      <td>5.50</td>\n",
              "      <td>1</td>\n",
              "      <td>1</td>\n",
              "    </tr>\n",
              "  </tbody>\n",
              "</table>\n",
              "</div>\n",
              "      <button class=\"colab-df-convert\" onclick=\"convertToInteractive('df-c06a5484-408b-4f53-8f63-f2b174e502d3')\"\n",
              "              title=\"Convert this dataframe to an interactive table.\"\n",
              "              style=\"display:none;\">\n",
              "        \n",
              "  <svg xmlns=\"http://www.w3.org/2000/svg\" height=\"24px\"viewBox=\"0 0 24 24\"\n",
              "       width=\"24px\">\n",
              "    <path d=\"M0 0h24v24H0V0z\" fill=\"none\"/>\n",
              "    <path d=\"M18.56 5.44l.94 2.06.94-2.06 2.06-.94-2.06-.94-.94-2.06-.94 2.06-2.06.94zm-11 1L8.5 8.5l.94-2.06 2.06-.94-2.06-.94L8.5 2.5l-.94 2.06-2.06.94zm10 10l.94 2.06.94-2.06 2.06-.94-2.06-.94-.94-2.06-.94 2.06-2.06.94z\"/><path d=\"M17.41 7.96l-1.37-1.37c-.4-.4-.92-.59-1.43-.59-.52 0-1.04.2-1.43.59L10.3 9.45l-7.72 7.72c-.78.78-.78 2.05 0 2.83L4 21.41c.39.39.9.59 1.41.59.51 0 1.02-.2 1.41-.59l7.78-7.78 2.81-2.81c.8-.78.8-2.07 0-2.86zM5.41 20L4 18.59l7.72-7.72 1.47 1.35L5.41 20z\"/>\n",
              "  </svg>\n",
              "      </button>\n",
              "      \n",
              "  <style>\n",
              "    .colab-df-container {\n",
              "      display:flex;\n",
              "      flex-wrap:wrap;\n",
              "      gap: 12px;\n",
              "    }\n",
              "\n",
              "    .colab-df-convert {\n",
              "      background-color: #E8F0FE;\n",
              "      border: none;\n",
              "      border-radius: 50%;\n",
              "      cursor: pointer;\n",
              "      display: none;\n",
              "      fill: #1967D2;\n",
              "      height: 32px;\n",
              "      padding: 0 0 0 0;\n",
              "      width: 32px;\n",
              "    }\n",
              "\n",
              "    .colab-df-convert:hover {\n",
              "      background-color: #E2EBFA;\n",
              "      box-shadow: 0px 1px 2px rgba(60, 64, 67, 0.3), 0px 1px 3px 1px rgba(60, 64, 67, 0.15);\n",
              "      fill: #174EA6;\n",
              "    }\n",
              "\n",
              "    [theme=dark] .colab-df-convert {\n",
              "      background-color: #3B4455;\n",
              "      fill: #D2E3FC;\n",
              "    }\n",
              "\n",
              "    [theme=dark] .colab-df-convert:hover {\n",
              "      background-color: #434B5C;\n",
              "      box-shadow: 0px 1px 3px 1px rgba(0, 0, 0, 0.15);\n",
              "      filter: drop-shadow(0px 1px 2px rgba(0, 0, 0, 0.3));\n",
              "      fill: #FFFFFF;\n",
              "    }\n",
              "  </style>\n",
              "\n",
              "      <script>\n",
              "        const buttonEl =\n",
              "          document.querySelector('#df-c06a5484-408b-4f53-8f63-f2b174e502d3 button.colab-df-convert');\n",
              "        buttonEl.style.display =\n",
              "          google.colab.kernel.accessAllowed ? 'block' : 'none';\n",
              "\n",
              "        async function convertToInteractive(key) {\n",
              "          const element = document.querySelector('#df-c06a5484-408b-4f53-8f63-f2b174e502d3');\n",
              "          const dataTable =\n",
              "            await google.colab.kernel.invokeFunction('convertToInteractive',\n",
              "                                                     [key], {});\n",
              "          if (!dataTable) return;\n",
              "\n",
              "          const docLinkHtml = 'Like what you see? Visit the ' +\n",
              "            '<a target=\"_blank\" href=https://colab.research.google.com/notebooks/data_table.ipynb>data table notebook</a>'\n",
              "            + ' to learn more about interactive tables.';\n",
              "          element.innerHTML = '';\n",
              "          dataTable['output_type'] = 'display_data';\n",
              "          await google.colab.output.renderOutput(dataTable, element);\n",
              "          const docLink = document.createElement('div');\n",
              "          docLink.innerHTML = docLinkHtml;\n",
              "          element.appendChild(docLink);\n",
              "        }\n",
              "      </script>\n",
              "    </div>\n",
              "  </div>\n",
              "  "
            ]
          },
          "metadata": {},
          "execution_count": 33
        }
      ]
    },
    {
      "cell_type": "markdown",
      "source": [
        "# ເປັນການຄຳນວນ log_odds , odds , prob ເຂົ້າໄປໃນ dataframe "
      ],
      "metadata": {
        "id": "rLEkDTLivra8"
      }
    },
    {
      "cell_type": "code",
      "source": [
        "df['log_odds']=model_a.params['Intercept']+model_a.params['Hours']*df['Hours']\n",
        "df['odds']=np.exp(model_a.params['Intercept']+model_a.params['Hours']*df['Hours'])\n",
        "df['prob']=model_a.predict(X)\n",
        "df\n"
      ],
      "metadata": {
        "colab": {
          "base_uri": "https://localhost:8080/",
          "height": 676
        },
        "id": "9bVE9WtOo-LA",
        "outputId": "06581119-9d81-46ed-88e0-f0710ec41a60"
      },
      "execution_count": 34,
      "outputs": [
        {
          "output_type": "execute_result",
          "data": {
            "text/plain": [
              "    Hours  Pass  predicted  log_odds       odds      prob\n",
              "0    0.50     0          0 -3.325391   0.035958  0.034710\n",
              "1    0.75     0          0 -2.949229   0.052380  0.049773\n",
              "2    1.00     0          0 -2.573068   0.076301  0.070892\n",
              "3    1.25     0          0 -2.196907   0.111146  0.100029\n",
              "4    1.50     0          0 -1.820745   0.161905  0.139344\n",
              "5    1.75     0          0 -1.444584   0.235844  0.190837\n",
              "6    1.75     1          0 -1.444584   0.235844  0.190837\n",
              "7    2.00     0          0 -1.068423   0.343550  0.255703\n",
              "8    2.25     1          0 -0.692261   0.500443  0.333530\n",
              "9    2.50     0          0 -0.316100   0.728987  0.421627\n",
              "10   2.75     1          1  0.060061   1.061902  0.515011\n",
              "11   3.00     0          1  0.436223   1.546853  0.607359\n",
              "12   3.25     1          1  0.812384   2.253274  0.692617\n",
              "13   3.50     0          1  1.188546   3.282304  0.766481\n",
              "14   4.00     1          1  1.940868   6.964796  0.874448\n",
              "15   4.25     1          1  2.317030  10.145494  0.910278\n",
              "16   4.50     1          1  2.693191  14.778760  0.936624\n",
              "17   4.75     1          1  3.069352  21.527956  0.955611\n",
              "18   5.00     1          1  3.445514  31.359389  0.969097\n",
              "19   5.50     1          1  4.197836  66.542206  0.985194"
            ],
            "text/html": [
              "\n",
              "  <div id=\"df-77f0b0a5-7a08-4159-bc21-293d19fee269\">\n",
              "    <div class=\"colab-df-container\">\n",
              "      <div>\n",
              "<style scoped>\n",
              "    .dataframe tbody tr th:only-of-type {\n",
              "        vertical-align: middle;\n",
              "    }\n",
              "\n",
              "    .dataframe tbody tr th {\n",
              "        vertical-align: top;\n",
              "    }\n",
              "\n",
              "    .dataframe thead th {\n",
              "        text-align: right;\n",
              "    }\n",
              "</style>\n",
              "<table border=\"1\" class=\"dataframe\">\n",
              "  <thead>\n",
              "    <tr style=\"text-align: right;\">\n",
              "      <th></th>\n",
              "      <th>Hours</th>\n",
              "      <th>Pass</th>\n",
              "      <th>predicted</th>\n",
              "      <th>log_odds</th>\n",
              "      <th>odds</th>\n",
              "      <th>prob</th>\n",
              "    </tr>\n",
              "  </thead>\n",
              "  <tbody>\n",
              "    <tr>\n",
              "      <th>0</th>\n",
              "      <td>0.50</td>\n",
              "      <td>0</td>\n",
              "      <td>0</td>\n",
              "      <td>-3.325391</td>\n",
              "      <td>0.035958</td>\n",
              "      <td>0.034710</td>\n",
              "    </tr>\n",
              "    <tr>\n",
              "      <th>1</th>\n",
              "      <td>0.75</td>\n",
              "      <td>0</td>\n",
              "      <td>0</td>\n",
              "      <td>-2.949229</td>\n",
              "      <td>0.052380</td>\n",
              "      <td>0.049773</td>\n",
              "    </tr>\n",
              "    <tr>\n",
              "      <th>2</th>\n",
              "      <td>1.00</td>\n",
              "      <td>0</td>\n",
              "      <td>0</td>\n",
              "      <td>-2.573068</td>\n",
              "      <td>0.076301</td>\n",
              "      <td>0.070892</td>\n",
              "    </tr>\n",
              "    <tr>\n",
              "      <th>3</th>\n",
              "      <td>1.25</td>\n",
              "      <td>0</td>\n",
              "      <td>0</td>\n",
              "      <td>-2.196907</td>\n",
              "      <td>0.111146</td>\n",
              "      <td>0.100029</td>\n",
              "    </tr>\n",
              "    <tr>\n",
              "      <th>4</th>\n",
              "      <td>1.50</td>\n",
              "      <td>0</td>\n",
              "      <td>0</td>\n",
              "      <td>-1.820745</td>\n",
              "      <td>0.161905</td>\n",
              "      <td>0.139344</td>\n",
              "    </tr>\n",
              "    <tr>\n",
              "      <th>5</th>\n",
              "      <td>1.75</td>\n",
              "      <td>0</td>\n",
              "      <td>0</td>\n",
              "      <td>-1.444584</td>\n",
              "      <td>0.235844</td>\n",
              "      <td>0.190837</td>\n",
              "    </tr>\n",
              "    <tr>\n",
              "      <th>6</th>\n",
              "      <td>1.75</td>\n",
              "      <td>1</td>\n",
              "      <td>0</td>\n",
              "      <td>-1.444584</td>\n",
              "      <td>0.235844</td>\n",
              "      <td>0.190837</td>\n",
              "    </tr>\n",
              "    <tr>\n",
              "      <th>7</th>\n",
              "      <td>2.00</td>\n",
              "      <td>0</td>\n",
              "      <td>0</td>\n",
              "      <td>-1.068423</td>\n",
              "      <td>0.343550</td>\n",
              "      <td>0.255703</td>\n",
              "    </tr>\n",
              "    <tr>\n",
              "      <th>8</th>\n",
              "      <td>2.25</td>\n",
              "      <td>1</td>\n",
              "      <td>0</td>\n",
              "      <td>-0.692261</td>\n",
              "      <td>0.500443</td>\n",
              "      <td>0.333530</td>\n",
              "    </tr>\n",
              "    <tr>\n",
              "      <th>9</th>\n",
              "      <td>2.50</td>\n",
              "      <td>0</td>\n",
              "      <td>0</td>\n",
              "      <td>-0.316100</td>\n",
              "      <td>0.728987</td>\n",
              "      <td>0.421627</td>\n",
              "    </tr>\n",
              "    <tr>\n",
              "      <th>10</th>\n",
              "      <td>2.75</td>\n",
              "      <td>1</td>\n",
              "      <td>1</td>\n",
              "      <td>0.060061</td>\n",
              "      <td>1.061902</td>\n",
              "      <td>0.515011</td>\n",
              "    </tr>\n",
              "    <tr>\n",
              "      <th>11</th>\n",
              "      <td>3.00</td>\n",
              "      <td>0</td>\n",
              "      <td>1</td>\n",
              "      <td>0.436223</td>\n",
              "      <td>1.546853</td>\n",
              "      <td>0.607359</td>\n",
              "    </tr>\n",
              "    <tr>\n",
              "      <th>12</th>\n",
              "      <td>3.25</td>\n",
              "      <td>1</td>\n",
              "      <td>1</td>\n",
              "      <td>0.812384</td>\n",
              "      <td>2.253274</td>\n",
              "      <td>0.692617</td>\n",
              "    </tr>\n",
              "    <tr>\n",
              "      <th>13</th>\n",
              "      <td>3.50</td>\n",
              "      <td>0</td>\n",
              "      <td>1</td>\n",
              "      <td>1.188546</td>\n",
              "      <td>3.282304</td>\n",
              "      <td>0.766481</td>\n",
              "    </tr>\n",
              "    <tr>\n",
              "      <th>14</th>\n",
              "      <td>4.00</td>\n",
              "      <td>1</td>\n",
              "      <td>1</td>\n",
              "      <td>1.940868</td>\n",
              "      <td>6.964796</td>\n",
              "      <td>0.874448</td>\n",
              "    </tr>\n",
              "    <tr>\n",
              "      <th>15</th>\n",
              "      <td>4.25</td>\n",
              "      <td>1</td>\n",
              "      <td>1</td>\n",
              "      <td>2.317030</td>\n",
              "      <td>10.145494</td>\n",
              "      <td>0.910278</td>\n",
              "    </tr>\n",
              "    <tr>\n",
              "      <th>16</th>\n",
              "      <td>4.50</td>\n",
              "      <td>1</td>\n",
              "      <td>1</td>\n",
              "      <td>2.693191</td>\n",
              "      <td>14.778760</td>\n",
              "      <td>0.936624</td>\n",
              "    </tr>\n",
              "    <tr>\n",
              "      <th>17</th>\n",
              "      <td>4.75</td>\n",
              "      <td>1</td>\n",
              "      <td>1</td>\n",
              "      <td>3.069352</td>\n",
              "      <td>21.527956</td>\n",
              "      <td>0.955611</td>\n",
              "    </tr>\n",
              "    <tr>\n",
              "      <th>18</th>\n",
              "      <td>5.00</td>\n",
              "      <td>1</td>\n",
              "      <td>1</td>\n",
              "      <td>3.445514</td>\n",
              "      <td>31.359389</td>\n",
              "      <td>0.969097</td>\n",
              "    </tr>\n",
              "    <tr>\n",
              "      <th>19</th>\n",
              "      <td>5.50</td>\n",
              "      <td>1</td>\n",
              "      <td>1</td>\n",
              "      <td>4.197836</td>\n",
              "      <td>66.542206</td>\n",
              "      <td>0.985194</td>\n",
              "    </tr>\n",
              "  </tbody>\n",
              "</table>\n",
              "</div>\n",
              "      <button class=\"colab-df-convert\" onclick=\"convertToInteractive('df-77f0b0a5-7a08-4159-bc21-293d19fee269')\"\n",
              "              title=\"Convert this dataframe to an interactive table.\"\n",
              "              style=\"display:none;\">\n",
              "        \n",
              "  <svg xmlns=\"http://www.w3.org/2000/svg\" height=\"24px\"viewBox=\"0 0 24 24\"\n",
              "       width=\"24px\">\n",
              "    <path d=\"M0 0h24v24H0V0z\" fill=\"none\"/>\n",
              "    <path d=\"M18.56 5.44l.94 2.06.94-2.06 2.06-.94-2.06-.94-.94-2.06-.94 2.06-2.06.94zm-11 1L8.5 8.5l.94-2.06 2.06-.94-2.06-.94L8.5 2.5l-.94 2.06-2.06.94zm10 10l.94 2.06.94-2.06 2.06-.94-2.06-.94-.94-2.06-.94 2.06-2.06.94z\"/><path d=\"M17.41 7.96l-1.37-1.37c-.4-.4-.92-.59-1.43-.59-.52 0-1.04.2-1.43.59L10.3 9.45l-7.72 7.72c-.78.78-.78 2.05 0 2.83L4 21.41c.39.39.9.59 1.41.59.51 0 1.02-.2 1.41-.59l7.78-7.78 2.81-2.81c.8-.78.8-2.07 0-2.86zM5.41 20L4 18.59l7.72-7.72 1.47 1.35L5.41 20z\"/>\n",
              "  </svg>\n",
              "      </button>\n",
              "      \n",
              "  <style>\n",
              "    .colab-df-container {\n",
              "      display:flex;\n",
              "      flex-wrap:wrap;\n",
              "      gap: 12px;\n",
              "    }\n",
              "\n",
              "    .colab-df-convert {\n",
              "      background-color: #E8F0FE;\n",
              "      border: none;\n",
              "      border-radius: 50%;\n",
              "      cursor: pointer;\n",
              "      display: none;\n",
              "      fill: #1967D2;\n",
              "      height: 32px;\n",
              "      padding: 0 0 0 0;\n",
              "      width: 32px;\n",
              "    }\n",
              "\n",
              "    .colab-df-convert:hover {\n",
              "      background-color: #E2EBFA;\n",
              "      box-shadow: 0px 1px 2px rgba(60, 64, 67, 0.3), 0px 1px 3px 1px rgba(60, 64, 67, 0.15);\n",
              "      fill: #174EA6;\n",
              "    }\n",
              "\n",
              "    [theme=dark] .colab-df-convert {\n",
              "      background-color: #3B4455;\n",
              "      fill: #D2E3FC;\n",
              "    }\n",
              "\n",
              "    [theme=dark] .colab-df-convert:hover {\n",
              "      background-color: #434B5C;\n",
              "      box-shadow: 0px 1px 3px 1px rgba(0, 0, 0, 0.15);\n",
              "      filter: drop-shadow(0px 1px 2px rgba(0, 0, 0, 0.3));\n",
              "      fill: #FFFFFF;\n",
              "    }\n",
              "  </style>\n",
              "\n",
              "      <script>\n",
              "        const buttonEl =\n",
              "          document.querySelector('#df-77f0b0a5-7a08-4159-bc21-293d19fee269 button.colab-df-convert');\n",
              "        buttonEl.style.display =\n",
              "          google.colab.kernel.accessAllowed ? 'block' : 'none';\n",
              "\n",
              "        async function convertToInteractive(key) {\n",
              "          const element = document.querySelector('#df-77f0b0a5-7a08-4159-bc21-293d19fee269');\n",
              "          const dataTable =\n",
              "            await google.colab.kernel.invokeFunction('convertToInteractive',\n",
              "                                                     [key], {});\n",
              "          if (!dataTable) return;\n",
              "\n",
              "          const docLinkHtml = 'Like what you see? Visit the ' +\n",
              "            '<a target=\"_blank\" href=https://colab.research.google.com/notebooks/data_table.ipynb>data table notebook</a>'\n",
              "            + ' to learn more about interactive tables.';\n",
              "          element.innerHTML = '';\n",
              "          dataTable['output_type'] = 'display_data';\n",
              "          await google.colab.output.renderOutput(dataTable, element);\n",
              "          const docLink = document.createElement('div');\n",
              "          docLink.innerHTML = docLinkHtml;\n",
              "          element.appendChild(docLink);\n",
              "        }\n",
              "      </script>\n",
              "    </div>\n",
              "  </div>\n",
              "  "
            ]
          },
          "metadata": {},
          "execution_count": 34
        }
      ]
    },
    {
      "cell_type": "markdown",
      "source": [
        "# statsmodels: confusion matrix\n",
        "![image.png](data:image/png;base64,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)"
      ],
      "metadata": {
        "id": "NP_v2V0BpEFA"
      }
    },
    {
      "cell_type": "markdown",
      "source": [
        "# ສະແດງຄ່າ confusion matrix ຈາກ model_a "
      ],
      "metadata": {
        "id": "i3tw9XxLwruk"
      }
    },
    {
      "cell_type": "code",
      "source": [
        "model_a.pred_table()"
      ],
      "metadata": {
        "colab": {
          "base_uri": "https://localhost:8080/"
        },
        "id": "B1BHX9UypAJo",
        "outputId": "0ac5d04c-b9b5-4b23-defc-924e9849cf87"
      },
      "execution_count": 35,
      "outputs": [
        {
          "output_type": "execute_result",
          "data": {
            "text/plain": [
              "array([[8., 2.],\n",
              "       [2., 8.]])"
            ]
          },
          "metadata": {},
          "execution_count": 35
        }
      ]
    },
    {
      "cell_type": "markdown",
      "source": [
        "# ເອົາຄ່າ confusion metrix ມາແຍກເປັນ tn, fp, fn, tp ເປັນເອົາໄປຄຳນວນ"
      ],
      "metadata": {
        "id": "qEIUbSQuxaM8"
      }
    },
    {
      "cell_type": "code",
      "source": [
        "tn, fp, fn, tp = model_a.pred_table().ravel()"
      ],
      "metadata": {
        "id": "HtE9RZ7MpIko"
      },
      "execution_count": 36,
      "outputs": []
    },
    {
      "cell_type": "code",
      "source": [
        "print(f'tn = {tn}')\n",
        "print(f'fp = {fp}')\n",
        "print(f'fn = {fn}')\n",
        "print(f'tp = {tp}')\n"
      ],
      "metadata": {
        "colab": {
          "base_uri": "https://localhost:8080/"
        },
        "id": "A9gRZeHBpKrP",
        "outputId": "c83935f9-12a0-4100-b909-5f6c6b3b7e9c"
      },
      "execution_count": 38,
      "outputs": [
        {
          "output_type": "stream",
          "name": "stdout",
          "text": [
            "tn = 8.0\n",
            "fp = 2.0\n",
            "fn = 2.0\n",
            "tp = 8.0\n"
          ]
        }
      ]
    },
    {
      "cell_type": "markdown",
      "source": [],
      "metadata": {
        "id": "xPvhFmyvynbN"
      }
    },
    {
      "cell_type": "markdown",
      "source": [
        "![image.png](data:image/png;base64,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)"
      ],
      "metadata": {
        "id": "ZbFCKvXDyidt"
      }
    },
    {
      "cell_type": "markdown",
      "source": [
        "# ຕົວຢ່າງ ຫາຄ່າຂອງ Accuracy"
      ],
      "metadata": {
        "id": "ZTwt4mEpypoG"
      }
    },
    {
      "cell_type": "code",
      "source": [
        "(tp+tn)/(tp+tn+fp+fn)"
      ],
      "metadata": {
        "colab": {
          "base_uri": "https://localhost:8080/"
        },
        "id": "L4LAju9XpMW4",
        "outputId": "42f74ec4-13de-4f1c-9609-e218b26167b6"
      },
      "execution_count": 37,
      "outputs": [
        {
          "output_type": "execute_result",
          "data": {
            "text/plain": [
              "0.8"
            ]
          },
          "metadata": {},
          "execution_count": 37
        }
      ]
    },
    {
      "cell_type": "markdown",
      "source": [
        "# Visualize"
      ],
      "metadata": {
        "id": "-dLZ2PtBpTW4"
      }
    },
    {
      "cell_type": "code",
      "source": [
        "import math #ນໍາໃຊ້ເພື່ອນໍາເຂົ້າໂມດູນຄະນິດສາດແລະຄ່າຄົງທີ່ທາງຄະນິດສາດ"
      ],
      "metadata": {
        "id": "IIGbOlmLpRA5"
      },
      "execution_count": 39,
      "outputs": []
    },
    {
      "cell_type": "markdown",
      "source": [
        "![image.png](data:image/png;base64,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)"
      ],
      "metadata": {
        "id": "IAI7-22UzkSV"
      }
    },
    {
      "cell_type": "markdown",
      "source": [
        "# ການຫາຄວາມເປັນໄປໄດ້ຂອງການສອບເສັງຜ່ານໂດຍໃຊ້ math ອິງຕາມສູດໃນຮູບ"
      ],
      "metadata": {
        "id": "zse3CTjK1Iw1"
      }
    },
    {
      "cell_type": "code",
      "source": [
        "def sg(intercept, coef, x):\n",
        "    ex = math.exp(-(intercept + x * coef))\n",
        "    return (1 / (1 + ex))\n"
      ],
      "metadata": {
        "id": "Snlw7jnsplS4"
      },
      "execution_count": 40,
      "outputs": []
    },
    {
      "cell_type": "markdown",
      "source": [
        "# ການຫາຄວາມເປັນໄປໄດ້ຂອງການສອບເສັງຜ່ານໂດຍໃຊ້ numpy ອິງຕາມສູດໃນຮູບ"
      ],
      "metadata": {
        "id": "tzcb2XZ01qKl"
      }
    },
    {
      "cell_type": "code",
      "source": [
        "def sp(intercept, coef, x):\n",
        "    ex = np.exp(-(intercept + x * coef))\n",
        "    return (1 / (1 + ex))\n"
      ],
      "metadata": {
        "id": "pd0nFibHpl64"
      },
      "execution_count": 41,
      "outputs": []
    },
    {
      "cell_type": "markdown",
      "source": [
        "# ການສ້າງກາຟ ໂດຍຟັງຊັນ sp ສັງເກດເຫັນວ່າມັນກໍສາມາດສ້າງກາຟໄດ້ເຊັ່ນດຽວກັນ"
      ],
      "metadata": {
        "id": "UjkUZizY15rG"
      }
    },
    {
      "cell_type": "code",
      "source": [
        "xp=np.linspace(0,5,20)\n",
        "yp=sp(model_a.params[0], model_a.params[1], xp)\n",
        "plt.plot(xp, yp)\n",
        "plt.axhline(.5, color='orange', linestyle='--')\n",
        "plt.axvline(np.abs(model_a.params['Intercept']/model_a.params['Hours']), \n",
        "            color='green', linestyle='--')\n"
      ],
      "metadata": {
        "colab": {
          "base_uri": "https://localhost:8080/",
          "height": 283
        },
        "id": "wNU8myudppqg",
        "outputId": "746e9955-8543-40af-fefb-c482d467367d"
      },
      "execution_count": 42,
      "outputs": [
        {
          "output_type": "execute_result",
          "data": {
            "text/plain": [
              "<matplotlib.lines.Line2D at 0x7f0eaa3b3df0>"
            ]
          },
          "metadata": {},
          "execution_count": 42
        },
        {
          "output_type": "display_data",
          "data": {
            "text/plain": [
              "<Figure size 432x288 with 1 Axes>"
            ],
            "image/png": "[encoded data removed]"
          },
          "metadata": {
            "image/png": {
              "width": 372,
              "height": 248
            },
            "needs_background": "light"
          }
        }
      ]
    },
    {
      "cell_type": "markdown",
      "source": [
        "# ການສະແດງກາຟໂດຍການປ່ຽນຄ່າ intercept ແລະ coef"
      ],
      "metadata": {
        "id": "54ScgyoA3Gwu"
      }
    },
    {
      "cell_type": "code",
      "source": [
        "xp=np.linspace(0,8,50)\n",
        "yp=sp(model_a.params[0], model_a.params[1], xp)\n",
        "yp2=sp(model_a.params[0], model_a.params[1]+.4, xp)\n",
        "yp3=sp(model_a.params[0], model_a.params[1]-.4, xp)\n",
        "yp4=sp(model_a.params[0]-2, model_a.params[1], xp)\n",
        "yp5=sp(model_a.params[0]+2, model_a.params[1], xp)\n",
        "\n",
        "plt.plot(xp, yp)\n",
        "# plt.plot(xp, yp2, color='.8', linestyle='--')\n",
        "# plt.plot(xp, yp3, color='salmon', linestyle='--')\n",
        "plt.plot(xp, yp4, color='purple', linestyle='--')\n",
        "plt.plot(xp, yp5, color='red', linestyle='--')\n",
        "\n",
        "plt.axhline(.5, color='orange', linestyle='--')\n",
        "plt.axvline(np.abs(model_a.params['Intercept']/model_a.params['Hours']), \n",
        "            color='green', linestyle='--')\n"
      ],
      "metadata": {
        "colab": {
          "base_uri": "https://localhost:8080/",
          "height": 283
        },
        "id": "a4fi3om2prrA",
        "outputId": "6f24d23f-e0b7-4c04-efed-a783c25c614f"
      },
      "execution_count": 43,
      "outputs": [
        {
          "output_type": "execute_result",
          "data": {
            "text/plain": [
              "<matplotlib.lines.Line2D at 0x7f0eaa31bf70>"
            ]
          },
          "metadata": {},
          "execution_count": 43
        },
        {
          "output_type": "display_data",
          "data": {
            "text/plain": [
              "<Figure size 432x288 with 1 Axes>"
            ],
            "image/png": "[encoded data removed]"
          },
          "metadata": {
            "image/png": {
              "width": 372,
              "height": 248
            },
            "needs_background": "light"
          }
        }
      ]
    },
    {
      "cell_type": "markdown",
      "source": [
        "# ການລັນ logistic Regression ແບບບໍ່ມີ intercept"
      ],
      "metadata": {
        "id": "yGN3htoa3une"
      }
    },
    {
      "cell_type": "markdown",
      "source": [
        "ໃຊ້ dmatrices ສ້າງ Data ສຳຫຼັບລັນ Logistic regressiion ຂອງ statmodels ແລ້ວມັນຈະສົ່ງຄ່າມາເປັນ Dataframe ແລ້ວຈະບໍ່ມີຄ່າ Intercept"
      ],
      "metadata": {
        "id": "3QkncgLW4OEx"
      }
    },
    {
      "cell_type": "code",
      "source": [
        "y_b, X_b = dmatrices('Pass ~ Hours - 1', df, return_type = 'dataframe') # no Intercept column"
      ],
      "metadata": {
        "id": "exN7s4fcpuNo"
      },
      "execution_count": 47,
      "outputs": []
    },
    {
      "cell_type": "markdown",
      "source": [
        "ສະແດງ x_b ຈະເຫັນວ່າມີແຕ່ hours"
      ],
      "metadata": {
        "id": "Pex9p6ar4bl-"
      }
    },
    {
      "cell_type": "code",
      "source": [
        "X_b"
      ],
      "metadata": {
        "colab": {
          "base_uri": "https://localhost:8080/",
          "height": 676
        },
        "id": "4gft6v08pxRo",
        "outputId": "dcd43966-e6dc-4e40-c222-455d584ecb35"
      },
      "execution_count": 48,
      "outputs": [
        {
          "output_type": "execute_result",
          "data": {
            "text/plain": [
              "    Hours\n",
              "0    0.50\n",
              "1    0.75\n",
              "2    1.00\n",
              "3    1.25\n",
              "4    1.50\n",
              "5    1.75\n",
              "6    1.75\n",
              "7    2.00\n",
              "8    2.25\n",
              "9    2.50\n",
              "10   2.75\n",
              "11   3.00\n",
              "12   3.25\n",
              "13   3.50\n",
              "14   4.00\n",
              "15   4.25\n",
              "16   4.50\n",
              "17   4.75\n",
              "18   5.00\n",
              "19   5.50"
            ],
            "text/html": [
              "\n",
              "  <div id=\"df-47815a05-a9e2-438b-98d0-143af8465aa1\">\n",
              "    <div class=\"colab-df-container\">\n",
              "      <div>\n",
              "<style scoped>\n",
              "    .dataframe tbody tr th:only-of-type {\n",
              "        vertical-align: middle;\n",
              "    }\n",
              "\n",
              "    .dataframe tbody tr th {\n",
              "        vertical-align: top;\n",
              "    }\n",
              "\n",
              "    .dataframe thead th {\n",
              "        text-align: right;\n",
              "    }\n",
              "</style>\n",
              "<table border=\"1\" class=\"dataframe\">\n",
              "  <thead>\n",
              "    <tr style=\"text-align: right;\">\n",
              "      <th></th>\n",
              "      <th>Hours</th>\n",
              "    </tr>\n",
              "  </thead>\n",
              "  <tbody>\n",
              "    <tr>\n",
              "      <th>0</th>\n",
              "      <td>0.50</td>\n",
              "    </tr>\n",
              "    <tr>\n",
              "      <th>1</th>\n",
              "      <td>0.75</td>\n",
              "    </tr>\n",
              "    <tr>\n",
              "      <th>2</th>\n",
              "      <td>1.00</td>\n",
              "    </tr>\n",
              "    <tr>\n",
              "      <th>3</th>\n",
              "      <td>1.25</td>\n",
              "    </tr>\n",
              "    <tr>\n",
              "      <th>4</th>\n",
              "      <td>1.50</td>\n",
              "    </tr>\n",
              "    <tr>\n",
              "      <th>5</th>\n",
              "      <td>1.75</td>\n",
              "    </tr>\n",
              "    <tr>\n",
              "      <th>6</th>\n",
              "      <td>1.75</td>\n",
              "    </tr>\n",
              "    <tr>\n",
              "      <th>7</th>\n",
              "      <td>2.00</td>\n",
              "    </tr>\n",
              "    <tr>\n",
              "      <th>8</th>\n",
              "      <td>2.25</td>\n",
              "    </tr>\n",
              "    <tr>\n",
              "      <th>9</th>\n",
              "      <td>2.50</td>\n",
              "    </tr>\n",
              "    <tr>\n",
              "      <th>10</th>\n",
              "      <td>2.75</td>\n",
              "    </tr>\n",
              "    <tr>\n",
              "      <th>11</th>\n",
              "      <td>3.00</td>\n",
              "    </tr>\n",
              "    <tr>\n",
              "      <th>12</th>\n",
              "      <td>3.25</td>\n",
              "    </tr>\n",
              "    <tr>\n",
              "      <th>13</th>\n",
              "      <td>3.50</td>\n",
              "    </tr>\n",
              "    <tr>\n",
              "      <th>14</th>\n",
              "      <td>4.00</td>\n",
              "    </tr>\n",
              "    <tr>\n",
              "      <th>15</th>\n",
              "      <td>4.25</td>\n",
              "    </tr>\n",
              "    <tr>\n",
              "      <th>16</th>\n",
              "      <td>4.50</td>\n",
              "    </tr>\n",
              "    <tr>\n",
              "      <th>17</th>\n",
              "      <td>4.75</td>\n",
              "    </tr>\n",
              "    <tr>\n",
              "      <th>18</th>\n",
              "      <td>5.00</td>\n",
              "    </tr>\n",
              "    <tr>\n",
              "      <th>19</th>\n",
              "      <td>5.50</td>\n",
              "    </tr>\n",
              "  </tbody>\n",
              "</table>\n",
              "</div>\n",
              "      <button class=\"colab-df-convert\" onclick=\"convertToInteractive('df-47815a05-a9e2-438b-98d0-143af8465aa1')\"\n",
              "              title=\"Convert this dataframe to an interactive table.\"\n",
              "              style=\"display:none;\">\n",
              "        \n",
              "  <svg xmlns=\"http://www.w3.org/2000/svg\" height=\"24px\"viewBox=\"0 0 24 24\"\n",
              "       width=\"24px\">\n",
              "    <path d=\"M0 0h24v24H0V0z\" fill=\"none\"/>\n",
              "    <path d=\"M18.56 5.44l.94 2.06.94-2.06 2.06-.94-2.06-.94-.94-2.06-.94 2.06-2.06.94zm-11 1L8.5 8.5l.94-2.06 2.06-.94-2.06-.94L8.5 2.5l-.94 2.06-2.06.94zm10 10l.94 2.06.94-2.06 2.06-.94-2.06-.94-.94-2.06-.94 2.06-2.06.94z\"/><path d=\"M17.41 7.96l-1.37-1.37c-.4-.4-.92-.59-1.43-.59-.52 0-1.04.2-1.43.59L10.3 9.45l-7.72 7.72c-.78.78-.78 2.05 0 2.83L4 21.41c.39.39.9.59 1.41.59.51 0 1.02-.2 1.41-.59l7.78-7.78 2.81-2.81c.8-.78.8-2.07 0-2.86zM5.41 20L4 18.59l7.72-7.72 1.47 1.35L5.41 20z\"/>\n",
              "  </svg>\n",
              "      </button>\n",
              "      \n",
              "  <style>\n",
              "    .colab-df-container {\n",
              "      display:flex;\n",
              "      flex-wrap:wrap;\n",
              "      gap: 12px;\n",
              "    }\n",
              "\n",
              "    .colab-df-convert {\n",
              "      background-color: #E8F0FE;\n",
              "      border: none;\n",
              "      border-radius: 50%;\n",
              "      cursor: pointer;\n",
              "      display: none;\n",
              "      fill: #1967D2;\n",
              "      height: 32px;\n",
              "      padding: 0 0 0 0;\n",
              "      width: 32px;\n",
              "    }\n",
              "\n",
              "    .colab-df-convert:hover {\n",
              "      background-color: #E2EBFA;\n",
              "      box-shadow: 0px 1px 2px rgba(60, 64, 67, 0.3), 0px 1px 3px 1px rgba(60, 64, 67, 0.15);\n",
              "      fill: #174EA6;\n",
              "    }\n",
              "\n",
              "    [theme=dark] .colab-df-convert {\n",
              "      background-color: #3B4455;\n",
              "      fill: #D2E3FC;\n",
              "    }\n",
              "\n",
              "    [theme=dark] .colab-df-convert:hover {\n",
              "      background-color: #434B5C;\n",
              "      box-shadow: 0px 1px 3px 1px rgba(0, 0, 0, 0.15);\n",
              "      filter: drop-shadow(0px 1px 2px rgba(0, 0, 0, 0.3));\n",
              "      fill: #FFFFFF;\n",
              "    }\n",
              "  </style>\n",
              "\n",
              "      <script>\n",
              "        const buttonEl =\n",
              "          document.querySelector('#df-47815a05-a9e2-438b-98d0-143af8465aa1 button.colab-df-convert');\n",
              "        buttonEl.style.display =\n",
              "          google.colab.kernel.accessAllowed ? 'block' : 'none';\n",
              "\n",
              "        async function convertToInteractive(key) {\n",
              "          const element = document.querySelector('#df-47815a05-a9e2-438b-98d0-143af8465aa1');\n",
              "          const dataTable =\n",
              "            await google.colab.kernel.invokeFunction('convertToInteractive',\n",
              "                                                     [key], {});\n",
              "          if (!dataTable) return;\n",
              "\n",
              "          const docLinkHtml = 'Like what you see? Visit the ' +\n",
              "            '<a target=\"_blank\" href=https://colab.research.google.com/notebooks/data_table.ipynb>data table notebook</a>'\n",
              "            + ' to learn more about interactive tables.';\n",
              "          element.innerHTML = '';\n",
              "          dataTable['output_type'] = 'display_data';\n",
              "          await google.colab.output.renderOutput(dataTable, element);\n",
              "          const docLink = document.createElement('div');\n",
              "          docLink.innerHTML = docLinkHtml;\n",
              "          element.appendChild(docLink);\n",
              "        }\n",
              "      </script>\n",
              "    </div>\n",
              "  </div>\n",
              "  "
            ]
          },
          "metadata": {},
          "execution_count": 48
        }
      ]
    },
    {
      "cell_type": "markdown",
      "source": [
        "ສະແດງ y_b"
      ],
      "metadata": {
        "id": "cHCnUHJF4nMV"
      }
    },
    {
      "cell_type": "code",
      "source": [
        "y_b"
      ],
      "metadata": {
        "colab": {
          "base_uri": "https://localhost:8080/",
          "height": 676
        },
        "id": "9ICOu_Hrpy-M",
        "outputId": "afe674c0-8abf-4a00-ed85-425903f9b415"
      },
      "execution_count": 49,
      "outputs": [
        {
          "output_type": "execute_result",
          "data": {
            "text/plain": [
              "    Pass\n",
              "0    0.0\n",
              "1    0.0\n",
              "2    0.0\n",
              "3    0.0\n",
              "4    0.0\n",
              "5    0.0\n",
              "6    1.0\n",
              "7    0.0\n",
              "8    1.0\n",
              "9    0.0\n",
              "10   1.0\n",
              "11   0.0\n",
              "12   1.0\n",
              "13   0.0\n",
              "14   1.0\n",
              "15   1.0\n",
              "16   1.0\n",
              "17   1.0\n",
              "18   1.0\n",
              "19   1.0"
            ],
            "text/html": [
              "\n",
              "  <div id=\"df-6e39b6e6-8e75-49a4-a211-61bb16a4d811\">\n",
              "    <div class=\"colab-df-container\">\n",
              "      <div>\n",
              "<style scoped>\n",
              "    .dataframe tbody tr th:only-of-type {\n",
              "        vertical-align: middle;\n",
              "    }\n",
              "\n",
              "    .dataframe tbody tr th {\n",
              "        vertical-align: top;\n",
              "    }\n",
              "\n",
              "    .dataframe thead th {\n",
              "        text-align: right;\n",
              "    }\n",
              "</style>\n",
              "<table border=\"1\" class=\"dataframe\">\n",
              "  <thead>\n",
              "    <tr style=\"text-align: right;\">\n",
              "      <th></th>\n",
              "      <th>Pass</th>\n",
              "    </tr>\n",
              "  </thead>\n",
              "  <tbody>\n",
              "    <tr>\n",
              "      <th>0</th>\n",
              "      <td>0.0</td>\n",
              "    </tr>\n",
              "    <tr>\n",
              "      <th>1</th>\n",
              "      <td>0.0</td>\n",
              "    </tr>\n",
              "    <tr>\n",
              "      <th>2</th>\n",
              "      <td>0.0</td>\n",
              "    </tr>\n",
              "    <tr>\n",
              "      <th>3</th>\n",
              "      <td>0.0</td>\n",
              "    </tr>\n",
              "    <tr>\n",
              "      <th>4</th>\n",
              "      <td>0.0</td>\n",
              "    </tr>\n",
              "    <tr>\n",
              "      <th>5</th>\n",
              "      <td>0.0</td>\n",
              "    </tr>\n",
              "    <tr>\n",
              "      <th>6</th>\n",
              "      <td>1.0</td>\n",
              "    </tr>\n",
              "    <tr>\n",
              "      <th>7</th>\n",
              "      <td>0.0</td>\n",
              "    </tr>\n",
              "    <tr>\n",
              "      <th>8</th>\n",
              "      <td>1.0</td>\n",
              "    </tr>\n",
              "    <tr>\n",
              "      <th>9</th>\n",
              "      <td>0.0</td>\n",
              "    </tr>\n",
              "    <tr>\n",
              "      <th>10</th>\n",
              "      <td>1.0</td>\n",
              "    </tr>\n",
              "    <tr>\n",
              "      <th>11</th>\n",
              "      <td>0.0</td>\n",
              "    </tr>\n",
              "    <tr>\n",
              "      <th>12</th>\n",
              "      <td>1.0</td>\n",
              "    </tr>\n",
              "    <tr>\n",
              "      <th>13</th>\n",
              "      <td>0.0</td>\n",
              "    </tr>\n",
              "    <tr>\n",
              "      <th>14</th>\n",
              "      <td>1.0</td>\n",
              "    </tr>\n",
              "    <tr>\n",
              "      <th>15</th>\n",
              "      <td>1.0</td>\n",
              "    </tr>\n",
              "    <tr>\n",
              "      <th>16</th>\n",
              "      <td>1.0</td>\n",
              "    </tr>\n",
              "    <tr>\n",
              "      <th>17</th>\n",
              "      <td>1.0</td>\n",
              "    </tr>\n",
              "    <tr>\n",
              "      <th>18</th>\n",
              "      <td>1.0</td>\n",
              "    </tr>\n",
              "    <tr>\n",
              "      <th>19</th>\n",
              "      <td>1.0</td>\n",
              "    </tr>\n",
              "  </tbody>\n",
              "</table>\n",
              "</div>\n",
              "      <button class=\"colab-df-convert\" onclick=\"convertToInteractive('df-6e39b6e6-8e75-49a4-a211-61bb16a4d811')\"\n",
              "              title=\"Convert this dataframe to an interactive table.\"\n",
              "              style=\"display:none;\">\n",
              "        \n",
              "  <svg xmlns=\"http://www.w3.org/2000/svg\" height=\"24px\"viewBox=\"0 0 24 24\"\n",
              "       width=\"24px\">\n",
              "    <path d=\"M0 0h24v24H0V0z\" fill=\"none\"/>\n",
              "    <path d=\"M18.56 5.44l.94 2.06.94-2.06 2.06-.94-2.06-.94-.94-2.06-.94 2.06-2.06.94zm-11 1L8.5 8.5l.94-2.06 2.06-.94-2.06-.94L8.5 2.5l-.94 2.06-2.06.94zm10 10l.94 2.06.94-2.06 2.06-.94-2.06-.94-.94-2.06-.94 2.06-2.06.94z\"/><path d=\"M17.41 7.96l-1.37-1.37c-.4-.4-.92-.59-1.43-.59-.52 0-1.04.2-1.43.59L10.3 9.45l-7.72 7.72c-.78.78-.78 2.05 0 2.83L4 21.41c.39.39.9.59 1.41.59.51 0 1.02-.2 1.41-.59l7.78-7.78 2.81-2.81c.8-.78.8-2.07 0-2.86zM5.41 20L4 18.59l7.72-7.72 1.47 1.35L5.41 20z\"/>\n",
              "  </svg>\n",
              "      </button>\n",
              "      \n",
              "  <style>\n",
              "    .colab-df-container {\n",
              "      display:flex;\n",
              "      flex-wrap:wrap;\n",
              "      gap: 12px;\n",
              "    }\n",
              "\n",
              "    .colab-df-convert {\n",
              "      background-color: #E8F0FE;\n",
              "      border: none;\n",
              "      border-radius: 50%;\n",
              "      cursor: pointer;\n",
              "      display: none;\n",
              "      fill: #1967D2;\n",
              "      height: 32px;\n",
              "      padding: 0 0 0 0;\n",
              "      width: 32px;\n",
              "    }\n",
              "\n",
              "    .colab-df-convert:hover {\n",
              "      background-color: #E2EBFA;\n",
              "      box-shadow: 0px 1px 2px rgba(60, 64, 67, 0.3), 0px 1px 3px 1px rgba(60, 64, 67, 0.15);\n",
              "      fill: #174EA6;\n",
              "    }\n",
              "\n",
              "    [theme=dark] .colab-df-convert {\n",
              "      background-color: #3B4455;\n",
              "      fill: #D2E3FC;\n",
              "    }\n",
              "\n",
              "    [theme=dark] .colab-df-convert:hover {\n",
              "      background-color: #434B5C;\n",
              "      box-shadow: 0px 1px 3px 1px rgba(0, 0, 0, 0.15);\n",
              "      filter: drop-shadow(0px 1px 2px rgba(0, 0, 0, 0.3));\n",
              "      fill: #FFFFFF;\n",
              "    }\n",
              "  </style>\n",
              "\n",
              "      <script>\n",
              "        const buttonEl =\n",
              "          document.querySelector('#df-6e39b6e6-8e75-49a4-a211-61bb16a4d811 button.colab-df-convert');\n",
              "        buttonEl.style.display =\n",
              "          google.colab.kernel.accessAllowed ? 'block' : 'none';\n",
              "\n",
              "        async function convertToInteractive(key) {\n",
              "          const element = document.querySelector('#df-6e39b6e6-8e75-49a4-a211-61bb16a4d811');\n",
              "          const dataTable =\n",
              "            await google.colab.kernel.invokeFunction('convertToInteractive',\n",
              "                                                     [key], {});\n",
              "          if (!dataTable) return;\n",
              "\n",
              "          const docLinkHtml = 'Like what you see? Visit the ' +\n",
              "            '<a target=\"_blank\" href=https://colab.research.google.com/notebooks/data_table.ipynb>data table notebook</a>'\n",
              "            + ' to learn more about interactive tables.';\n",
              "          element.innerHTML = '';\n",
              "          dataTable['output_type'] = 'display_data';\n",
              "          await google.colab.output.renderOutput(dataTable, element);\n",
              "          const docLink = document.createElement('div');\n",
              "          docLink.innerHTML = docLinkHtml;\n",
              "          element.appendChild(docLink);\n",
              "        }\n",
              "      </script>\n",
              "    </div>\n",
              "  </div>\n",
              "  "
            ]
          },
          "metadata": {},
          "execution_count": 49
        }
      ]
    },
    {
      "cell_type": "markdown",
      "source": [
        "ສ້າງໂຕປ່ຽນ model_b ເກັບຄ່າຈາກການໃຊ້ sm.logit ຫາຄ່າຄວາມເປັນໄປໄດ້ມີ model  ພາຍໃນ ແລ້ວທຳການເຮັດໃຫ້ຂໍ້ມູນພໍດີເພື່ອນຳໄປໃຊ້ຫຼືເອີ້ນວ່າ fit() ຫຼັງຈາກນັ້ນສະແດງ summary ຂອງໂມເດວມາເບິ່ງ ຈະເຫັນວ່າບໍ່ມີຄ່າ intercept"
      ],
      "metadata": {
        "id": "_pfIWrwe42mm"
      }
    },
    {
      "cell_type": "code",
      "source": [
        "model_b = sm.Logit(y_b, X_b).fit()\n",
        "model_b.summary()\n"
      ],
      "metadata": {
        "colab": {
          "base_uri": "https://localhost:8080/",
          "height": 283
        },
        "id": "PDQ6G1bvp0Xn",
        "outputId": "3d8fe54f-2736-4ecf-fc05-77f7562d3b96"
      },
      "execution_count": 50,
      "outputs": [
        {
          "output_type": "stream",
          "name": "stdout",
          "text": [
            "Optimization terminated successfully.\n",
            "         Current function value: 0.639808\n",
            "         Iterations 5\n"
          ]
        },
        {
          "output_type": "execute_result",
          "data": {
            "text/plain": [
              "<class 'statsmodels.iolib.summary.Summary'>\n",
              "\"\"\"\n",
              "                           Logit Regression Results                           \n",
              "==============================================================================\n",
              "Dep. Variable:                   Pass   No. Observations:                   20\n",
              "Model:                          Logit   Df Residuals:                       19\n",
              "Method:                           MLE   Df Model:                            0\n",
              "Date:                Wed, 25 Jan 2023   Pseudo R-squ.:                 0.07695\n",
              "Time:                        17:00:25   Log-Likelihood:                -12.796\n",
              "converged:                       True   LL-Null:                       -13.863\n",
              "Covariance Type:            nonrobust   LLR p-value:                       nan\n",
              "==============================================================================\n",
              "                 coef    std err          z      P>|z|      [0.025      0.975]\n",
              "------------------------------------------------------------------------------\n",
              "Hours          0.2179      0.157      1.390      0.165      -0.089       0.525\n",
              "==============================================================================\n",
              "\"\"\""
            ],
            "text/html": [
              "<table class=\"simpletable\">\n",
              "<caption>Logit Regression Results</caption>\n",
              "<tr>\n",
              "  <th>Dep. Variable:</th>         <td>Pass</td>       <th>  No. Observations:  </th>  <td>    20</td> \n",
              "</tr>\n",
              "<tr>\n",
              "  <th>Model:</th>                 <td>Logit</td>      <th>  Df Residuals:      </th>  <td>    19</td> \n",
              "</tr>\n",
              "<tr>\n",
              "  <th>Method:</th>                 <td>MLE</td>       <th>  Df Model:          </th>  <td>     0</td> \n",
              "</tr>\n",
              "<tr>\n",
              "  <th>Date:</th>            <td>Wed, 25 Jan 2023</td> <th>  Pseudo R-squ.:     </th>  <td>0.07695</td>\n",
              "</tr>\n",
              "<tr>\n",
              "  <th>Time:</th>                <td>17:00:25</td>     <th>  Log-Likelihood:    </th> <td> -12.796</td>\n",
              "</tr>\n",
              "<tr>\n",
              "  <th>converged:</th>             <td>True</td>       <th>  LL-Null:           </th> <td> -13.863</td>\n",
              "</tr>\n",
              "<tr>\n",
              "  <th>Covariance Type:</th>     <td>nonrobust</td>    <th>  LLR p-value:       </th>  <td>   nan</td> \n",
              "</tr>\n",
              "</table>\n",
              "<table class=\"simpletable\">\n",
              "<tr>\n",
              "    <td></td>       <th>coef</th>     <th>std err</th>      <th>z</th>      <th>P>|z|</th>  <th>[0.025</th>    <th>0.975]</th>  \n",
              "</tr>\n",
              "<tr>\n",
              "  <th>Hours</th> <td>    0.2179</td> <td>    0.157</td> <td>    1.390</td> <td> 0.165</td> <td>   -0.089</td> <td>    0.525</td>\n",
              "</tr>\n",
              "</table>"
            ]
          },
          "metadata": {},
          "execution_count": 50
        }
      ]
    },
    {
      "cell_type": "markdown",
      "source": [
        "ສະແດງ summary ແບບທີ 2"
      ],
      "metadata": {
        "id": "5JGsyw9Q5Rv-"
      }
    },
    {
      "cell_type": "code",
      "source": [
        "model_b.summary2()"
      ],
      "metadata": {
        "colab": {
          "base_uri": "https://localhost:8080/",
          "height": 232
        },
        "id": "w5zOGRy_p2Sn",
        "outputId": "81dc819e-d271-4da9-94e0-26588caede43"
      },
      "execution_count": 51,
      "outputs": [
        {
          "output_type": "execute_result",
          "data": {
            "text/plain": [
              "<class 'statsmodels.iolib.summary2.Summary'>\n",
              "\"\"\"\n",
              "                        Results: Logit\n",
              "==============================================================\n",
              "Model:              Logit            Pseudo R-squared: 0.077  \n",
              "Dependent Variable: Pass             AIC:              27.5923\n",
              "Date:               2023-01-25 17:00 BIC:              28.5881\n",
              "No. Observations:   20               Log-Likelihood:   -12.796\n",
              "Df Model:           0                LL-Null:          -13.863\n",
              "Df Residuals:       19               LLR p-value:      nan    \n",
              "Converged:          1.0000           Scale:            1.0000 \n",
              "No. Iterations:     5.0000                                    \n",
              "----------------------------------------------------------------\n",
              "          Coef.    Std.Err.     z      P>|z|     [0.025   0.975]\n",
              "----------------------------------------------------------------\n",
              "Hours     0.2179     0.1568   1.3900   0.1645   -0.0894   0.5253\n",
              "==============================================================\n",
              "\n",
              "\"\"\""
            ],
            "text/html": [
              "<table class=\"simpletable\">\n",
              "<tr>\n",
              "        <td>Model:</td>              <td>Logit</td>      <td>Pseudo R-squared:</td>  <td>0.077</td> \n",
              "</tr>\n",
              "<tr>\n",
              "  <td>Dependent Variable:</td>       <td>Pass</td>             <td>AIC:</td>        <td>27.5923</td>\n",
              "</tr>\n",
              "<tr>\n",
              "         <td>Date:</td>        <td>2023-01-25 17:00</td>       <td>BIC:</td>        <td>28.5881</td>\n",
              "</tr>\n",
              "<tr>\n",
              "   <td>No. Observations:</td>         <td>20</td>         <td>Log-Likelihood:</td>  <td>-12.796</td>\n",
              "</tr>\n",
              "<tr>\n",
              "       <td>Df Model:</td>              <td>0</td>            <td>LL-Null:</td>      <td>-13.863</td>\n",
              "</tr>\n",
              "<tr>\n",
              "     <td>Df Residuals:</td>           <td>19</td>          <td>LLR p-value:</td>      <td>nan</td>  \n",
              "</tr>\n",
              "<tr>\n",
              "      <td>Converged:</td>           <td>1.0000</td>           <td>Scale:</td>       <td>1.0000</td> \n",
              "</tr>\n",
              "<tr>\n",
              "    <td>No. Iterations:</td>        <td>5.0000</td>              <td></td>             <td></td>    \n",
              "</tr>\n",
              "</table>\n",
              "<table class=\"simpletable\">\n",
              "<tr>\n",
              "    <td></td>     <th>Coef.</th> <th>Std.Err.</th>    <th>z</th>    <th>P>|z|</th> <th>[0.025</th>  <th>0.975]</th>\n",
              "</tr>\n",
              "<tr>\n",
              "  <th>Hours</th> <td>0.2179</td>  <td>0.1568</td>  <td>1.3900</td> <td>0.1645</td> <td>-0.0894</td> <td>0.5253</td>\n",
              "</tr>\n",
              "</table>"
            ]
          },
          "metadata": {},
          "execution_count": 51
        }
      ]
    },
    {
      "cell_type": "markdown",
      "source": [
        "ຄາດຄະເນເບິ່ງຈະເຫັນໄດ້ວ່າຜິດຫຼາຍ"
      ],
      "metadata": {
        "id": "BKWU3yE45Yqu"
      }
    },
    {
      "cell_type": "code",
      "source": [
        "model_b.pred_table()"
      ],
      "metadata": {
        "colab": {
          "base_uri": "https://localhost:8080/"
        },
        "id": "GA5cocy2p31f",
        "outputId": "16dc8168-de40-4a90-dfa7-1d81b8ee3a1b"
      },
      "execution_count": 52,
      "outputs": [
        {
          "output_type": "execute_result",
          "data": {
            "text/plain": [
              "array([[ 0., 10.],\n",
              "       [ 0., 10.]])"
            ]
          },
          "metadata": {},
          "execution_count": 52
        }
      ]
    },
    {
      "cell_type": "markdown",
      "source": [
        "# ສະຫຼູບ: Logistic Regression ແມ່ນວິທີການສະຖິຕິສໍາລັບການວິເຄາະຊຸດຂໍ້ມູນທີ່ມີຫນຶ່ງຫຼືຫຼາຍຕົວແປເອກະລາດທີ່ກໍານົດຜົນໄດ້ຮັບ. Logistic Regression ສາມາດຖືກນໍາໃຊ້ເພື່ອຄາດຄະເນຄວາມເປັນໄປໄດ້ຂອງຫ້ອງຮຽນສະເພາະໃດຫນຶ່ງເຊັ່ນ ການຄາດຄະເນການເສັງຕົກເສັງຜ່ານ ແລະ ອື່ນໆ"
      ],
      "metadata": {
        "id": "eoQF7Z3H5_ym"
      }
    }
  ]
}