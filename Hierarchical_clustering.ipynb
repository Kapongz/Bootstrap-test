{
  "nbformat": 4,
  "nbformat_minor": 0,
  "metadata": {
    "colab": {
      "provenance": [],
      "authorship_tag": "ABX9TyMb786kKu6WcfZV4WtQypMR",
      "include_colab_link": true
    },
    "kernelspec": {
      "name": "python3",
      "display_name": "Python 3"
    },
    "language_info": {
      "name": "python"
    }
  },
  "cells": [
    {
      "cell_type": "markdown",
      "metadata": {
        "id": "view-in-github",
        "colab_type": "text"
      },
      "source": [
        "<a href=\"https://colab.research.google.com/github/Kapongz/Bootstrap-test/blob/main/Hierarchical_clustering.ipynb\" target=\"_parent\"><img src=\"https://colab.research.google.com/assets/colab-badge.svg\" alt=\"Open In Colab\"/></a>"
      ]
    },
    {
      "cell_type": "markdown",
      "source": [
        "#**hierarchical clustering**"
      ],
      "metadata": {
        "id": "gc5u1ggt4bly"
      }
    },
    {
      "cell_type": "code",
      "execution_count": null,
      "metadata": {
        "id": "50Bmg1e439ib"
      },
      "outputs": [],
      "source": [
        "import pandas as pd\n",
        "import numpy as np\n",
        "import matplotlib.pyplot as plt\n",
        "import seaborn as sns\n",
        "%matplotlib inline\n",
        "%config InlineBackend.figure_format='retina'\n"
      ]
    },
    {
      "cell_type": "code",
      "source": [
        "print(f'pandas  version = {pd.__version__}')\n",
        "print(f'numpy   version = {np.__version__}')\n",
        "print(f'seaborn version = {sns.__version__}')\n"
      ],
      "metadata": {
        "id": "YxE3vV_U3_OJ"
      },
      "execution_count": null,
      "outputs": []
    },
    {
      "cell_type": "code",
      "source": [
        "pd.Timestamp.now()"
      ],
      "metadata": {
        "id": "RaZginVr4DIh"
      },
      "execution_count": null,
      "outputs": []
    },
    {
      "cell_type": "code",
      "source": [
        "df=pd.read_csv('https://github.com/prasertcbs/basic-dataset/raw/master/BaskinRobbins.csv')\n",
        "df.sample(10)\n"
      ],
      "metadata": {
        "id": "CPf3nCJ_4GgY"
      },
      "execution_count": null,
      "outputs": []
    },
    {
      "cell_type": "code",
      "source": [
        "df.info()"
      ],
      "metadata": {
        "id": "ymqSJi7V4Jop"
      },
      "execution_count": null,
      "outputs": []
    },
    {
      "cell_type": "markdown",
      "source": [
        "#**Scikit-learn: Hierarchical** **Clustering**"
      ],
      "metadata": {
        "id": "UAag_LeX4QlR"
      }
    },
    {
      "cell_type": "code",
      "source": [
        "from sklearn import preprocessing\n",
        "from sklearn.cluster import AgglomerativeClustering\n",
        "import scipy.cluster.hierarchy as sch # draw dendrogram\n"
      ],
      "metadata": {
        "id": "c_ckoYy-4aQ5"
      },
      "execution_count": null,
      "outputs": []
    },
    {
      "cell_type": "code",
      "source": [
        "cols=['Calories', 'Total Fat (g)', 'Trans Fat (g)', 'Carbohydrates (g)', 'Sugars (g)', 'Protein (g)']"
      ],
      "metadata": {
        "id": "ixjuEGJA4poZ"
      },
      "execution_count": null,
      "outputs": []
    },
    {
      "cell_type": "code",
      "source": [
        "## Yeo-Johnson transformation (preferable)\n",
        "pt = preprocessing.PowerTransformer(method='yeo-johnson', standardize=True) # support only positive value\n",
        "mat = pt.fit_transform(df[cols])\n",
        "mat[:5].round(4)\n"
      ],
      "metadata": {
        "id": "CzamE6HF4r1Y"
      },
      "execution_count": null,
      "outputs": []
    },
    {
      "cell_type": "code",
      "source": [
        "X=pd.DataFrame(mat, columns=cols)\n",
        "X.head()\n"
      ],
      "metadata": {
        "id": "wgJMRbkZ4wUo"
      },
      "execution_count": null,
      "outputs": []
    },
    {
      "cell_type": "code",
      "source": [
        "df[cols].hist(layout=(1, len(cols)), figsize=(3*len(cols), 3.5));"
      ],
      "metadata": {
        "id": "2cbJLU094y0g"
      },
      "execution_count": null,
      "outputs": []
    },
    {
      "cell_type": "code",
      "source": [
        "X[cols].hist(layout=(1, len(cols)), figsize=(3*len(cols), 3.5), color='orange', alpha=.5);"
      ],
      "metadata": {
        "id": "vQeqEU2C43LR"
      },
      "execution_count": null,
      "outputs": []
    },
    {
      "cell_type": "code",
      "source": [
        "fig, ax=plt.subplots(figsize=(20, 7))\n",
        "dg=sch.dendrogram(sch.linkage(X, method='ward'), ax=ax, labels=df['Flavour'].values)\n",
        "# dg=sch.dendrogram(sch.linkage(df[cols], method='ward'), ax=ax)\n"
      ],
      "metadata": {
        "id": "4r5cBLt843vw"
      },
      "execution_count": null,
      "outputs": []
    },
    {
      "cell_type": "code",
      "source": [
        "# doc: https://seaborn.pydata.org/generated/seaborn.clustermap.html\n",
        "sns.clustermap(X, col_cluster=False, cmap=\"Blues\")\n"
      ],
      "metadata": {
        "id": "pQwUocoD484w"
      },
      "execution_count": null,
      "outputs": []
    },
    {
      "cell_type": "code",
      "source": [
        "hc=AgglomerativeClustering(n_clusters=2, linkage='ward')\n",
        "hc\n"
      ],
      "metadata": {
        "id": "dflcOt6t5Azw"
      },
      "execution_count": null,
      "outputs": []
    },
    {
      "cell_type": "code",
      "source": [
        "hc.fit(X)"
      ],
      "metadata": {
        "id": "YDjoyIEE5IwI"
      },
      "execution_count": null,
      "outputs": []
    },
    {
      "cell_type": "code",
      "source": [
        "df['cluster']=hc.labels_\n",
        "df.head()\n"
      ],
      "metadata": {
        "id": "IboUYWvL5LhI"
      },
      "execution_count": null,
      "outputs": []
    },
    {
      "cell_type": "code",
      "source": [
        "df.sample(10)"
      ],
      "metadata": {
        "id": "lU0fzxyS5OkR"
      },
      "execution_count": null,
      "outputs": []
    },
    {
      "cell_type": "code",
      "source": [
        "df.groupby('cluster').agg(['count', 'mean', 'median']).T"
      ],
      "metadata": {
        "id": "kowgoJzl5RWq"
      },
      "execution_count": null,
      "outputs": []
    },
    {
      "cell_type": "code",
      "source": [
        "cols=['Calories', 'Total Fat (g)', 'Trans Fat (g)', 'Carbohydrates (g)', 'Sugars (g)', 'Protein (g)']\n",
        "fig, ax = plt.subplots(nrows=2, ncols=3, figsize=(20, 9))\n",
        "ax=ax.ravel()\n",
        "for i, col in enumerate(cols):\n",
        "    sns.violinplot(x='cluster', y=col, data=df, ax=ax[i])\n"
      ],
      "metadata": {
        "id": "jVHz7pIU5R9Y"
      },
      "execution_count": null,
      "outputs": []
    },
    {
      "cell_type": "code",
      "source": [
        "dx=X\n",
        "dx['cluster']=hc.labels_\n"
      ],
      "metadata": {
        "id": "bebrsWBE5YeI"
      },
      "execution_count": null,
      "outputs": []
    },
    {
      "cell_type": "code",
      "source": [
        "df.groupby('cluster').head(3).sort_values('cluster')"
      ],
      "metadata": {
        "id": "17RWvYkY5ZCh"
      },
      "execution_count": null,
      "outputs": []
    },
    {
      "cell_type": "markdown",
      "source": [
        "#**Scikit-learn: KMeans Clustering**"
      ],
      "metadata": {
        "id": "RRFXtNcW5bVo"
      }
    },
    {
      "cell_type": "code",
      "source": [
        "from sklearn.cluster import KMeans"
      ],
      "metadata": {
        "id": "NpN8uPt55flg"
      },
      "execution_count": null,
      "outputs": []
    },
    {
      "cell_type": "code",
      "source": [
        "model = KMeans(n_clusters=2)\n",
        "model\n"
      ],
      "metadata": {
        "id": "iog4b0vY5iN4"
      },
      "execution_count": null,
      "outputs": []
    },
    {
      "cell_type": "code",
      "source": [
        "# X=df[cols]"
      ],
      "metadata": {
        "id": "TkfAD_LT5l7R"
      },
      "execution_count": null,
      "outputs": []
    },
    {
      "cell_type": "code",
      "source": [
        "model.fit(X)"
      ],
      "metadata": {
        "id": "xz95OScN5mop"
      },
      "execution_count": null,
      "outputs": []
    },
    {
      "cell_type": "code",
      "source": [
        "model.labels_"
      ],
      "metadata": {
        "id": "qFl7LJyF5oOB"
      },
      "execution_count": null,
      "outputs": []
    },
    {
      "cell_type": "code",
      "source": [
        "df['cluster_kmeans']=model.labels_"
      ],
      "metadata": {
        "id": "OhAJTEsb5pxC"
      },
      "execution_count": null,
      "outputs": []
    },
    {
      "cell_type": "code",
      "source": [
        "df.head()"
      ],
      "metadata": {
        "id": "Ti58ee5-5r_x"
      },
      "execution_count": null,
      "outputs": []
    }
  ]
}