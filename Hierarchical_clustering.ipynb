{
  "nbformat": 4,
  "nbformat_minor": 0,
  "metadata": {
    "colab": {
      "provenance": [],
      "authorship_tag": "ABX9TyOeU7KW2UawrS6qFwPSlks0",
      "include_colab_link": true
    },
    "kernelspec": {
      "name": "python3",
      "display_name": "Python 3"
    },
    "language_info": {
      "name": "python"
    }
  },
  "cells": [
    {
      "cell_type": "markdown",
      "metadata": {
        "id": "view-in-github",
        "colab_type": "text"
      },
      "source": [
        "<a href=\"https://colab.research.google.com/github/Kapongz/Bootstrap-test/blob/main/Hierarchical_clustering.ipynb\" target=\"_parent\"><img src=\"https://colab.research.google.com/assets/colab-badge.svg\" alt=\"Open In Colab\"/></a>"
      ]
    },
    {
      "cell_type": "markdown",
      "source": [
        "#**hierarchical clustering**"
      ],
      "metadata": {
        "id": "gc5u1ggt4bly"
      }
    },
    {
      "cell_type": "code",
      "execution_count": 1,
      "metadata": {
        "id": "50Bmg1e439ib"
      },
      "outputs": [],
      "source": [
        "import pandas as pd\n",
        "import numpy as np\n",
        "import matplotlib.pyplot as plt\n",
        "import seaborn as sns\n",
        "%matplotlib inline\n",
        "%config InlineBackend.figure_format='retina'\n"
      ]
    },
    {
      "cell_type": "markdown",
      "source": [
        "\n",
        "**1.   import pandas as pd**\n",
        "\n",
        "> ນຳເອົາ Pandas ມາໃຊ້ແລ້ວຕັ້ງຊື່ໂຕປ່ຽນເປັນ pd ເພື່ອນຳເອົາໄປໃຊ້\n",
        "\n",
        "> pandas ໃຊ້ໃນການຈັດການຂໍ້ມູນຂະໜາດນ້ອຍຈົນໄປຮອດຂໍ້ມູນຂະໜາດໃຫຍ່\n",
        "\n",
        "**2.   import numpy as np**\n",
        "\n",
        "\n",
        "> ນຳເອົາ numpy ມາໃຊ້ແລ້ວຕັ້ງຊື່ໂຕປ່ຽນເປັນ np ເພື່ອນຳເອົາໄປໃຊ້\n",
        "\n",
        "> numpy ແມ່ນ Libary ທີ່ໃຊ້ໃນການຄຳນວນທາງຄະນິດສາດຂອງພາສາ Python ໂດຍ numpy ສາມາດຈັດການ ອາເຣ (array) ຫຼາຍມິຕິໄດ້\n",
        "\n",
        "**3.   import matplotlib.pyplot as plt**\n",
        "\n",
        "> ນຳເອົາ matplotlib.pyplot ມາໃຊ້ແລ້ວຕັ້ງຊື່ໂຕປ່ຽນເປັນ plt ເພື່ອນຳເອົາໄປໃຊ້\n",
        "\n",
        "> matplotlib ແມ່ນ Module ພື້ນຖາມໃນການສ້າງກຣາຟ ໃນພາສາ python\n",
        "\n",
        "**4.   import seaborn as sns**\n",
        "\n",
        "> ນຳເອົາ seaborn ມາໃຊ້ແລ້ວຕັ້ງຊື່ໂຕປ່ຽນເປັນ sns ເພື່ອນຳເອົາໄປໃຊ້\n",
        "\n",
        "> seaborn ເປັນ libary ຂອງ matplotlib ທີ່ໃຊ້ໄວ້ແຈກແຈງໃຫ້ເຮົາເຫັນພາບຂໍ້ມູນທີ່ເປັນແບບ ສຸ່ມ\n",
        "\n",
        "\n",
        "\n",
        "**5.   %matplotlib inline**\n",
        "\n",
        "\n",
        "> ແມ່ນ Magic command ທີ່ເຮັດໃຫ້ແຜນພາບທີ່ສ້າງໂດຍ matplotlib ສະແດງໃນເຊວ IPython \n",
        "\n",
        "\n",
        "\n",
        "\n",
        "**6.   %config InlineBackend.figure_format='retina'**\n",
        "\n",
        "> ໃຊ້ %config InlineBackend. figure_format = 'retina' ຫຼັງຈາກ %matplotlib inline ເພື່ອສະແດງຮູບພາບທີ່ມີຄວາມລະອຽດສູງ\n",
        "\n",
        "---"
      ],
      "metadata": {
        "id": "XCxRN1rO6ti5"
      }
    },
    {
      "cell_type": "code",
      "source": [
        "print(f'pandas  version = {pd.__version__}')\n",
        "print(f'numpy   version = {np.__version__}')\n",
        "print(f'seaborn version = {sns.__version__}')\n"
      ],
      "metadata": {
        "colab": {
          "base_uri": "https://localhost:8080/"
        },
        "id": "YxE3vV_U3_OJ",
        "outputId": "0099c330-07ab-448e-b6d1-8e2ae7933f7d"
      },
      "execution_count": 2,
      "outputs": [
        {
          "output_type": "stream",
          "name": "stdout",
          "text": [
            "pandas  version = 1.3.5\n",
            "numpy   version = 1.21.6\n",
            "seaborn version = 0.11.2\n"
          ]
        }
      ]
    },
    {
      "cell_type": "markdown",
      "source": [
        "\n",
        "\n",
        "> ສະແດງ version ຂອງ ***pandas*** , ***numpy*** , ***seaborn***\n",
        "\n",
        "---\n"
      ],
      "metadata": {
        "id": "fhPE_aKdKRVx"
      }
    },
    {
      "cell_type": "code",
      "source": [
        "pd.Timestamp.now()"
      ],
      "metadata": {
        "colab": {
          "base_uri": "https://localhost:8080/"
        },
        "id": "RaZginVr4DIh",
        "outputId": "fb3ecb80-a0fe-49e4-8592-f148f7d6d8b8"
      },
      "execution_count": 10,
      "outputs": [
        {
          "output_type": "execute_result",
          "data": {
            "text/plain": [
              "Timestamp('2022-11-29 16:31:33.143003')"
            ]
          },
          "metadata": {},
          "execution_count": 10
        }
      ]
    },
    {
      "cell_type": "markdown",
      "source": [
        "\n",
        "\n",
        "> ສະແດງ ປີ-ເດືອນ-ວັນ ເວລາ  Timezone US/Pacific ສາມາດ custom ເປັນ Timezone ປະເທດເຮົາໄດ້ pd.Timestamp.now(tz='asia/vientiane')\n",
        "\n",
        "\n",
        "---\n",
        "\n"
      ],
      "metadata": {
        "id": "G_ZqX5mILeg4"
      }
    },
    {
      "cell_type": "code",
      "source": [
        "df=pd.read_csv('https://github.com/prasertcbs/basic-dataset/raw/master/BaskinRobbins.csv')\n",
        "df.sample(10)\n"
      ],
      "metadata": {
        "colab": {
          "base_uri": "https://localhost:8080/",
          "height": 363
        },
        "id": "CPf3nCJ_4GgY",
        "outputId": "903de868-32ba-43e2-851c-034cd460ef4b"
      },
      "execution_count": 13,
      "outputs": [
        {
          "output_type": "execute_result",
          "data": {
            "text/plain": [
              "                       Flavour  Calories  Total Fat (g)  Trans Fat (g)  \\\n",
              "8   NSA Caramel Turtle Truffle       200            8.0            0.2   \n",
              "62                     Vanilla       220           14.0            0.5   \n",
              "41     Peanut Butter ‘n Banana       180           12.0            0.3   \n",
              "51     Raspberry Cheese Louise       220            9.0            0.3   \n",
              "57               Salty Caramel       160            8.0            0.3   \n",
              "36        Maui Brownie Madness       230           11.0            0.2   \n",
              "45       NSA Pineapple Coconut       160            6.0            0.2   \n",
              "4       Blue Raspberry Sherbet       130            2.0            0.1   \n",
              "18             Cookies ‘n Cake       190           10.0            0.2   \n",
              "66           Watermelon Splash       120            0.5            0.0   \n",
              "\n",
              "    Carbohydrates (g)  Sugars (g)  Protein (g)  \n",
              "8                  38           7          5.0  \n",
              "62                 20          16          5.0  \n",
              "41                 15          11          4.0  \n",
              "51                 30          24          5.0  \n",
              "57                 18          15          3.0  \n",
              "36                 30          22          6.0  \n",
              "45                 30           8          5.0  \n",
              "4                  26          20          2.0  \n",
              "18                 21          16          3.0  \n",
              "66                 27          20          0.1  "
            ],
            "text/html": [
              "\n",
              "  <div id=\"df-e16de360-164f-4de2-8915-e59a166b9446\">\n",
              "    <div class=\"colab-df-container\">\n",
              "      <div>\n",
              "<style scoped>\n",
              "    .dataframe tbody tr th:only-of-type {\n",
              "        vertical-align: middle;\n",
              "    }\n",
              "\n",
              "    .dataframe tbody tr th {\n",
              "        vertical-align: top;\n",
              "    }\n",
              "\n",
              "    .dataframe thead th {\n",
              "        text-align: right;\n",
              "    }\n",
              "</style>\n",
              "<table border=\"1\" class=\"dataframe\">\n",
              "  <thead>\n",
              "    <tr style=\"text-align: right;\">\n",
              "      <th></th>\n",
              "      <th>Flavour</th>\n",
              "      <th>Calories</th>\n",
              "      <th>Total Fat (g)</th>\n",
              "      <th>Trans Fat (g)</th>\n",
              "      <th>Carbohydrates (g)</th>\n",
              "      <th>Sugars (g)</th>\n",
              "      <th>Protein (g)</th>\n",
              "    </tr>\n",
              "  </thead>\n",
              "  <tbody>\n",
              "    <tr>\n",
              "      <th>8</th>\n",
              "      <td>NSA Caramel Turtle Truffle</td>\n",
              "      <td>200</td>\n",
              "      <td>8.0</td>\n",
              "      <td>0.2</td>\n",
              "      <td>38</td>\n",
              "      <td>7</td>\n",
              "      <td>5.0</td>\n",
              "    </tr>\n",
              "    <tr>\n",
              "      <th>62</th>\n",
              "      <td>Vanilla</td>\n",
              "      <td>220</td>\n",
              "      <td>14.0</td>\n",
              "      <td>0.5</td>\n",
              "      <td>20</td>\n",
              "      <td>16</td>\n",
              "      <td>5.0</td>\n",
              "    </tr>\n",
              "    <tr>\n",
              "      <th>41</th>\n",
              "      <td>Peanut Butter ‘n Banana</td>\n",
              "      <td>180</td>\n",
              "      <td>12.0</td>\n",
              "      <td>0.3</td>\n",
              "      <td>15</td>\n",
              "      <td>11</td>\n",
              "      <td>4.0</td>\n",
              "    </tr>\n",
              "    <tr>\n",
              "      <th>51</th>\n",
              "      <td>Raspberry Cheese Louise</td>\n",
              "      <td>220</td>\n",
              "      <td>9.0</td>\n",
              "      <td>0.3</td>\n",
              "      <td>30</td>\n",
              "      <td>24</td>\n",
              "      <td>5.0</td>\n",
              "    </tr>\n",
              "    <tr>\n",
              "      <th>57</th>\n",
              "      <td>Salty Caramel</td>\n",
              "      <td>160</td>\n",
              "      <td>8.0</td>\n",
              "      <td>0.3</td>\n",
              "      <td>18</td>\n",
              "      <td>15</td>\n",
              "      <td>3.0</td>\n",
              "    </tr>\n",
              "    <tr>\n",
              "      <th>36</th>\n",
              "      <td>Maui Brownie Madness</td>\n",
              "      <td>230</td>\n",
              "      <td>11.0</td>\n",
              "      <td>0.2</td>\n",
              "      <td>30</td>\n",
              "      <td>22</td>\n",
              "      <td>6.0</td>\n",
              "    </tr>\n",
              "    <tr>\n",
              "      <th>45</th>\n",
              "      <td>NSA Pineapple Coconut</td>\n",
              "      <td>160</td>\n",
              "      <td>6.0</td>\n",
              "      <td>0.2</td>\n",
              "      <td>30</td>\n",
              "      <td>8</td>\n",
              "      <td>5.0</td>\n",
              "    </tr>\n",
              "    <tr>\n",
              "      <th>4</th>\n",
              "      <td>Blue Raspberry Sherbet</td>\n",
              "      <td>130</td>\n",
              "      <td>2.0</td>\n",
              "      <td>0.1</td>\n",
              "      <td>26</td>\n",
              "      <td>20</td>\n",
              "      <td>2.0</td>\n",
              "    </tr>\n",
              "    <tr>\n",
              "      <th>18</th>\n",
              "      <td>Cookies ‘n Cake</td>\n",
              "      <td>190</td>\n",
              "      <td>10.0</td>\n",
              "      <td>0.2</td>\n",
              "      <td>21</td>\n",
              "      <td>16</td>\n",
              "      <td>3.0</td>\n",
              "    </tr>\n",
              "    <tr>\n",
              "      <th>66</th>\n",
              "      <td>Watermelon Splash</td>\n",
              "      <td>120</td>\n",
              "      <td>0.5</td>\n",
              "      <td>0.0</td>\n",
              "      <td>27</td>\n",
              "      <td>20</td>\n",
              "      <td>0.1</td>\n",
              "    </tr>\n",
              "  </tbody>\n",
              "</table>\n",
              "</div>\n",
              "      <button class=\"colab-df-convert\" onclick=\"convertToInteractive('df-e16de360-164f-4de2-8915-e59a166b9446')\"\n",
              "              title=\"Convert this dataframe to an interactive table.\"\n",
              "              style=\"display:none;\">\n",
              "        \n",
              "  <svg xmlns=\"http://www.w3.org/2000/svg\" height=\"24px\"viewBox=\"0 0 24 24\"\n",
              "       width=\"24px\">\n",
              "    <path d=\"M0 0h24v24H0V0z\" fill=\"none\"/>\n",
              "    <path d=\"M18.56 5.44l.94 2.06.94-2.06 2.06-.94-2.06-.94-.94-2.06-.94 2.06-2.06.94zm-11 1L8.5 8.5l.94-2.06 2.06-.94-2.06-.94L8.5 2.5l-.94 2.06-2.06.94zm10 10l.94 2.06.94-2.06 2.06-.94-2.06-.94-.94-2.06-.94 2.06-2.06.94z\"/><path d=\"M17.41 7.96l-1.37-1.37c-.4-.4-.92-.59-1.43-.59-.52 0-1.04.2-1.43.59L10.3 9.45l-7.72 7.72c-.78.78-.78 2.05 0 2.83L4 21.41c.39.39.9.59 1.41.59.51 0 1.02-.2 1.41-.59l7.78-7.78 2.81-2.81c.8-.78.8-2.07 0-2.86zM5.41 20L4 18.59l7.72-7.72 1.47 1.35L5.41 20z\"/>\n",
              "  </svg>\n",
              "      </button>\n",
              "      \n",
              "  <style>\n",
              "    .colab-df-container {\n",
              "      display:flex;\n",
              "      flex-wrap:wrap;\n",
              "      gap: 12px;\n",
              "    }\n",
              "\n",
              "    .colab-df-convert {\n",
              "      background-color: #E8F0FE;\n",
              "      border: none;\n",
              "      border-radius: 50%;\n",
              "      cursor: pointer;\n",
              "      display: none;\n",
              "      fill: #1967D2;\n",
              "      height: 32px;\n",
              "      padding: 0 0 0 0;\n",
              "      width: 32px;\n",
              "    }\n",
              "\n",
              "    .colab-df-convert:hover {\n",
              "      background-color: #E2EBFA;\n",
              "      box-shadow: 0px 1px 2px rgba(60, 64, 67, 0.3), 0px 1px 3px 1px rgba(60, 64, 67, 0.15);\n",
              "      fill: #174EA6;\n",
              "    }\n",
              "\n",
              "    [theme=dark] .colab-df-convert {\n",
              "      background-color: #3B4455;\n",
              "      fill: #D2E3FC;\n",
              "    }\n",
              "\n",
              "    [theme=dark] .colab-df-convert:hover {\n",
              "      background-color: #434B5C;\n",
              "      box-shadow: 0px 1px 3px 1px rgba(0, 0, 0, 0.15);\n",
              "      filter: drop-shadow(0px 1px 2px rgba(0, 0, 0, 0.3));\n",
              "      fill: #FFFFFF;\n",
              "    }\n",
              "  </style>\n",
              "\n",
              "      <script>\n",
              "        const buttonEl =\n",
              "          document.querySelector('#df-e16de360-164f-4de2-8915-e59a166b9446 button.colab-df-convert');\n",
              "        buttonEl.style.display =\n",
              "          google.colab.kernel.accessAllowed ? 'block' : 'none';\n",
              "\n",
              "        async function convertToInteractive(key) {\n",
              "          const element = document.querySelector('#df-e16de360-164f-4de2-8915-e59a166b9446');\n",
              "          const dataTable =\n",
              "            await google.colab.kernel.invokeFunction('convertToInteractive',\n",
              "                                                     [key], {});\n",
              "          if (!dataTable) return;\n",
              "\n",
              "          const docLinkHtml = 'Like what you see? Visit the ' +\n",
              "            '<a target=\"_blank\" href=https://colab.research.google.com/notebooks/data_table.ipynb>data table notebook</a>'\n",
              "            + ' to learn more about interactive tables.';\n",
              "          element.innerHTML = '';\n",
              "          dataTable['output_type'] = 'display_data';\n",
              "          await google.colab.output.renderOutput(dataTable, element);\n",
              "          const docLink = document.createElement('div');\n",
              "          docLink.innerHTML = docLinkHtml;\n",
              "          element.appendChild(docLink);\n",
              "        }\n",
              "      </script>\n",
              "    </div>\n",
              "  </div>\n",
              "  "
            ]
          },
          "metadata": {},
          "execution_count": 13
        }
      ]
    },
    {
      "cell_type": "markdown",
      "source": [
        "\n",
        "\n",
        "> df ເປັນຕົວປ່ຽນສ້າງໄວ້ເກັບຄ່າຈາກການໃຊ້ pandas ຫຼື pd ອ່ານຟາຍນາມສະກຸນ csv ໃນຕົວຢ່າງຈະເປັນ Link ຂອງຟາຍ csv ມີຂໍ້ມູນຫຼາກຫຼາຍທີ່ເອົາໄວ້ໃນ repository github\n",
        "\n",
        "> df.sample(10) ແມ່ນຈະເອົາຕົວປ່ຽນທີ່ເຮົາເກັບຄ່າໄວ້ແລ້ວເອົາຂໍ້ມູນມາສະແດງໂດຍໃຊ້ .sample(10) ຄືຈະ Random ຕົວຢ່າງມາ 10 ແຖວຈາກຂໍ້ມູນທີ່ມີທັງໝົດໃນຟາຍນັ້ນ\n",
        "\n",
        "\n",
        "\n",
        "\n"
      ],
      "metadata": {
        "id": "sJ778lLLPdFr"
      }
    },
    {
      "cell_type": "code",
      "source": [
        "df.info()"
      ],
      "metadata": {
        "colab": {
          "base_uri": "https://localhost:8080/"
        },
        "id": "ymqSJi7V4Jop",
        "outputId": "2b946a0c-4aac-4bdf-fea5-8ea3b8ccc1ce"
      },
      "execution_count": 14,
      "outputs": [
        {
          "output_type": "stream",
          "name": "stdout",
          "text": [
            "<class 'pandas.core.frame.DataFrame'>\n",
            "RangeIndex: 70 entries, 0 to 69\n",
            "Data columns (total 7 columns):\n",
            " #   Column             Non-Null Count  Dtype  \n",
            "---  ------             --------------  -----  \n",
            " 0   Flavour            70 non-null     object \n",
            " 1   Calories           70 non-null     int64  \n",
            " 2   Total Fat (g)      70 non-null     float64\n",
            " 3   Trans Fat (g)      70 non-null     float64\n",
            " 4   Carbohydrates (g)  70 non-null     int64  \n",
            " 5   Sugars (g)         70 non-null     int64  \n",
            " 6   Protein (g)        70 non-null     float64\n",
            "dtypes: float64(3), int64(3), object(1)\n",
            "memory usage: 4.0+ KB\n"
          ]
        }
      ]
    },
    {
      "cell_type": "markdown",
      "source": [
        "\n",
        "\n",
        "> df.info(): .info() ຈະເປັນ function ເພື່ອສະແດງຂໍ້ມູນລາຍລະອຽດທັງໝົດໃນ DataFrame ແບບຫຍໍ້\n",
        "\n"
      ],
      "metadata": {
        "id": "Nbfg0X_9di3g"
      }
    },
    {
      "cell_type": "markdown",
      "source": [
        "#**Scikit-learn: Hierarchical** **Clustering**"
      ],
      "metadata": {
        "id": "UAag_LeX4QlR"
      }
    },
    {
      "cell_type": "code",
      "source": [
        "from sklearn import preprocessing\n",
        "from sklearn.cluster import AgglomerativeClustering\n",
        "import scipy.cluster.hierarchy as sch # draw dendrogram\n"
      ],
      "metadata": {
        "id": "c_ckoYy-4aQ5"
      },
      "execution_count": null,
      "outputs": []
    },
    {
      "cell_type": "code",
      "source": [
        "cols=['Calories', 'Total Fat (g)', 'Trans Fat (g)', 'Carbohydrates (g)', 'Sugars (g)', 'Protein (g)']"
      ],
      "metadata": {
        "id": "ixjuEGJA4poZ"
      },
      "execution_count": null,
      "outputs": []
    },
    {
      "cell_type": "code",
      "source": [
        "## Yeo-Johnson transformation (preferable)\n",
        "pt = preprocessing.PowerTransformer(method='yeo-johnson', standardize=True) # support only positive value\n",
        "mat = pt.fit_transform(df[cols])\n",
        "mat[:5].round(4)\n"
      ],
      "metadata": {
        "id": "CzamE6HF4r1Y"
      },
      "execution_count": null,
      "outputs": []
    },
    {
      "cell_type": "code",
      "source": [
        "X=pd.DataFrame(mat, columns=cols)\n",
        "X.head()\n"
      ],
      "metadata": {
        "id": "wgJMRbkZ4wUo"
      },
      "execution_count": null,
      "outputs": []
    },
    {
      "cell_type": "code",
      "source": [
        "df[cols].hist(layout=(1, len(cols)), figsize=(3*len(cols), 3.5));"
      ],
      "metadata": {
        "id": "2cbJLU094y0g"
      },
      "execution_count": null,
      "outputs": []
    },
    {
      "cell_type": "code",
      "source": [
        "X[cols].hist(layout=(1, len(cols)), figsize=(3*len(cols), 3.5), color='orange', alpha=.5);"
      ],
      "metadata": {
        "id": "vQeqEU2C43LR"
      },
      "execution_count": null,
      "outputs": []
    },
    {
      "cell_type": "code",
      "source": [
        "fig, ax=plt.subplots(figsize=(20, 7))\n",
        "dg=sch.dendrogram(sch.linkage(X, method='ward'), ax=ax, labels=df['Flavour'].values)\n",
        "# dg=sch.dendrogram(sch.linkage(df[cols], method='ward'), ax=ax)\n"
      ],
      "metadata": {
        "id": "4r5cBLt843vw"
      },
      "execution_count": null,
      "outputs": []
    },
    {
      "cell_type": "code",
      "source": [
        "# doc: https://seaborn.pydata.org/generated/seaborn.clustermap.html\n",
        "sns.clustermap(X, col_cluster=False, cmap=\"Blues\")\n"
      ],
      "metadata": {
        "id": "pQwUocoD484w"
      },
      "execution_count": null,
      "outputs": []
    },
    {
      "cell_type": "code",
      "source": [
        "hc=AgglomerativeClustering(n_clusters=2, linkage='ward')\n",
        "hc\n"
      ],
      "metadata": {
        "id": "dflcOt6t5Azw"
      },
      "execution_count": null,
      "outputs": []
    },
    {
      "cell_type": "code",
      "source": [
        "hc.fit(X)"
      ],
      "metadata": {
        "id": "YDjoyIEE5IwI"
      },
      "execution_count": null,
      "outputs": []
    },
    {
      "cell_type": "code",
      "source": [
        "df['cluster']=hc.labels_\n",
        "df.head()\n"
      ],
      "metadata": {
        "id": "IboUYWvL5LhI"
      },
      "execution_count": null,
      "outputs": []
    },
    {
      "cell_type": "code",
      "source": [
        "df.sample(10)"
      ],
      "metadata": {
        "id": "lU0fzxyS5OkR"
      },
      "execution_count": null,
      "outputs": []
    },
    {
      "cell_type": "code",
      "source": [
        "df.groupby('cluster').agg(['count', 'mean', 'median']).T"
      ],
      "metadata": {
        "id": "kowgoJzl5RWq"
      },
      "execution_count": null,
      "outputs": []
    },
    {
      "cell_type": "code",
      "source": [
        "cols=['Calories', 'Total Fat (g)', 'Trans Fat (g)', 'Carbohydrates (g)', 'Sugars (g)', 'Protein (g)']\n",
        "fig, ax = plt.subplots(nrows=2, ncols=3, figsize=(20, 9))\n",
        "ax=ax.ravel()\n",
        "for i, col in enumerate(cols):\n",
        "    sns.violinplot(x='cluster', y=col, data=df, ax=ax[i])\n"
      ],
      "metadata": {
        "id": "jVHz7pIU5R9Y"
      },
      "execution_count": null,
      "outputs": []
    },
    {
      "cell_type": "code",
      "source": [
        "dx=X\n",
        "dx['cluster']=hc.labels_\n"
      ],
      "metadata": {
        "id": "bebrsWBE5YeI"
      },
      "execution_count": null,
      "outputs": []
    },
    {
      "cell_type": "code",
      "source": [
        "df.groupby('cluster').head(3).sort_values('cluster')"
      ],
      "metadata": {
        "id": "17RWvYkY5ZCh"
      },
      "execution_count": null,
      "outputs": []
    },
    {
      "cell_type": "markdown",
      "source": [
        "#**Scikit-learn: KMeans Clustering**"
      ],
      "metadata": {
        "id": "RRFXtNcW5bVo"
      }
    },
    {
      "cell_type": "code",
      "source": [
        "from sklearn.cluster import KMeans"
      ],
      "metadata": {
        "id": "NpN8uPt55flg"
      },
      "execution_count": null,
      "outputs": []
    },
    {
      "cell_type": "code",
      "source": [
        "model = KMeans(n_clusters=2)\n",
        "model\n"
      ],
      "metadata": {
        "id": "iog4b0vY5iN4"
      },
      "execution_count": null,
      "outputs": []
    },
    {
      "cell_type": "code",
      "source": [
        "# X=df[cols]"
      ],
      "metadata": {
        "id": "TkfAD_LT5l7R"
      },
      "execution_count": null,
      "outputs": []
    },
    {
      "cell_type": "code",
      "source": [
        "model.fit(X)"
      ],
      "metadata": {
        "id": "xz95OScN5mop"
      },
      "execution_count": null,
      "outputs": []
    },
    {
      "cell_type": "code",
      "source": [
        "model.labels_"
      ],
      "metadata": {
        "id": "qFl7LJyF5oOB"
      },
      "execution_count": null,
      "outputs": []
    },
    {
      "cell_type": "code",
      "source": [
        "df['cluster_kmeans']=model.labels_"
      ],
      "metadata": {
        "id": "OhAJTEsb5pxC"
      },
      "execution_count": null,
      "outputs": []
    },
    {
      "cell_type": "code",
      "source": [
        "df.head()"
      ],
      "metadata": {
        "id": "Ti58ee5-5r_x"
      },
      "execution_count": null,
      "outputs": []
    }
  ]
}