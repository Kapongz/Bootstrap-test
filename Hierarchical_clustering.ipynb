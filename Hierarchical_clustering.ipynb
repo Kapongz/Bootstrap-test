{
  "nbformat": 4,
  "nbformat_minor": 0,
  "metadata": {
    "colab": {
      "provenance": [],
      "authorship_tag": "ABX9TyNxiXhjI/IGkPqaJdt9nqia",
      "include_colab_link": true
    },
    "kernelspec": {
      "name": "python3",
      "display_name": "Python 3"
    },
    "language_info": {
      "name": "python"
    }
  },
  "cells": [
    {
      "cell_type": "markdown",
      "metadata": {
        "id": "view-in-github",
        "colab_type": "text"
      },
      "source": [
        "<a href=\"https://colab.research.google.com/github/Kapongz/Bootstrap-test/blob/main/Hierarchical_clustering.ipynb\" target=\"_parent\"><img src=\"https://colab.research.google.com/assets/colab-badge.svg\" alt=\"Open In Colab\"/></a>"
      ]
    },
    {
      "cell_type": "markdown",
      "source": [
        "#**hierarchical clustering**\n",
        "\n",
        "> ເຊິ່ງເອີ້ນກັນວ່າ ການວິເຄາະກຸ່ມຕາມລຳດັບ, ແມ່ນລະບົບວິທີການທີ່ຈັດກຸ່ມວັດຖຸທີ່ຄ້າຍຄືກັນອອກເປັນກຸ່ມທີ່ເອີ້ນວ່າ clusters.\n",
        "\n"
      ],
      "metadata": {
        "id": "gc5u1ggt4bly"
      }
    },
    {
      "cell_type": "code",
      "execution_count": 1,
      "metadata": {
        "id": "50Bmg1e439ib"
      },
      "outputs": [],
      "source": [
        "import pandas as pd\n",
        "import numpy as np\n",
        "import matplotlib.pyplot as plt\n",
        "import seaborn as sns\n",
        "%matplotlib inline\n",
        "%config InlineBackend.figure_format='retina'\n"
      ]
    },
    {
      "cell_type": "markdown",
      "source": [
        "\n",
        "**1.   import pandas as pd**\n",
        "\n",
        "> ນຳເອົາ Pandas ມາໃຊ້ແລ້ວຕັ້ງຊື່ໂຕປ່ຽນເປັນ pd ເພື່ອນຳເອົາໄປໃຊ້\n",
        "\n",
        "> pandas ໃຊ້ໃນການຈັດການຂໍ້ມູນຂະໜາດນ້ອຍຈົນໄປຮອດຂໍ້ມູນຂະໜາດໃຫຍ່\n",
        "\n",
        "**2.   import numpy as np**\n",
        "\n",
        "\n",
        "> ນຳເອົາ numpy ມາໃຊ້ແລ້ວຕັ້ງຊື່ໂຕປ່ຽນເປັນ np ເພື່ອນຳເອົາໄປໃຊ້\n",
        "\n",
        "> numpy ແມ່ນ Libary ທີ່ໃຊ້ໃນການຄຳນວນທາງຄະນິດສາດຂອງພາສາ Python ໂດຍ numpy ສາມາດຈັດການ ອາເຣ (array) ຫຼາຍມິຕິໄດ້\n",
        "\n",
        "**3.   import matplotlib.pyplot as plt**\n",
        "\n",
        "> ນຳເອົາ matplotlib.pyplot ມາໃຊ້ແລ້ວຕັ້ງຊື່ໂຕປ່ຽນເປັນ plt ເພື່ອນຳເອົາໄປໃຊ້\n",
        "\n",
        "> matplotlib ແມ່ນ Module ພື້ນຖາມໃນການສ້າງກຣາຟ ໃນພາສາ python\n",
        "\n",
        "**4.   import seaborn as sns**\n",
        "\n",
        "> ນຳເອົາ seaborn ມາໃຊ້ແລ້ວຕັ້ງຊື່ໂຕປ່ຽນເປັນ sns ເພື່ອນຳເອົາໄປໃຊ້\n",
        "\n",
        "> seaborn ເປັນ libary ຂອງ matplotlib ທີ່ໃຊ້ໄວ້ແຈກແຈງໃຫ້ເຮົາເຫັນພາບຂໍ້ມູນທີ່ເປັນແບບ ສຸ່ມ\n",
        "\n",
        "\n",
        "\n",
        "**5.   %matplotlib inline**\n",
        "\n",
        "\n",
        "> ແມ່ນ Magic command ທີ່ເຮັດໃຫ້ແຜນພາບທີ່ສ້າງໂດຍ matplotlib ສະແດງໃນເຊວ IPython \n",
        "\n",
        "\n",
        "\n",
        "\n",
        "**6.   %config InlineBackend.figure_format='retina'**\n",
        "\n",
        "> ໃຊ້ %config InlineBackend. figure_format = 'retina' ຫຼັງຈາກ %matplotlib inline ເພື່ອສະແດງຮູບພາບທີ່ມີຄວາມລະອຽດສູງ\n",
        "\n",
        "---"
      ],
      "metadata": {
        "id": "XCxRN1rO6ti5"
      }
    },
    {
      "cell_type": "code",
      "source": [
        "print(f'pandas  version = {pd.__version__}')\n",
        "print(f'numpy   version = {np.__version__}')\n",
        "print(f'seaborn version = {sns.__version__}')\n"
      ],
      "metadata": {
        "colab": {
          "base_uri": "https://localhost:8080/"
        },
        "id": "YxE3vV_U3_OJ",
        "outputId": "ff5331de-2b2e-4b96-c4ca-ca466b2d34d0"
      },
      "execution_count": 2,
      "outputs": [
        {
          "output_type": "stream",
          "name": "stdout",
          "text": [
            "pandas  version = 1.3.5\n",
            "numpy   version = 1.21.6\n",
            "seaborn version = 0.11.2\n"
          ]
        }
      ]
    },
    {
      "cell_type": "markdown",
      "source": [
        "\n",
        "\n",
        "> **ສະແດງ version ຂອງ** ***pandas*** , ***numpy*** , ***seaborn***\n",
        "\n",
        "---\n"
      ],
      "metadata": {
        "id": "fhPE_aKdKRVx"
      }
    },
    {
      "cell_type": "code",
      "source": [
        "pd.Timestamp.now()"
      ],
      "metadata": {
        "colab": {
          "base_uri": "https://localhost:8080/"
        },
        "id": "RaZginVr4DIh",
        "outputId": "02e6da46-176b-410d-974e-a26f57e296da"
      },
      "execution_count": 3,
      "outputs": [
        {
          "output_type": "execute_result",
          "data": {
            "text/plain": [
              "Timestamp('2022-12-06 03:11:23.613138')"
            ]
          },
          "metadata": {},
          "execution_count": 3
        }
      ]
    },
    {
      "cell_type": "markdown",
      "source": [
        "\n",
        "\n",
        "> **ສະແດງ ປີ-ເດືອນ-ວັນ ເວລາ  Timezone US/Pacific ສາມາດ custom ເປັນ Timezone ປະເທດເຮົາໄດ້ pd.Timestamp.now(tz='asia/vientiane')**\n",
        "\n",
        "\n",
        "---\n",
        "\n"
      ],
      "metadata": {
        "id": "G_ZqX5mILeg4"
      }
    },
    {
      "cell_type": "code",
      "source": [
        "df=pd.read_csv('https://github.com/prasertcbs/basic-dataset/raw/master/BaskinRobbins.csv')\n",
        "df.sample(10)\n"
      ],
      "metadata": {
        "colab": {
          "base_uri": "https://localhost:8080/",
          "height": 363
        },
        "id": "CPf3nCJ_4GgY",
        "outputId": "0942c2cb-6556-40bc-9c72-8b6ca55e73e7"
      },
      "execution_count": 4,
      "outputs": [
        {
          "output_type": "execute_result",
          "data": {
            "text/plain": [
              "                    Flavour  Calories  Total Fat (g)  Trans Fat (g)  \\\n",
              "37      Mint Chocolate Chip       240           15.0            0.5   \n",
              "67         Wild ‘n Reckless        80            1.5            0.0   \n",
              "60        Strawberry Sorbet        70            0.0            0.0   \n",
              "69    World Class Chocolate       260           60.0            0.4   \n",
              "14          Chocolate Fudge       150            9.0            0.3   \n",
              "24    German Chocolate Cake       190           10.0            0.2   \n",
              "33             Mango Sorbet        70            0.0            0.0   \n",
              "54  Reese Peanut Butter Cup       180           11.0            0.3   \n",
              "12           Chocolate Chip       240           15.0            0.5   \n",
              "44        Perils of Praline       160            6.0            0.2   \n",
              "\n",
              "    Carbohydrates (g)  Sugars (g)  Protein (g)  \n",
              "37                 23          18          5.0  \n",
              "67                 16          12          1.0  \n",
              "60                 17          13          0.1  \n",
              "69                 25          18          5.0  \n",
              "14                 17          12          3.0  \n",
              "24                 21          16          4.0  \n",
              "33                 16          12          0.0  \n",
              "54                 17          14          4.0  \n",
              "12                 23          18          5.0  \n",
              "44                 21          20          3.0  "
            ],
            "text/html": [
              "\n",
              "  <div id=\"df-daaa698b-6cbe-4a7d-8738-a4e9d627ae0e\">\n",
              "    <div class=\"colab-df-container\">\n",
              "      <div>\n",
              "<style scoped>\n",
              "    .dataframe tbody tr th:only-of-type {\n",
              "        vertical-align: middle;\n",
              "    }\n",
              "\n",
              "    .dataframe tbody tr th {\n",
              "        vertical-align: top;\n",
              "    }\n",
              "\n",
              "    .dataframe thead th {\n",
              "        text-align: right;\n",
              "    }\n",
              "</style>\n",
              "<table border=\"1\" class=\"dataframe\">\n",
              "  <thead>\n",
              "    <tr style=\"text-align: right;\">\n",
              "      <th></th>\n",
              "      <th>Flavour</th>\n",
              "      <th>Calories</th>\n",
              "      <th>Total Fat (g)</th>\n",
              "      <th>Trans Fat (g)</th>\n",
              "      <th>Carbohydrates (g)</th>\n",
              "      <th>Sugars (g)</th>\n",
              "      <th>Protein (g)</th>\n",
              "    </tr>\n",
              "  </thead>\n",
              "  <tbody>\n",
              "    <tr>\n",
              "      <th>37</th>\n",
              "      <td>Mint Chocolate Chip</td>\n",
              "      <td>240</td>\n",
              "      <td>15.0</td>\n",
              "      <td>0.5</td>\n",
              "      <td>23</td>\n",
              "      <td>18</td>\n",
              "      <td>5.0</td>\n",
              "    </tr>\n",
              "    <tr>\n",
              "      <th>67</th>\n",
              "      <td>Wild ‘n Reckless</td>\n",
              "      <td>80</td>\n",
              "      <td>1.5</td>\n",
              "      <td>0.0</td>\n",
              "      <td>16</td>\n",
              "      <td>12</td>\n",
              "      <td>1.0</td>\n",
              "    </tr>\n",
              "    <tr>\n",
              "      <th>60</th>\n",
              "      <td>Strawberry Sorbet</td>\n",
              "      <td>70</td>\n",
              "      <td>0.0</td>\n",
              "      <td>0.0</td>\n",
              "      <td>17</td>\n",
              "      <td>13</td>\n",
              "      <td>0.1</td>\n",
              "    </tr>\n",
              "    <tr>\n",
              "      <th>69</th>\n",
              "      <td>World Class Chocolate</td>\n",
              "      <td>260</td>\n",
              "      <td>60.0</td>\n",
              "      <td>0.4</td>\n",
              "      <td>25</td>\n",
              "      <td>18</td>\n",
              "      <td>5.0</td>\n",
              "    </tr>\n",
              "    <tr>\n",
              "      <th>14</th>\n",
              "      <td>Chocolate Fudge</td>\n",
              "      <td>150</td>\n",
              "      <td>9.0</td>\n",
              "      <td>0.3</td>\n",
              "      <td>17</td>\n",
              "      <td>12</td>\n",
              "      <td>3.0</td>\n",
              "    </tr>\n",
              "    <tr>\n",
              "      <th>24</th>\n",
              "      <td>German Chocolate Cake</td>\n",
              "      <td>190</td>\n",
              "      <td>10.0</td>\n",
              "      <td>0.2</td>\n",
              "      <td>21</td>\n",
              "      <td>16</td>\n",
              "      <td>4.0</td>\n",
              "    </tr>\n",
              "    <tr>\n",
              "      <th>33</th>\n",
              "      <td>Mango Sorbet</td>\n",
              "      <td>70</td>\n",
              "      <td>0.0</td>\n",
              "      <td>0.0</td>\n",
              "      <td>16</td>\n",
              "      <td>12</td>\n",
              "      <td>0.0</td>\n",
              "    </tr>\n",
              "    <tr>\n",
              "      <th>54</th>\n",
              "      <td>Reese Peanut Butter Cup</td>\n",
              "      <td>180</td>\n",
              "      <td>11.0</td>\n",
              "      <td>0.3</td>\n",
              "      <td>17</td>\n",
              "      <td>14</td>\n",
              "      <td>4.0</td>\n",
              "    </tr>\n",
              "    <tr>\n",
              "      <th>12</th>\n",
              "      <td>Chocolate Chip</td>\n",
              "      <td>240</td>\n",
              "      <td>15.0</td>\n",
              "      <td>0.5</td>\n",
              "      <td>23</td>\n",
              "      <td>18</td>\n",
              "      <td>5.0</td>\n",
              "    </tr>\n",
              "    <tr>\n",
              "      <th>44</th>\n",
              "      <td>Perils of Praline</td>\n",
              "      <td>160</td>\n",
              "      <td>6.0</td>\n",
              "      <td>0.2</td>\n",
              "      <td>21</td>\n",
              "      <td>20</td>\n",
              "      <td>3.0</td>\n",
              "    </tr>\n",
              "  </tbody>\n",
              "</table>\n",
              "</div>\n",
              "      <button class=\"colab-df-convert\" onclick=\"convertToInteractive('df-daaa698b-6cbe-4a7d-8738-a4e9d627ae0e')\"\n",
              "              title=\"Convert this dataframe to an interactive table.\"\n",
              "              style=\"display:none;\">\n",
              "        \n",
              "  <svg xmlns=\"http://www.w3.org/2000/svg\" height=\"24px\"viewBox=\"0 0 24 24\"\n",
              "       width=\"24px\">\n",
              "    <path d=\"M0 0h24v24H0V0z\" fill=\"none\"/>\n",
              "    <path d=\"M18.56 5.44l.94 2.06.94-2.06 2.06-.94-2.06-.94-.94-2.06-.94 2.06-2.06.94zm-11 1L8.5 8.5l.94-2.06 2.06-.94-2.06-.94L8.5 2.5l-.94 2.06-2.06.94zm10 10l.94 2.06.94-2.06 2.06-.94-2.06-.94-.94-2.06-.94 2.06-2.06.94z\"/><path d=\"M17.41 7.96l-1.37-1.37c-.4-.4-.92-.59-1.43-.59-.52 0-1.04.2-1.43.59L10.3 9.45l-7.72 7.72c-.78.78-.78 2.05 0 2.83L4 21.41c.39.39.9.59 1.41.59.51 0 1.02-.2 1.41-.59l7.78-7.78 2.81-2.81c.8-.78.8-2.07 0-2.86zM5.41 20L4 18.59l7.72-7.72 1.47 1.35L5.41 20z\"/>\n",
              "  </svg>\n",
              "      </button>\n",
              "      \n",
              "  <style>\n",
              "    .colab-df-container {\n",
              "      display:flex;\n",
              "      flex-wrap:wrap;\n",
              "      gap: 12px;\n",
              "    }\n",
              "\n",
              "    .colab-df-convert {\n",
              "      background-color: #E8F0FE;\n",
              "      border: none;\n",
              "      border-radius: 50%;\n",
              "      cursor: pointer;\n",
              "      display: none;\n",
              "      fill: #1967D2;\n",
              "      height: 32px;\n",
              "      padding: 0 0 0 0;\n",
              "      width: 32px;\n",
              "    }\n",
              "\n",
              "    .colab-df-convert:hover {\n",
              "      background-color: #E2EBFA;\n",
              "      box-shadow: 0px 1px 2px rgba(60, 64, 67, 0.3), 0px 1px 3px 1px rgba(60, 64, 67, 0.15);\n",
              "      fill: #174EA6;\n",
              "    }\n",
              "\n",
              "    [theme=dark] .colab-df-convert {\n",
              "      background-color: #3B4455;\n",
              "      fill: #D2E3FC;\n",
              "    }\n",
              "\n",
              "    [theme=dark] .colab-df-convert:hover {\n",
              "      background-color: #434B5C;\n",
              "      box-shadow: 0px 1px 3px 1px rgba(0, 0, 0, 0.15);\n",
              "      filter: drop-shadow(0px 1px 2px rgba(0, 0, 0, 0.3));\n",
              "      fill: #FFFFFF;\n",
              "    }\n",
              "  </style>\n",
              "\n",
              "      <script>\n",
              "        const buttonEl =\n",
              "          document.querySelector('#df-daaa698b-6cbe-4a7d-8738-a4e9d627ae0e button.colab-df-convert');\n",
              "        buttonEl.style.display =\n",
              "          google.colab.kernel.accessAllowed ? 'block' : 'none';\n",
              "\n",
              "        async function convertToInteractive(key) {\n",
              "          const element = document.querySelector('#df-daaa698b-6cbe-4a7d-8738-a4e9d627ae0e');\n",
              "          const dataTable =\n",
              "            await google.colab.kernel.invokeFunction('convertToInteractive',\n",
              "                                                     [key], {});\n",
              "          if (!dataTable) return;\n",
              "\n",
              "          const docLinkHtml = 'Like what you see? Visit the ' +\n",
              "            '<a target=\"_blank\" href=https://colab.research.google.com/notebooks/data_table.ipynb>data table notebook</a>'\n",
              "            + ' to learn more about interactive tables.';\n",
              "          element.innerHTML = '';\n",
              "          dataTable['output_type'] = 'display_data';\n",
              "          await google.colab.output.renderOutput(dataTable, element);\n",
              "          const docLink = document.createElement('div');\n",
              "          docLink.innerHTML = docLinkHtml;\n",
              "          element.appendChild(docLink);\n",
              "        }\n",
              "      </script>\n",
              "    </div>\n",
              "  </div>\n",
              "  "
            ]
          },
          "metadata": {},
          "execution_count": 4
        }
      ]
    },
    {
      "cell_type": "markdown",
      "source": [
        "\n",
        "\n",
        "> **df ເປັນຕົວປ່ຽນສ້າງໄວ້ເກັບຄ່າຈາກການໃຊ້ pandas ຫຼື pd ອ່ານຟາຍນາມສະກຸນ csv ໃນຕົວຢ່າງຈະເປັນ Link ຂອງຟາຍ csv ມີຂໍ້ມູນຫຼາກຫຼາຍທີ່ເອົາໄວ້ໃນ repository github**\n",
        "\n",
        "> **df.sample(10) ແມ່ນຈະເອົາຕົວປ່ຽນທີ່ເຮົາເກັບຄ່າໄວ້ແລ້ວເອົາຂໍ້ມູນມາສະແດງໂດຍໃຊ້ .sample(10) ຄືຈະ Random ຕົວຢ່າງມາ 10 ແຖວຈາກຂໍ້ມູນທີ່ມີທັງໝົດໃນຟາຍນັ້ນ**\n",
        "\n",
        "\n",
        "---\n",
        "\n",
        "\n",
        "\n",
        "\n",
        "\n"
      ],
      "metadata": {
        "id": "sJ778lLLPdFr"
      }
    },
    {
      "cell_type": "code",
      "source": [
        "df.info()"
      ],
      "metadata": {
        "colab": {
          "base_uri": "https://localhost:8080/"
        },
        "id": "ymqSJi7V4Jop",
        "outputId": "ce4b568d-8e66-4cbc-b559-6560303dcd08"
      },
      "execution_count": 5,
      "outputs": [
        {
          "output_type": "stream",
          "name": "stdout",
          "text": [
            "<class 'pandas.core.frame.DataFrame'>\n",
            "RangeIndex: 70 entries, 0 to 69\n",
            "Data columns (total 7 columns):\n",
            " #   Column             Non-Null Count  Dtype  \n",
            "---  ------             --------------  -----  \n",
            " 0   Flavour            70 non-null     object \n",
            " 1   Calories           70 non-null     int64  \n",
            " 2   Total Fat (g)      70 non-null     float64\n",
            " 3   Trans Fat (g)      70 non-null     float64\n",
            " 4   Carbohydrates (g)  70 non-null     int64  \n",
            " 5   Sugars (g)         70 non-null     int64  \n",
            " 6   Protein (g)        70 non-null     float64\n",
            "dtypes: float64(3), int64(3), object(1)\n",
            "memory usage: 4.0+ KB\n"
          ]
        }
      ]
    },
    {
      "cell_type": "markdown",
      "source": [
        "\n",
        "\n",
        "> **df.info(): .info() ຈະເປັນ function ເພື່ອສະແດງຂໍ້ມູນລາຍລະອຽດທັງໝົດໃນ DataFrame ແບບຫຍໍ້**\n",
        "\n",
        "\n",
        "---\n",
        "\n",
        "\n"
      ],
      "metadata": {
        "id": "Nbfg0X_9di3g"
      }
    },
    {
      "cell_type": "markdown",
      "source": [
        "#**Scikit-learn: Hierarchical** **Clustering**\n",
        "\n",
        "\n",
        "> Scikit-learn ແມ່ນ machine learning library ໃນພາສາການຂຽນໂປຣແກຣມ Python\n",
        "\n",
        "\n",
        "\n"
      ],
      "metadata": {
        "id": "UAag_LeX4QlR"
      }
    },
    {
      "cell_type": "code",
      "source": [
        "from sklearn import preprocessing\n",
        "from sklearn.cluster import AgglomerativeClustering\n",
        "import scipy.cluster.hierarchy as sch # draw dendrogram\n"
      ],
      "metadata": {
        "id": "c_ckoYy-4aQ5"
      },
      "execution_count": 6,
      "outputs": []
    },
    {
      "cell_type": "markdown",
      "source": [
        "\n",
        "\n",
        "> from sklearn import preprocessing ເປັນການ import preprocessing ມາຈາກ sklearn ເຊິ່ງ preprocessing ແມ່ນເຕັກນິກທີ່ຖືກນໍາໃຊ້ເພື່ອປ່ຽນຂໍ້ມູນດິບເຂົ້າໄປໃນຊຸດຂໍ້ມູນທີ່ສະອາດ.\n",
        "\n",
        "> from sklearn.cluster import AgglomerativeClustering ເປັນການ import AgglomerativeClustering ມາຈາກ sklearn.cluster ເຊິ່ງ AgglomerativeClustering ແມ່ນເປັນປະເພດຂອງ Hierarchical Clustering ມັນເປັນການຈັດກຸ່ມການຮ່ວມກຸ່ມ. ປະສົມຄູ່ຂອງກຸ່ມຂໍ້ມູນຕົວຢ່າງແບບວົນຊໍ້າ ໃຊ້ໄລຍະເຊື່ອມໂຍງ\n",
        "\n",
        "> import scipy.cluster.hierarchy ເປັນການ import scipy.cluster.hierarchy ເຂົ້າມາໃຊ້ ແລ້ວແທນດ້ວຍໂຕປ່ຽນ sch ເຊິ່ງ scipy.cluster.hierarchy ແມ່ນ functions ຕັດການແບ່ງກຸ່ມຕາມລຳດັບເປັນກຸ່ມ [flat clusterings](https://nlp.stanford.edu/IR-book/html/htmledition/flat-clustering-1.html#:~:text=Flat%20clustering%20creates%20a%20flat,problem%20of%20labeling%20clusters%20automatically.) ຫຼື ຄົ້ນຫາຮາກຂອງ forest ທີ່ເກີດຈາກການຕັດໂດຍການໃຊ້ລະຫັດ flat cluster ids ຂອງການສັງເກດແຕ່ລະຄັ້ງ\n",
        "\n",
        "> dendrogram ແມ່ນແຜນວາດຕົ້ນໄມ້ທີ່ມັກໃຊ້ເພື່ອວາດພາບຜົນຂອງການຈັດກຸ່ມຕາມລຳດັບ.\n",
        "\n",
        "\n",
        "\n",
        "\n",
        "\n",
        "\n",
        "\n"
      ],
      "metadata": {
        "id": "xvKRRV8foiFs"
      }
    },
    {
      "cell_type": "code",
      "source": [
        "cols=['Calories', 'Total Fat (g)', 'Trans Fat (g)', 'Carbohydrates (g)', 'Sugars (g)', 'Protein (g)']"
      ],
      "metadata": {
        "id": "ixjuEGJA4poZ"
      },
      "execution_count": 7,
      "outputs": []
    },
    {
      "cell_type": "markdown",
      "source": [
        "\n",
        "> cols ແມ່ນໂຕປ່ຽນ ທີ່ເກັບຊື່ Column ຂອງ dataFrame ເປັນຮູບແບບ array"
      ],
      "metadata": {
        "id": "kRVckh8t079d"
      }
    },
    {
      "cell_type": "code",
      "source": [
        "## Yeo-Johnson transformation (preferable)\n",
        "pt = preprocessing.PowerTransformer(method='yeo-johnson', standardize=True) # support only positive value\n",
        "mat = pt.fit_transform(df[cols])\n",
        "mat[:5].round(4)\n"
      ],
      "metadata": {
        "id": "CzamE6HF4r1Y",
        "colab": {
          "base_uri": "https://localhost:8080/"
        },
        "outputId": "668e448a-e69e-4975-80b2-89a25052bb18"
      },
      "execution_count": 8,
      "outputs": [
        {
          "output_type": "execute_result",
          "data": {
            "text/plain": [
              "array([[-0.4998, -0.1914, -0.644 , -0.4474, -0.2191, -0.9432],\n",
              "       [-0.4998, -0.0397, -0.644 , -0.6723, -0.8836, -0.3465],\n",
              "       [-0.3343, -0.0397,  0.0461, -0.2353, -0.4421, -0.3465],\n",
              "       [-1.1757, -0.92  , -1.2227, -1.1663, -0.2191, -0.3465],\n",
              "       [-1.0044, -1.417 , -1.2227,  0.6729,  0.6865, -0.9432]])"
            ]
          },
          "metadata": {},
          "execution_count": 8
        }
      ]
    },
    {
      "cell_type": "markdown",
      "source": [
        "\n",
        "\n",
        "> pt ແມ່ນໂຕປ່ຽນໄວ້ເກັບຄ່າທີ່ໄດ້ຈາກການ preprocessing.PowerTransformer ແລະ PowerTransformer ແມ່ນເປັນຕະກູນຂອງການແປງແບບ parametric ແບບ monotonic ທີ່ຖືກນໍາໃຊ້ເພື່ອເຮັດໃຫ້ຂໍ້ມູນຄ້າຍຄື Gaussian ຫຼາຍ\n",
        "\n",
        "> method='yeo-johnson' ເປັນວິທີແປງຟາຍ yeo-johnson ແມ່ນເຮັດວຽກກັບຄ່າທາງບວກແລະລົບ\n",
        "\n",
        "> standardize=True ຕັ້ງເປັນ True ເພື່ອນຳໃຊ້ຄ່າສູນ,\n",
        "\n",
        "> mat ແມ່ນຕົວປ່ຽນທີ່ໄດ້ຈາກການເອົາ pt ໄປ fit_transform(df[cols]) \n",
        "\n",
        "> fit(data) ຖືກນໍາໃຊ້ເພື່ອຄິດໄລ່ຄ່າສະເລ່ຍ ແລະ std dev ສໍາລັບຄຸນສົມບັດທີ່ໃຫ້ມາເພື່ອນໍາໃຊ້ຕື່ມອີກສໍາລັບການປັບຂະຫນາດ.\n",
        "\n",
        "> transform(data) ຖືກນໍາໃຊ້ເພື່ອປັບຂະຫນາດໂດຍໃຊ້ຄ່າສະເລ່ຍ ແລະ std dev ຄິດໄລ່ໂດຍໃຊ້ວິທີການ .fit()\n",
        "\n",
        "> fit_transform() ແມ່ນລວມ fit ແລະ transform .\n",
        "\n",
        "> df[cols] ແມ່ນ Dataframe ພ້ອມຂໍ້ມູນພາຍໃນ Column\n",
        "\n",
        "> mat[:5] ແບ່ງສ່ວນຂໍ້ມູນໃນ array ເປັນ  5 \n",
        "\n",
        "> .round(4) ຟັງຊັນສົ່ງຄືນຕົວເລກຈຸດທີ່ເປັນຕົວເລກແບບເສດ ແລະ ຕົວເລກທົດສະນິຍົມ\n"
      ],
      "metadata": {
        "id": "KPRNTRDwIZVg"
      }
    },
    {
      "cell_type": "code",
      "source": [
        "X=pd.DataFrame(mat, columns=cols)\n",
        "X.head()\n"
      ],
      "metadata": {
        "id": "wgJMRbkZ4wUo",
        "colab": {
          "base_uri": "https://localhost:8080/",
          "height": 206
        },
        "outputId": "e3b356e4-be17-46da-8c3b-19a2a82effc5"
      },
      "execution_count": 23,
      "outputs": [
        {
          "output_type": "execute_result",
          "data": {
            "text/plain": [
              "   Calories  Total Fat (g)  Trans Fat (g)  Carbohydrates (g)  Sugars (g)  \\\n",
              "0 -0.499816      -0.191406      -0.643961          -0.447402   -0.219051   \n",
              "1 -0.499816      -0.039724      -0.643961          -0.672273   -0.883644   \n",
              "2 -0.334348      -0.039724       0.046059          -0.235261   -0.442092   \n",
              "3 -1.175713      -0.919995      -1.222738          -1.166310   -0.219051   \n",
              "4 -1.004409      -1.417016      -1.222738           0.672892    0.686477   \n",
              "\n",
              "   Protein (g)  \n",
              "0    -0.943181  \n",
              "1    -0.346462  \n",
              "2    -0.346462  \n",
              "3    -0.346462  \n",
              "4    -0.943181  "
            ],
            "text/html": [
              "\n",
              "  <div id=\"df-a9e13023-991d-427c-89d0-f301ca496655\">\n",
              "    <div class=\"colab-df-container\">\n",
              "      <div>\n",
              "<style scoped>\n",
              "    .dataframe tbody tr th:only-of-type {\n",
              "        vertical-align: middle;\n",
              "    }\n",
              "\n",
              "    .dataframe tbody tr th {\n",
              "        vertical-align: top;\n",
              "    }\n",
              "\n",
              "    .dataframe thead th {\n",
              "        text-align: right;\n",
              "    }\n",
              "</style>\n",
              "<table border=\"1\" class=\"dataframe\">\n",
              "  <thead>\n",
              "    <tr style=\"text-align: right;\">\n",
              "      <th></th>\n",
              "      <th>Calories</th>\n",
              "      <th>Total Fat (g)</th>\n",
              "      <th>Trans Fat (g)</th>\n",
              "      <th>Carbohydrates (g)</th>\n",
              "      <th>Sugars (g)</th>\n",
              "      <th>Protein (g)</th>\n",
              "    </tr>\n",
              "  </thead>\n",
              "  <tbody>\n",
              "    <tr>\n",
              "      <th>0</th>\n",
              "      <td>-0.499816</td>\n",
              "      <td>-0.191406</td>\n",
              "      <td>-0.643961</td>\n",
              "      <td>-0.447402</td>\n",
              "      <td>-0.219051</td>\n",
              "      <td>-0.943181</td>\n",
              "    </tr>\n",
              "    <tr>\n",
              "      <th>1</th>\n",
              "      <td>-0.499816</td>\n",
              "      <td>-0.039724</td>\n",
              "      <td>-0.643961</td>\n",
              "      <td>-0.672273</td>\n",
              "      <td>-0.883644</td>\n",
              "      <td>-0.346462</td>\n",
              "    </tr>\n",
              "    <tr>\n",
              "      <th>2</th>\n",
              "      <td>-0.334348</td>\n",
              "      <td>-0.039724</td>\n",
              "      <td>0.046059</td>\n",
              "      <td>-0.235261</td>\n",
              "      <td>-0.442092</td>\n",
              "      <td>-0.346462</td>\n",
              "    </tr>\n",
              "    <tr>\n",
              "      <th>3</th>\n",
              "      <td>-1.175713</td>\n",
              "      <td>-0.919995</td>\n",
              "      <td>-1.222738</td>\n",
              "      <td>-1.166310</td>\n",
              "      <td>-0.219051</td>\n",
              "      <td>-0.346462</td>\n",
              "    </tr>\n",
              "    <tr>\n",
              "      <th>4</th>\n",
              "      <td>-1.004409</td>\n",
              "      <td>-1.417016</td>\n",
              "      <td>-1.222738</td>\n",
              "      <td>0.672892</td>\n",
              "      <td>0.686477</td>\n",
              "      <td>-0.943181</td>\n",
              "    </tr>\n",
              "  </tbody>\n",
              "</table>\n",
              "</div>\n",
              "      <button class=\"colab-df-convert\" onclick=\"convertToInteractive('df-a9e13023-991d-427c-89d0-f301ca496655')\"\n",
              "              title=\"Convert this dataframe to an interactive table.\"\n",
              "              style=\"display:none;\">\n",
              "        \n",
              "  <svg xmlns=\"http://www.w3.org/2000/svg\" height=\"24px\"viewBox=\"0 0 24 24\"\n",
              "       width=\"24px\">\n",
              "    <path d=\"M0 0h24v24H0V0z\" fill=\"none\"/>\n",
              "    <path d=\"M18.56 5.44l.94 2.06.94-2.06 2.06-.94-2.06-.94-.94-2.06-.94 2.06-2.06.94zm-11 1L8.5 8.5l.94-2.06 2.06-.94-2.06-.94L8.5 2.5l-.94 2.06-2.06.94zm10 10l.94 2.06.94-2.06 2.06-.94-2.06-.94-.94-2.06-.94 2.06-2.06.94z\"/><path d=\"M17.41 7.96l-1.37-1.37c-.4-.4-.92-.59-1.43-.59-.52 0-1.04.2-1.43.59L10.3 9.45l-7.72 7.72c-.78.78-.78 2.05 0 2.83L4 21.41c.39.39.9.59 1.41.59.51 0 1.02-.2 1.41-.59l7.78-7.78 2.81-2.81c.8-.78.8-2.07 0-2.86zM5.41 20L4 18.59l7.72-7.72 1.47 1.35L5.41 20z\"/>\n",
              "  </svg>\n",
              "      </button>\n",
              "      \n",
              "  <style>\n",
              "    .colab-df-container {\n",
              "      display:flex;\n",
              "      flex-wrap:wrap;\n",
              "      gap: 12px;\n",
              "    }\n",
              "\n",
              "    .colab-df-convert {\n",
              "      background-color: #E8F0FE;\n",
              "      border: none;\n",
              "      border-radius: 50%;\n",
              "      cursor: pointer;\n",
              "      display: none;\n",
              "      fill: #1967D2;\n",
              "      height: 32px;\n",
              "      padding: 0 0 0 0;\n",
              "      width: 32px;\n",
              "    }\n",
              "\n",
              "    .colab-df-convert:hover {\n",
              "      background-color: #E2EBFA;\n",
              "      box-shadow: 0px 1px 2px rgba(60, 64, 67, 0.3), 0px 1px 3px 1px rgba(60, 64, 67, 0.15);\n",
              "      fill: #174EA6;\n",
              "    }\n",
              "\n",
              "    [theme=dark] .colab-df-convert {\n",
              "      background-color: #3B4455;\n",
              "      fill: #D2E3FC;\n",
              "    }\n",
              "\n",
              "    [theme=dark] .colab-df-convert:hover {\n",
              "      background-color: #434B5C;\n",
              "      box-shadow: 0px 1px 3px 1px rgba(0, 0, 0, 0.15);\n",
              "      filter: drop-shadow(0px 1px 2px rgba(0, 0, 0, 0.3));\n",
              "      fill: #FFFFFF;\n",
              "    }\n",
              "  </style>\n",
              "\n",
              "      <script>\n",
              "        const buttonEl =\n",
              "          document.querySelector('#df-a9e13023-991d-427c-89d0-f301ca496655 button.colab-df-convert');\n",
              "        buttonEl.style.display =\n",
              "          google.colab.kernel.accessAllowed ? 'block' : 'none';\n",
              "\n",
              "        async function convertToInteractive(key) {\n",
              "          const element = document.querySelector('#df-a9e13023-991d-427c-89d0-f301ca496655');\n",
              "          const dataTable =\n",
              "            await google.colab.kernel.invokeFunction('convertToInteractive',\n",
              "                                                     [key], {});\n",
              "          if (!dataTable) return;\n",
              "\n",
              "          const docLinkHtml = 'Like what you see? Visit the ' +\n",
              "            '<a target=\"_blank\" href=https://colab.research.google.com/notebooks/data_table.ipynb>data table notebook</a>'\n",
              "            + ' to learn more about interactive tables.';\n",
              "          element.innerHTML = '';\n",
              "          dataTable['output_type'] = 'display_data';\n",
              "          await google.colab.output.renderOutput(dataTable, element);\n",
              "          const docLink = document.createElement('div');\n",
              "          docLink.innerHTML = docLinkHtml;\n",
              "          element.appendChild(docLink);\n",
              "        }\n",
              "      </script>\n",
              "    </div>\n",
              "  </div>\n",
              "  "
            ]
          },
          "metadata": {},
          "execution_count": 23
        }
      ]
    },
    {
      "cell_type": "markdown",
      "source": [
        "\n",
        "\n",
        "> X ເປັນໂຕປ່ຽນທີ່ເອົາໄວ້ເກັບຂໍ້ມູນຈາກການເອົາ pd.DataFrame(mat, columns=cols)\n",
        "\n",
        "> DataFrame ແມ່ນໂຄງສ້າງຂໍ້ມູນແບບ 2 ມິຕິທີ່ມີຖັນຂອງປະເພດຕ່າງໆ. \n",
        "ex: padas.DataFrame(data,column=['column-name'])\n",
        "\n",
        "> X.head() ເປັນການເອົາຂໍ້ມູນ 5 ແຖວທຳອີດມາສະແດງ\n",
        "\n",
        "\n",
        "\n",
        "\n",
        "\n"
      ],
      "metadata": {
        "id": "jr2ZAVYWnh3W"
      }
    },
    {
      "cell_type": "code",
      "source": [
        "df[cols].hist(layout=(1, len(cols)), figsize=(3*len(cols), 3.5));"
      ],
      "metadata": {
        "id": "2cbJLU094y0g",
        "colab": {
          "base_uri": "https://localhost:8080/",
          "height": 253
        },
        "outputId": "f2d2f7d3-7a11-4f70-d374-2790ac1e23f3"
      },
      "execution_count": 21,
      "outputs": [
        {
          "output_type": "display_data",
          "data": {
            "text/plain": [
              "<Figure size 1296x252 with 6 Axes>"
            ],
            "image/png": "[encoded data removed]"
          },
          "metadata": {
            "image/png": {
              "width": 1038,
              "height": 236
            },
            "needs_background": "light"
          }
        }
      ]
    },
    {
      "cell_type": "markdown",
      "source": [
        "\n",
        "\n",
        "> ການເອົາ Dataframe ມາສະແດງເປັນ graph\n",
        "\n",
        "> ຟັງຊັນ hist() ໃນໂມດູນ pyplot ຂອງ library matplotlib ແມ່ນໃຊ້ເພື່ອວາງ [histogram](https://www.w3schools.com/python/matplotlib_histograms.asp#:~:text=Histogram,observations%20within%20each%20given%20interval.) ພາຍໃນກໍຈະມີການກຳນົດ layout ແລະ ຂະໜາດຂອງ garph\n",
        "\n",
        "> Layout() ແມ່ນ Container ທີ່ໃຊ້ໃນການຈັດວາງ widget ໃນລັກສະນະສະເພາະ\n",
        "\n",
        "> len() ແມ່ນຫນຶ່ງໃນ functions ຂອງ Python ມັນສົ່ງຄືນຄ່າຄວາມຍາວຂອງວັດຖຸ\n",
        "\n",
        "> figsize() ແມ່ນຂະຫນາດຂອງຮູບພາບທີ່ສົ່ງອອກ\n"
      ],
      "metadata": {
        "id": "O6kIB2GXbIX1"
      }
    },
    {
      "cell_type": "code",
      "source": [
        "X[cols].hist(layout=(1, len(cols)), figsize=(3*len(cols), 3.5), color='orange', alpha=.5);"
      ],
      "metadata": {
        "id": "vQeqEU2C43LR",
        "colab": {
          "base_uri": "https://localhost:8080/",
          "height": 253
        },
        "outputId": "7a800110-64d6-452d-daf4-991143b670d7"
      },
      "execution_count": 24,
      "outputs": [
        {
          "output_type": "display_data",
          "data": {
            "text/plain": [
              "<Figure size 1296x252 with 6 Axes>"
            ],
            "image/png": "[encoded data removed]"
          },
          "metadata": {
            "image/png": {
              "width": 1038,
              "height": 236
            },
            "needs_background": "light"
          }
        }
      ]
    },
    {
      "cell_type": "markdown",
      "source": [
        "\n",
        "\n",
        "> X ເປັນ Dataframe ທີ່ໄດ້ຈາກການ fit_tranform\n",
        "\n"
      ],
      "metadata": {
        "id": "5GuzpaAqkI9t"
      }
    },
    {
      "cell_type": "code",
      "source": [
        "fig, ax=plt.subplots(figsize=(20, 7))\n",
        "dg=sch.dendrogram(sch.linkage(X, method='ward'), ax=ax, labels=df['Flavour'].values)\n",
        "# dg=sch.dendrogram(sch.linkage(df[cols], method='ward'), ax=ax)\n"
      ],
      "metadata": {
        "id": "4r5cBLt843vw"
      },
      "execution_count": null,
      "outputs": []
    },
    {
      "cell_type": "code",
      "source": [
        "# doc: https://seaborn.pydata.org/generated/seaborn.clustermap.html\n",
        "sns.clustermap(X, col_cluster=False, cmap=\"Blues\")\n"
      ],
      "metadata": {
        "id": "pQwUocoD484w"
      },
      "execution_count": null,
      "outputs": []
    },
    {
      "cell_type": "code",
      "source": [
        "hc=AgglomerativeClustering(n_clusters=2, linkage='ward')\n",
        "hc\n"
      ],
      "metadata": {
        "id": "dflcOt6t5Azw"
      },
      "execution_count": null,
      "outputs": []
    },
    {
      "cell_type": "code",
      "source": [
        "hc.fit(X)"
      ],
      "metadata": {
        "id": "YDjoyIEE5IwI"
      },
      "execution_count": null,
      "outputs": []
    },
    {
      "cell_type": "code",
      "source": [
        "df['cluster']=hc.labels_\n",
        "df.head()\n"
      ],
      "metadata": {
        "id": "IboUYWvL5LhI"
      },
      "execution_count": null,
      "outputs": []
    },
    {
      "cell_type": "code",
      "source": [
        "df.sample(10)"
      ],
      "metadata": {
        "id": "lU0fzxyS5OkR"
      },
      "execution_count": null,
      "outputs": []
    },
    {
      "cell_type": "code",
      "source": [
        "df.groupby('cluster').agg(['count', 'mean', 'median']).T"
      ],
      "metadata": {
        "id": "kowgoJzl5RWq"
      },
      "execution_count": null,
      "outputs": []
    },
    {
      "cell_type": "code",
      "source": [
        "cols=['Calories', 'Total Fat (g)', 'Trans Fat (g)', 'Carbohydrates (g)', 'Sugars (g)', 'Protein (g)']\n",
        "fig, ax = plt.subplots(nrows=2, ncols=3, figsize=(20, 9))\n",
        "ax=ax.ravel()\n",
        "for i, col in enumerate(cols):\n",
        "    sns.violinplot(x='cluster', y=col, data=df, ax=ax[i])\n"
      ],
      "metadata": {
        "id": "jVHz7pIU5R9Y"
      },
      "execution_count": null,
      "outputs": []
    },
    {
      "cell_type": "code",
      "source": [
        "dx=X\n",
        "dx['cluster']=hc.labels_\n"
      ],
      "metadata": {
        "id": "bebrsWBE5YeI"
      },
      "execution_count": null,
      "outputs": []
    },
    {
      "cell_type": "code",
      "source": [
        "df.groupby('cluster').head(3).sort_values('cluster')"
      ],
      "metadata": {
        "id": "17RWvYkY5ZCh"
      },
      "execution_count": null,
      "outputs": []
    },
    {
      "cell_type": "markdown",
      "source": [
        "#**Scikit-learn: KMeans Clustering**"
      ],
      "metadata": {
        "id": "RRFXtNcW5bVo"
      }
    },
    {
      "cell_type": "code",
      "source": [
        "from sklearn.cluster import KMeans"
      ],
      "metadata": {
        "id": "NpN8uPt55flg"
      },
      "execution_count": null,
      "outputs": []
    },
    {
      "cell_type": "code",
      "source": [
        "model = KMeans(n_clusters=2)\n",
        "model\n"
      ],
      "metadata": {
        "id": "iog4b0vY5iN4"
      },
      "execution_count": null,
      "outputs": []
    },
    {
      "cell_type": "code",
      "source": [
        "# X=df[cols]"
      ],
      "metadata": {
        "id": "TkfAD_LT5l7R"
      },
      "execution_count": null,
      "outputs": []
    },
    {
      "cell_type": "code",
      "source": [
        "model.fit(X)"
      ],
      "metadata": {
        "id": "xz95OScN5mop"
      },
      "execution_count": null,
      "outputs": []
    },
    {
      "cell_type": "code",
      "source": [
        "model.labels_"
      ],
      "metadata": {
        "id": "qFl7LJyF5oOB"
      },
      "execution_count": null,
      "outputs": []
    },
    {
      "cell_type": "code",
      "source": [
        "df['cluster_kmeans']=model.labels_"
      ],
      "metadata": {
        "id": "OhAJTEsb5pxC"
      },
      "execution_count": null,
      "outputs": []
    },
    {
      "cell_type": "code",
      "source": [
        "df.head()"
      ],
      "metadata": {
        "id": "Ti58ee5-5r_x"
      },
      "execution_count": null,
      "outputs": []
    }
  ]
}